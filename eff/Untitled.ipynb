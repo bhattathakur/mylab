{
 "cells": [
  {
   "cell_type": "markdown",
   "metadata": {},
   "source": [
    "# This program plots the calculated efficiency, simulated efficiency and difference of efficiencies vs Energy."
   ]
  },
  {
   "cell_type": "code",
   "execution_count": 3,
   "metadata": {},
   "outputs": [],
   "source": [
    "#import libraries\n",
    "import numpy as np\n",
    "import matplotlib.pyplot as plt\n",
    "import pandas as pd\n"
   ]
  },
  {
   "cell_type": "code",
   "execution_count": 6,
   "metadata": {},
   "outputs": [],
   "source": [
    "#calculated and simulated efficiency files\n",
    "\n",
    "cal_eff=\"ba133en_eff_error.csv\"\n",
    "sim_eff=\"ba133simulation.csv\"\n",
    "df1=pd.read_csv(cal_eff)\n",
    "df2=pd.read_csv(sim_eff)\n"
   ]
  },
  {
   "cell_type": "code",
   "execution_count": 7,
   "metadata": {},
   "outputs": [
    {
     "data": {
      "text/html": [
       "<div>\n",
       "<style scoped>\n",
       "    .dataframe tbody tr th:only-of-type {\n",
       "        vertical-align: middle;\n",
       "    }\n",
       "\n",
       "    .dataframe tbody tr th {\n",
       "        vertical-align: top;\n",
       "    }\n",
       "\n",
       "    .dataframe thead th {\n",
       "        text-align: right;\n",
       "    }\n",
       "</style>\n",
       "<table border=\"1\" class=\"dataframe\">\n",
       "  <thead>\n",
       "    <tr style=\"text-align: right;\">\n",
       "      <th></th>\n",
       "      <th>energy</th>\n",
       "      <th>eff</th>\n",
       "      <th>eff_error</th>\n",
       "    </tr>\n",
       "  </thead>\n",
       "  <tbody>\n",
       "    <tr>\n",
       "      <th>0</th>\n",
       "      <td>53.1622</td>\n",
       "      <td>0.003231</td>\n",
       "      <td>0.000081</td>\n",
       "    </tr>\n",
       "    <tr>\n",
       "      <th>1</th>\n",
       "      <td>302.8510</td>\n",
       "      <td>0.002195</td>\n",
       "      <td>0.000035</td>\n",
       "    </tr>\n",
       "    <tr>\n",
       "      <th>2</th>\n",
       "      <td>356.0130</td>\n",
       "      <td>0.001989</td>\n",
       "      <td>0.000031</td>\n",
       "    </tr>\n",
       "    <tr>\n",
       "      <th>3</th>\n",
       "      <td>383.8485</td>\n",
       "      <td>0.001909</td>\n",
       "      <td>0.000034</td>\n",
       "    </tr>\n",
       "  </tbody>\n",
       "</table>\n",
       "</div>"
      ],
      "text/plain": [
       "     energy       eff  eff_error\n",
       "0   53.1622  0.003231   0.000081\n",
       "1  302.8510  0.002195   0.000035\n",
       "2  356.0130  0.001989   0.000031\n",
       "3  383.8485  0.001909   0.000034"
      ]
     },
     "execution_count": 7,
     "metadata": {},
     "output_type": "execute_result"
    }
   ],
   "source": [
    "df1"
   ]
  },
  {
   "cell_type": "code",
   "execution_count": 16,
   "metadata": {},
   "outputs": [
    {
     "data": {
      "text/plain": [
       "0   -0.003137\n",
       "1   -0.001636\n",
       "2   -0.000303\n",
       "3   -0.001675\n",
       "dtype: float64"
      ]
     },
     "execution_count": 16,
     "metadata": {},
     "output_type": "execute_result"
    }
   ],
   "source": [
    "df2.efficiency-df1.eff"
   ]
  },
  {
   "cell_type": "code",
   "execution_count": 46,
   "metadata": {},
   "outputs": [
    {
     "data": {
      "image/png": "[encoded data removed]",
      "text/plain": [
       "<Figure size 432x288 with 2 Axes>"
      ]
     },
     "metadata": {
      "needs_background": "light"
     },
     "output_type": "display_data"
    }
   ],
   "source": [
    "#plotting the energy vs efficiencies\n",
    "fig,ax=plt.subplots(2)\n",
    "\n",
    "#first subplot\n",
    "ax[0].plot(df2.Energy,df2.efficiency,'r.',label='simulated eff')\n",
    "#ax[0].plot(df2.Energy,df1.eff,'b.',label='measured eff')\n",
    "ax[0].errorbar(df2.Energy,df1.eff,yerr=df1.eff_error,fmt='b.',label='meaured eff')\n",
    "ax[0].set_title('Efficiencies vs Energy')\n",
    "ax[0].set_xlabel(\"Energy (keV)\")\n",
    "ax[0].set_ylabel(\"Efficiency\")\n",
    "ax[0].legend(loc='upper center',frameon=False)\n",
    "\n",
    "#second subplot\n",
    "ax[1].plot(df2.Energy,df1.eff-df2.efficiency,'k.',label='measured-simulated')\n",
    "ax[1].set_xlabel(\"Energy (keV)\")\n",
    "ax[1].set_ylabel(\"Eff diff\")\n",
    "ax[1].legend()\n",
    "#ax1.xlabel('Energy (keV)')\n",
    "#plt.ylabel('')\n",
    "\n",
    "fig.tight_layout()\n",
    "plt.savefig(\"test.pdf\")"
   ]
  },
  {
   "cell_type": "code",
   "execution_count": null,
   "metadata": {},
   "outputs": [],
   "source": []
  }
 ],
 "metadata": {
  "kernelspec": {
   "display_name": "Python 3",
   "language": "python",
   "name": "python3"
  },
  "language_info": {
   "codemirror_mode": {
    "name": "ipython",
    "version": 3
   },
   "file_extension": ".py",
   "mimetype": "text/x-python",
   "name": "python",
   "nbconvert_exporter": "python",
   "pygments_lexer": "ipython3",
   "version": "3.8.10"
  }
 },
 "nbformat": 4,
 "nbformat_minor": 4
}
