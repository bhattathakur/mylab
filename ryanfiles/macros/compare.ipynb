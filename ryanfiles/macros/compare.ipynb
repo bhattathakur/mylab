{
 "cells": [
  {
   "cell_type": "code",
   "execution_count": 1,
   "id": "9cc73f59-c312-45f5-97cd-4825f6ce6ced",
   "metadata": {},
   "outputs": [],
   "source": [
    "import pandas as pd\n",
    "import matplotlib.pyplot as plt"
   ]
  },
  {
   "cell_type": "markdown",
   "id": "965f74f1-1373-49d7-adf8-6f377f1a34ff",
   "metadata": {},
   "source": [
    "# Default Dead Layer\n",
    "### fDeadLayerSideThickness: 1.65   mm \n",
    "### fDeadLayerTopThickness:  0.0004 mm\n",
    "# Dead Layer ~0\n",
    "### fDeadLayerSideThickness: 0.0004 mm \n",
    "### fDeadLayerTopThickness:  0.0004 mm"
   ]
  },
  {
   "cell_type": "code",
   "execution_count": 45,
   "id": "1e80eb21-37fc-4d21-ba51-2d1f7d9b5ec3",
   "metadata": {},
   "outputs": [
    {
     "data": {
      "text/html": [
       "<div>\n",
       "<style scoped>\n",
       "    .dataframe tbody tr th:only-of-type {\n",
       "        vertical-align: middle;\n",
       "    }\n",
       "\n",
       "    .dataframe tbody tr th {\n",
       "        vertical-align: top;\n",
       "    }\n",
       "\n",
       "    .dataframe thead th {\n",
       "        text-align: right;\n",
       "    }\n",
       "</style>\n",
       "<table border=\"1\" class=\"dataframe\">\n",
       "  <thead>\n",
       "    <tr style=\"text-align: right;\">\n",
       "      <th></th>\n",
       "      <th>position</th>\n",
       "      <th>d0eff</th>\n",
       "      <th>d0error</th>\n",
       "      <th>defaulteff</th>\n",
       "      <th>defaulterror</th>\n",
       "    </tr>\n",
       "  </thead>\n",
       "  <tbody>\n",
       "    <tr>\n",
       "      <th>0</th>\n",
       "      <td>door</td>\n",
       "      <td>2.052909</td>\n",
       "      <td>0.050229</td>\n",
       "      <td>2.284637</td>\n",
       "      <td>0.059982</td>\n",
       "    </tr>\n",
       "    <tr>\n",
       "      <th>1</th>\n",
       "      <td>corner</td>\n",
       "      <td>1.097233</td>\n",
       "      <td>0.036946</td>\n",
       "      <td>4.615716</td>\n",
       "      <td>0.189016</td>\n",
       "    </tr>\n",
       "    <tr>\n",
       "      <th>2</th>\n",
       "      <td>frontleftcorner</td>\n",
       "      <td>1.933231</td>\n",
       "      <td>0.072544</td>\n",
       "      <td>2.268874</td>\n",
       "      <td>0.087574</td>\n",
       "    </tr>\n",
       "  </tbody>\n",
       "</table>\n",
       "</div>"
      ],
      "text/plain": [
       "          position     d0eff   d0error  defaulteff  defaulterror\n",
       "0             door  2.052909  0.050229    2.284637      0.059982\n",
       "1           corner  1.097233  0.036946    4.615716      0.189016\n",
       "2  frontleftcorner  1.933231  0.072544    2.268874      0.087574"
      ]
     },
     "execution_count": 45,
     "metadata": {},
     "output_type": "execute_result"
    }
   ],
   "source": [
    "df=pd.read_csv('/home/thakur/mylab/ryanfiles/macros/door_corner_frontleftcorner_eff.csv')\n",
    "df"
   ]
  },
  {
   "cell_type": "code",
   "execution_count": 105,
   "id": "855d1b06-62e5-4d7b-bbcb-42d8817c0f51",
   "metadata": {},
   "outputs": [
    {
     "data": {
      "image/png": "[encoded data removed]",
      "text/plain": [
       "<Figure size 720x576 with 2 Axes>"
      ]
     },
     "metadata": {
      "needs_background": "light"
     },
     "output_type": "display_data"
    }
   ],
   "source": [
    "%matplotlib inline\n",
    "#%matplotlib qt\n",
    "gamma=r'(46.5390 keV $\\gamma$ [Pb-210])'\n",
    "fig,axes=plt.subplots(2,1,figsize=(10,8))\n",
    "plt.setp(axes, xticks=[1, 2, 3], xticklabels=df.position.to_list())\n",
    "axes[0].errorbar([1,2,3],df.d0eff,yerr=df.d0error,ecolor='r',fmt='b.')\n",
    "axes[0].set_title('Dead layer0 '+gamma)\n",
    "axes[0].set_ylabel(\"Data/Simulation\")\n",
    "axes[0].set_ylim(0,3)\n",
    "axes[1].errorbar([1,2,3],df.defaulteff,yerr=df.defaulterror,ecolor='r',fmt='b.')\n",
    "axes[1].set_title('Default Dead layer '+gamma)\n",
    "axes[1].set_ylabel(\"Data/Simulation\")\n",
    "axes[1].set_ylim(0,5)\n",
    "fig.tight_layout()\n",
    "plt.savefig(\"defaultdead.pdf\",dpi=300)\n",
    "plt.show()"
   ]
  },
  {
   "cell_type": "markdown",
   "id": "dca4a715-e91d-4053-b9fc-97510b09ac94",
   "metadata": {
    "tags": []
   },
   "source": [
    "# simulations with source at door (in source code)\n",
    "# mac position at frontleftcorner\n",
    "# geiv_frontleftcorner_data"
   ]
  },
  {
   "cell_type": "code",
   "execution_count": 3,
   "id": "3d54ac8d-b84d-45f3-bfae-e1ab5169f55e",
   "metadata": {},
   "outputs": [],
   "source": [
    "door_frontleftcorner_confine_deadlayer0=[0.740 ,0.027] #[1.417398e+00,3.473166e-02]\n",
    "door_frontleftcorner_noconfine_deadlayer0=[0.740,0.027] #[1.416836e+00,3.480910e-02]\n",
    "door_frontleftcorner_confine_deadlayerdefault=[ 0.844, 0.031]\n",
    "door_frontleftcorner_noconfine_deadlayerdefault=[0.850,0.031]\n",
    "\n",
    "\n"
   ]
  },
  {
   "cell_type": "code",
   "execution_count": 4,
   "id": "a48e7218-35b2-48af-8059-9c6b731be1ec",
   "metadata": {},
   "outputs": [
    {
     "data": {
      "text/html": [
       "<div>\n",
       "<style scoped>\n",
       "    .dataframe tbody tr th:only-of-type {\n",
       "        vertical-align: middle;\n",
       "    }\n",
       "\n",
       "    .dataframe tbody tr th {\n",
       "        vertical-align: top;\n",
       "    }\n",
       "\n",
       "    .dataframe thead th {\n",
       "        text-align: right;\n",
       "    }\n",
       "</style>\n",
       "<table border=\"1\" class=\"dataframe\">\n",
       "  <thead>\n",
       "    <tr style=\"text-align: right;\">\n",
       "      <th></th>\n",
       "      <th>correction_eff (data/simulation)</th>\n",
       "      <th>eff_error</th>\n",
       "    </tr>\n",
       "  </thead>\n",
       "  <tbody>\n",
       "    <tr>\n",
       "      <th>confine_deadlayer0</th>\n",
       "      <td>0.740</td>\n",
       "      <td>0.027</td>\n",
       "    </tr>\n",
       "    <tr>\n",
       "      <th>noconfine_deadlayer0</th>\n",
       "      <td>0.740</td>\n",
       "      <td>0.027</td>\n",
       "    </tr>\n",
       "    <tr>\n",
       "      <th>confine_deadlayerdefault</th>\n",
       "      <td>0.844</td>\n",
       "      <td>0.031</td>\n",
       "    </tr>\n",
       "    <tr>\n",
       "      <th>noconfine_deadlayerdefault</th>\n",
       "      <td>0.850</td>\n",
       "      <td>0.031</td>\n",
       "    </tr>\n",
       "  </tbody>\n",
       "</table>\n",
       "</div>"
      ],
      "text/plain": [
       "                            correction_eff (data/simulation)  eff_error\n",
       "confine_deadlayer0                                     0.740      0.027\n",
       "noconfine_deadlayer0                                   0.740      0.027\n",
       "confine_deadlayerdefault                               0.844      0.031\n",
       "noconfine_deadlayerdefault                             0.850      0.031"
      ]
     },
     "execution_count": 4,
     "metadata": {},
     "output_type": "execute_result"
    }
   ],
   "source": [
    "index=['confine_deadlayer0','noconfine_deadlayer0','confine_deadlayerdefault','noconfine_deadlayerdefault']\n",
    "columns=['correction_eff (data/simulation)','eff_error']\n",
    "pd.DataFrame([door_frontleftcorner_confine_deadlayer0,door_frontleftcorner_noconfine_deadlayer0,door_frontleftcorner_confine_deadlayerdefault,door_frontleftcorner_noconfine_deadlayerdefault],index=index,columns=columns)"
   ]
  },
  {
   "cell_type": "markdown",
   "id": "3d660d5b-c422-4beb-855c-1bc619db6a44",
   "metadata": {
    "tags": []
   },
   "source": [
    "# simulations with source at frontleftcorner (source code)\n",
    "# mac position at door\n",
    "# geiv_door_data"
   ]
  },
  {
   "cell_type": "code",
   "execution_count": 5,
   "id": "ab16920e-fa98-4e1e-9f6c-184c3913c655",
   "metadata": {},
   "outputs": [],
   "source": [
    "frontleftcorner_door_no_confine_defaultdeadlayer=[0.852,0.020] #eff, error\n",
    "frontleftcorner_door_confine_ic_defaultdeadlayer=[0.853,0.021]\n",
    "frontleftcorner_door_nodefaultdeadlayer=[0.788,0.019]\n",
    "frontleftcorner_door_confine_ic_nodefaultdeadlayer=[0.784,0.019]\n",
    "front_left_corner=[frontleftcorner_door_no_confine_defaultdeadlayer,frontleftcorner_door_confine_ic_defaultdeadlayer,\\\n",
    "                   frontleftcorner_door_nodefaultdeadlayer,frontleftcorner_door_confine_ic_nodefaultdeadlayer]"
   ]
  },
  {
   "cell_type": "code",
   "execution_count": 6,
   "id": "22c7e043-b3f8-4fe2-b8e3-36bdec59fd68",
   "metadata": {},
   "outputs": [],
   "source": [
    "sim_rows=['frontleftcorner-door-confine-ic-nodefaultdeadlayer','frontleftcorner-door-confine-ic-defaultdeadlayer','frontleftcorner-door-nodefaultdeadlayer','frontleftcorner-door-confine-ic-nodefaultdeadlayer']"
   ]
  },
  {
   "cell_type": "code",
   "execution_count": 7,
   "id": "d5749000-9061-4218-be02-c1263c74b9a9",
   "metadata": {},
   "outputs": [],
   "source": [
    "columns=['correction_eff(data/simulation)','eff_error']"
   ]
  },
  {
   "cell_type": "code",
   "execution_count": 8,
   "id": "bf2833fb-6898-49cf-8ff9-2c634e3d21e0",
   "metadata": {},
   "outputs": [
    {
     "data": {
      "text/html": [
       "<div>\n",
       "<style scoped>\n",
       "    .dataframe tbody tr th:only-of-type {\n",
       "        vertical-align: middle;\n",
       "    }\n",
       "\n",
       "    .dataframe tbody tr th {\n",
       "        vertical-align: top;\n",
       "    }\n",
       "\n",
       "    .dataframe thead th {\n",
       "        text-align: right;\n",
       "    }\n",
       "</style>\n",
       "<table border=\"1\" class=\"dataframe\">\n",
       "  <thead>\n",
       "    <tr style=\"text-align: right;\">\n",
       "      <th></th>\n",
       "      <th>correction_eff(data/simulation)</th>\n",
       "      <th>eff_error</th>\n",
       "    </tr>\n",
       "  </thead>\n",
       "  <tbody>\n",
       "    <tr>\n",
       "      <th>frontleftcorner-door-confine-ic-nodefaultdeadlayer</th>\n",
       "      <td>0.852</td>\n",
       "      <td>0.020</td>\n",
       "    </tr>\n",
       "    <tr>\n",
       "      <th>frontleftcorner-door-confine-ic-defaultdeadlayer</th>\n",
       "      <td>0.853</td>\n",
       "      <td>0.021</td>\n",
       "    </tr>\n",
       "    <tr>\n",
       "      <th>frontleftcorner-door-nodefaultdeadlayer</th>\n",
       "      <td>0.788</td>\n",
       "      <td>0.019</td>\n",
       "    </tr>\n",
       "    <tr>\n",
       "      <th>frontleftcorner-door-confine-ic-nodefaultdeadlayer</th>\n",
       "      <td>0.784</td>\n",
       "      <td>0.019</td>\n",
       "    </tr>\n",
       "  </tbody>\n",
       "</table>\n",
       "</div>"
      ],
      "text/plain": [
       "                                                    correction_eff(data/simulation)  \\\n",
       "frontleftcorner-door-confine-ic-nodefaultdeadlayer                            0.852   \n",
       "frontleftcorner-door-confine-ic-defaultdeadlayer                              0.853   \n",
       "frontleftcorner-door-nodefaultdeadlayer                                       0.788   \n",
       "frontleftcorner-door-confine-ic-nodefaultdeadlayer                            0.784   \n",
       "\n",
       "                                                    eff_error  \n",
       "frontleftcorner-door-confine-ic-nodefaultdeadlayer      0.020  \n",
       "frontleftcorner-door-confine-ic-defaultdeadlayer        0.021  \n",
       "frontleftcorner-door-nodefaultdeadlayer                 0.019  \n",
       "frontleftcorner-door-confine-ic-nodefaultdeadlayer      0.019  "
      ]
     },
     "execution_count": 8,
     "metadata": {},
     "output_type": "execute_result"
    }
   ],
   "source": [
    "df=pd.DataFrame(front_left_corner,sim_rows,columns)\n",
    "df"
   ]
  },
  {
   "cell_type": "code",
   "execution_count": 9,
   "id": "4b13fdef-596b-415a-9caa-30880fc275b5",
   "metadata": {},
   "outputs": [],
   "source": [
    "eff=df['correction_eff(data/simulation)'];error=df['eff_error']"
   ]
  },
  {
   "cell_type": "code",
   "execution_count": null,
   "id": "cf105ecf-0b7a-479c-af68-c99981a77323",
   "metadata": {},
   "outputs": [],
   "source": []
  },
  {
   "cell_type": "code",
   "execution_count": null,
   "id": "1d9e53b8-fc44-408d-9f88-fbc519c4ca8a",
   "metadata": {},
   "outputs": [],
   "source": []
  }
 ],
 "metadata": {
  "kernelspec": {
   "display_name": "Python 3",
   "language": "python",
   "name": "python3"
  },
  "language_info": {
   "codemirror_mode": {
    "name": "ipython",
    "version": 3
   },
   "file_extension": ".py",
   "mimetype": "text/x-python",
   "name": "python",
   "nbconvert_exporter": "python",
   "pygments_lexer": "ipython3",
   "version": "3.8.10"
  }
 },
 "nbformat": 4,
 "nbformat_minor": 5
}
