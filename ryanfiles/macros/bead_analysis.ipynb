{
 "cells": [
  {
   "cell_type": "code",
   "execution_count": 1,
   "id": "aaa1278e-bba3-4318-8deb-3a918b37eeb5",
   "metadata": {},
   "outputs": [],
   "source": [
    "import numpy as np\n",
    "import pandas as pd\n",
    "import matplotlib.pyplot as plt\n",
    "from mpl_toolkits import mplot3d\n"
   ]
  },
  {
   "cell_type": "code",
   "execution_count": 2,
   "id": "2038bc89-c577-48f6-9ab2-a7f504547149",
   "metadata": {},
   "outputs": [],
   "source": [
    "trials=100_00_00       #total simulated events\n",
    "low=-1;high=1;interval=high-low\n",
    "test=interval*np.random.rand(trials,3)+low\n",
    "#test\n",
    "x=test[:,0]\n",
    "y=test[:,1]\n",
    "z=test[:,2]"
   ]
  },
  {
   "cell_type": "code",
   "execution_count": 3,
   "id": "bebe4af8-7052-4957-a7f0-9a7627704363",
   "metadata": {},
   "outputs": [
    {
     "data": {
      "text/plain": [
       "array([-0.79904787,  0.08967453, -0.83482218, ..., -0.45231481,\n",
       "        0.5463    , -0.8096832 ])"
      ]
     },
     "execution_count": 3,
     "metadata": {},
     "output_type": "execute_result"
    }
   ],
   "source": [
    "x"
   ]
  },
  {
   "cell_type": "code",
   "execution_count": 4,
   "id": "5bd1dc24-23f9-466a-9301-18e1061414b2",
   "metadata": {},
   "outputs": [
    {
     "data": {
      "text/plain": [
       "array([ 0.91294816, -0.98654293,  0.0244526 , ...,  0.61600121,\n",
       "       -0.34169503,  0.04360177])"
      ]
     },
     "execution_count": 4,
     "metadata": {},
     "output_type": "execute_result"
    }
   ],
   "source": [
    "y"
   ]
  },
  {
   "cell_type": "code",
   "execution_count": 5,
   "id": "435076d9-bc59-488d-a2f8-448c6750bb7b",
   "metadata": {},
   "outputs": [
    {
     "data": {
      "text/plain": [
       "array([-0.64016486, -0.1001478 , -0.67056954, ..., -0.26322895,\n",
       "        0.53330233, -0.23771131])"
      ]
     },
     "execution_count": 5,
     "metadata": {},
     "output_type": "execute_result"
    }
   ],
   "source": [
    "z"
   ]
  },
  {
   "cell_type": "code",
   "execution_count": 6,
   "id": "f6d91c01-c2de-4040-9019-c2914e31302b",
   "metadata": {},
   "outputs": [
    {
     "data": {
      "text/plain": [
       "array([1.37177363, 0.99565961, 1.07106933, ..., 0.80829182, 0.83642726,\n",
       "       0.84498205])"
      ]
     },
     "execution_count": 6,
     "metadata": {},
     "output_type": "execute_result"
    }
   ],
   "source": [
    "\n",
    "r=np.sqrt(x**2+y**2+z**2)\n",
    "r"
   ]
  },
  {
   "cell_type": "code",
   "execution_count": 7,
   "id": "101ef693-886a-48f3-aca5-a754d95b4932",
   "metadata": {},
   "outputs": [],
   "source": [
    "test=np.column_stack((test,r))"
   ]
  },
  {
   "cell_type": "code",
   "execution_count": 8,
   "id": "3dc9bc9b-2c4e-4de6-9f37-a28f18645210",
   "metadata": {},
   "outputs": [
    {
     "data": {
      "text/html": [
       "<div>\n",
       "<style scoped>\n",
       "    .dataframe tbody tr th:only-of-type {\n",
       "        vertical-align: middle;\n",
       "    }\n",
       "\n",
       "    .dataframe tbody tr th {\n",
       "        vertical-align: top;\n",
       "    }\n",
       "\n",
       "    .dataframe thead th {\n",
       "        text-align: right;\n",
       "    }\n",
       "</style>\n",
       "<table border=\"1\" class=\"dataframe\">\n",
       "  <thead>\n",
       "    <tr style=\"text-align: right;\">\n",
       "      <th></th>\n",
       "      <th>x</th>\n",
       "      <th>y</th>\n",
       "      <th>z</th>\n",
       "      <th>r</th>\n",
       "    </tr>\n",
       "  </thead>\n",
       "  <tbody>\n",
       "    <tr>\n",
       "      <th>0</th>\n",
       "      <td>-0.799048</td>\n",
       "      <td>0.912948</td>\n",
       "      <td>-0.640165</td>\n",
       "      <td>1.371774</td>\n",
       "    </tr>\n",
       "    <tr>\n",
       "      <th>1</th>\n",
       "      <td>0.089675</td>\n",
       "      <td>-0.986543</td>\n",
       "      <td>-0.100148</td>\n",
       "      <td>0.995660</td>\n",
       "    </tr>\n",
       "    <tr>\n",
       "      <th>2</th>\n",
       "      <td>-0.834822</td>\n",
       "      <td>0.024453</td>\n",
       "      <td>-0.670570</td>\n",
       "      <td>1.071069</td>\n",
       "    </tr>\n",
       "    <tr>\n",
       "      <th>3</th>\n",
       "      <td>-0.332600</td>\n",
       "      <td>-0.663478</td>\n",
       "      <td>-0.689743</td>\n",
       "      <td>1.013199</td>\n",
       "    </tr>\n",
       "    <tr>\n",
       "      <th>4</th>\n",
       "      <td>0.562297</td>\n",
       "      <td>-0.003648</td>\n",
       "      <td>0.957103</td>\n",
       "      <td>1.110062</td>\n",
       "    </tr>\n",
       "  </tbody>\n",
       "</table>\n",
       "</div>"
      ],
      "text/plain": [
       "          x         y         z         r\n",
       "0 -0.799048  0.912948 -0.640165  1.371774\n",
       "1  0.089675 -0.986543 -0.100148  0.995660\n",
       "2 -0.834822  0.024453 -0.670570  1.071069\n",
       "3 -0.332600 -0.663478 -0.689743  1.013199\n",
       "4  0.562297 -0.003648  0.957103  1.110062"
      ]
     },
     "execution_count": 8,
     "metadata": {},
     "output_type": "execute_result"
    }
   ],
   "source": [
    "df=pd.DataFrame(test,columns=['x','y','z','r']) #data frame with x,y,z and r\n",
    "df.head()"
   ]
  },
  {
   "cell_type": "code",
   "execution_count": 9,
   "id": "7cb0f7e2-aab6-4739-897b-b16ce5f6f20b",
   "metadata": {},
   "outputs": [
    {
     "data": {
      "text/plain": [
       "65218"
      ]
     },
     "execution_count": 9,
     "metadata": {},
     "output_type": "execute_result"
    }
   ],
   "source": [
    "df_less=df[df.r<0.5]          #data frame with r<0.5 (radius of the bead)\n",
    "df_less.head()\n",
    "total_counts=df_less.shape[0]\n",
    "total_counts"
   ]
  },
  {
   "cell_type": "code",
   "execution_count": 10,
   "id": "1480da98-6945-4c19-8ca0-e4c5c7049f5f",
   "metadata": {},
   "outputs": [],
   "source": [
    "# %matplotlib inline\n",
    "# fig = plt.figure()\n",
    "# ax = fig.add_subplot(projection='3d')\n",
    "# ax.scatter(df_less.x,df_less.y,df_less.z)"
   ]
  },
  {
   "cell_type": "code",
   "execution_count": 11,
   "id": "b3c5478d-71a0-41a8-8620-0640684ca499",
   "metadata": {},
   "outputs": [],
   "source": [
    "#this function give the normal distance from a point to the surface of the sphere\n",
    "\n",
    "def get_upward_distance(x,y,z,dz=0.001,r=0.5):\n",
    "    '''\n",
    "    returns normal distance from a point in the sphere to the surface as well as the z co-ordinate in the sphere\n",
    "    '''\n",
    "    #z=np.abs(z)\n",
    "    d=np.sqrt(x**2+y**2+z**2)\n",
    "    if z==-0.5: return 1.0,0.5\n",
    "    z_up=0\n",
    "    #print(f\"before while z_up: {z_up}\")\n",
    "    while(d<r):\n",
    "        z+=dz\n",
    "        #print(f\"Inside while z: {z}\")\n",
    "        z_up+=dz\n",
    "        d=np.sqrt(x**2+y**2+z**2)\n",
    "    #print(f\"after while z_up: {z_up}\")\n",
    "    return z_up,z\n",
    "        \n",
    "    "
   ]
  },
  {
   "cell_type": "code",
   "execution_count": 12,
   "id": "b679617f-38b0-4edd-872d-c2f580dbdd28",
   "metadata": {},
   "outputs": [
    {
     "name": "stderr",
     "output_type": "stream",
     "text": [
      "/tmp/ipykernel_107330/2709360843.py:3: SettingWithCopyWarning: \n",
      "A value is trying to be set on a copy of a slice from a DataFrame.\n",
      "Try using .loc[row_indexer,col_indexer] = value instead\n",
      "\n",
      "See the caveats in the documentation: https://pandas.pydata.org/pandas-docs/stable/user_guide/indexing.html#returning-a-view-versus-a-copy\n",
      "  df_less['z_new']=df_less.apply(lambda x:get_upward_distance(x['x'],x['y'],x['z'])[1],axis=1)\n",
      "/tmp/ipykernel_107330/2709360843.py:4: SettingWithCopyWarning: \n",
      "A value is trying to be set on a copy of a slice from a DataFrame.\n",
      "Try using .loc[row_indexer,col_indexer] = value instead\n",
      "\n",
      "See the caveats in the documentation: https://pandas.pydata.org/pandas-docs/stable/user_guide/indexing.html#returning-a-view-versus-a-copy\n",
      "  df_less['d_bead']=df_less.apply(lambda x:get_upward_distance(x['x'],x['y'],x['z'])[0],axis=1)\n"
     ]
    },
    {
     "data": {
      "text/html": [
       "<div>\n",
       "<style scoped>\n",
       "    .dataframe tbody tr th:only-of-type {\n",
       "        vertical-align: middle;\n",
       "    }\n",
       "\n",
       "    .dataframe tbody tr th {\n",
       "        vertical-align: top;\n",
       "    }\n",
       "\n",
       "    .dataframe thead th {\n",
       "        text-align: right;\n",
       "    }\n",
       "</style>\n",
       "<table border=\"1\" class=\"dataframe\">\n",
       "  <thead>\n",
       "    <tr style=\"text-align: right;\">\n",
       "      <th></th>\n",
       "      <th>x</th>\n",
       "      <th>y</th>\n",
       "      <th>z</th>\n",
       "      <th>r</th>\n",
       "      <th>z_new</th>\n",
       "      <th>d_bead</th>\n",
       "    </tr>\n",
       "  </thead>\n",
       "  <tbody>\n",
       "    <tr>\n",
       "      <th>11</th>\n",
       "      <td>0.307446</td>\n",
       "      <td>0.109184</td>\n",
       "      <td>-0.214118</td>\n",
       "      <td>0.390245</td>\n",
       "      <td>0.379882</td>\n",
       "      <td>0.594</td>\n",
       "    </tr>\n",
       "    <tr>\n",
       "      <th>24</th>\n",
       "      <td>0.056229</td>\n",
       "      <td>0.177338</td>\n",
       "      <td>0.117494</td>\n",
       "      <td>0.220035</td>\n",
       "      <td>0.464494</td>\n",
       "      <td>0.347</td>\n",
       "    </tr>\n",
       "    <tr>\n",
       "      <th>39</th>\n",
       "      <td>-0.208893</td>\n",
       "      <td>0.292758</td>\n",
       "      <td>-0.097183</td>\n",
       "      <td>0.372543</td>\n",
       "      <td>0.347817</td>\n",
       "      <td>0.445</td>\n",
       "    </tr>\n",
       "    <tr>\n",
       "      <th>46</th>\n",
       "      <td>-0.359449</td>\n",
       "      <td>-0.203552</td>\n",
       "      <td>0.130965</td>\n",
       "      <td>0.433346</td>\n",
       "      <td>0.281965</td>\n",
       "      <td>0.151</td>\n",
       "    </tr>\n",
       "    <tr>\n",
       "      <th>68</th>\n",
       "      <td>0.176059</td>\n",
       "      <td>-0.111991</td>\n",
       "      <td>0.265345</td>\n",
       "      <td>0.337560</td>\n",
       "      <td>0.455345</td>\n",
       "      <td>0.190</td>\n",
       "    </tr>\n",
       "  </tbody>\n",
       "</table>\n",
       "</div>"
      ],
      "text/plain": [
       "           x         y         z         r     z_new  d_bead\n",
       "11  0.307446  0.109184 -0.214118  0.390245  0.379882   0.594\n",
       "24  0.056229  0.177338  0.117494  0.220035  0.464494   0.347\n",
       "39 -0.208893  0.292758 -0.097183  0.372543  0.347817   0.445\n",
       "46 -0.359449 -0.203552  0.130965  0.433346  0.281965   0.151\n",
       "68  0.176059 -0.111991  0.265345  0.337560  0.455345   0.190"
      ]
     },
     "execution_count": 12,
     "metadata": {},
     "output_type": "execute_result"
    }
   ],
   "source": [
    "#distance travelled in the bead\n",
    "\n",
    "df_less['z_new']=df_less.apply(lambda x:get_upward_distance(x['x'],x['y'],x['z'])[1],axis=1)\n",
    "df_less['d_bead']=df_less.apply(lambda x:get_upward_distance(x['x'],x['y'],x['z'])[0],axis=1)\n",
    "df_less.head()"
   ]
  },
  {
   "cell_type": "code",
   "execution_count": 13,
   "id": "bec985d5-4823-4d84-a748-4df1086b496b",
   "metadata": {},
   "outputs": [
    {
     "name": "stderr",
     "output_type": "stream",
     "text": [
      "/tmp/ipykernel_107330/1364162647.py:3: SettingWithCopyWarning: \n",
      "A value is trying to be set on a copy of a slice from a DataFrame.\n",
      "Try using .loc[row_indexer,col_indexer] = value instead\n",
      "\n",
      "See the caveats in the documentation: https://pandas.pydata.org/pandas-docs/stable/user_guide/indexing.html#returning-a-view-versus-a-copy\n",
      "  df_less['d_button']=button_thickness/2.-df_less['z_new'] #Thickness of button is 3 mm and thickness above 0 is 1.5 mm\n"
     ]
    },
    {
     "data": {
      "text/html": [
       "<div>\n",
       "<style scoped>\n",
       "    .dataframe tbody tr th:only-of-type {\n",
       "        vertical-align: middle;\n",
       "    }\n",
       "\n",
       "    .dataframe tbody tr th {\n",
       "        vertical-align: top;\n",
       "    }\n",
       "\n",
       "    .dataframe thead th {\n",
       "        text-align: right;\n",
       "    }\n",
       "</style>\n",
       "<table border=\"1\" class=\"dataframe\">\n",
       "  <thead>\n",
       "    <tr style=\"text-align: right;\">\n",
       "      <th></th>\n",
       "      <th>x</th>\n",
       "      <th>y</th>\n",
       "      <th>z</th>\n",
       "      <th>r</th>\n",
       "      <th>z_new</th>\n",
       "      <th>d_bead</th>\n",
       "      <th>d_button</th>\n",
       "    </tr>\n",
       "  </thead>\n",
       "  <tbody>\n",
       "    <tr>\n",
       "      <th>11</th>\n",
       "      <td>0.307446</td>\n",
       "      <td>0.109184</td>\n",
       "      <td>-0.214118</td>\n",
       "      <td>0.390245</td>\n",
       "      <td>0.379882</td>\n",
       "      <td>0.594</td>\n",
       "      <td>1.120118</td>\n",
       "    </tr>\n",
       "    <tr>\n",
       "      <th>24</th>\n",
       "      <td>0.056229</td>\n",
       "      <td>0.177338</td>\n",
       "      <td>0.117494</td>\n",
       "      <td>0.220035</td>\n",
       "      <td>0.464494</td>\n",
       "      <td>0.347</td>\n",
       "      <td>1.035506</td>\n",
       "    </tr>\n",
       "    <tr>\n",
       "      <th>39</th>\n",
       "      <td>-0.208893</td>\n",
       "      <td>0.292758</td>\n",
       "      <td>-0.097183</td>\n",
       "      <td>0.372543</td>\n",
       "      <td>0.347817</td>\n",
       "      <td>0.445</td>\n",
       "      <td>1.152183</td>\n",
       "    </tr>\n",
       "    <tr>\n",
       "      <th>46</th>\n",
       "      <td>-0.359449</td>\n",
       "      <td>-0.203552</td>\n",
       "      <td>0.130965</td>\n",
       "      <td>0.433346</td>\n",
       "      <td>0.281965</td>\n",
       "      <td>0.151</td>\n",
       "      <td>1.218035</td>\n",
       "    </tr>\n",
       "    <tr>\n",
       "      <th>68</th>\n",
       "      <td>0.176059</td>\n",
       "      <td>-0.111991</td>\n",
       "      <td>0.265345</td>\n",
       "      <td>0.337560</td>\n",
       "      <td>0.455345</td>\n",
       "      <td>0.190</td>\n",
       "      <td>1.044655</td>\n",
       "    </tr>\n",
       "  </tbody>\n",
       "</table>\n",
       "</div>"
      ],
      "text/plain": [
       "           x         y         z         r     z_new  d_bead  d_button\n",
       "11  0.307446  0.109184 -0.214118  0.390245  0.379882   0.594  1.120118\n",
       "24  0.056229  0.177338  0.117494  0.220035  0.464494   0.347  1.035506\n",
       "39 -0.208893  0.292758 -0.097183  0.372543  0.347817   0.445  1.152183\n",
       "46 -0.359449 -0.203552  0.130965  0.433346  0.281965   0.151  1.218035\n",
       "68  0.176059 -0.111991  0.265345  0.337560  0.455345   0.190  1.044655"
      ]
     },
     "execution_count": 13,
     "metadata": {},
     "output_type": "execute_result"
    }
   ],
   "source": [
    "#distance travelled in the button\n",
    "button_thickness=3.0\n",
    "df_less['d_button']=button_thickness/2.-df_less['z_new'] #Thickness of button is 3 mm and thickness above 0 is 1.5 mm\n",
    "df_less.head()"
   ]
  },
  {
   "cell_type": "code",
   "execution_count": 14,
   "id": "c69432b9-cdbc-496f-984a-e2e8aff7093a",
   "metadata": {},
   "outputs": [
    {
     "data": {
      "text/html": [
       "<div>\n",
       "<style scoped>\n",
       "    .dataframe tbody tr th:only-of-type {\n",
       "        vertical-align: middle;\n",
       "    }\n",
       "\n",
       "    .dataframe tbody tr th {\n",
       "        vertical-align: top;\n",
       "    }\n",
       "\n",
       "    .dataframe thead th {\n",
       "        text-align: right;\n",
       "    }\n",
       "</style>\n",
       "<table border=\"1\" class=\"dataframe\">\n",
       "  <thead>\n",
       "    <tr style=\"text-align: right;\">\n",
       "      <th></th>\n",
       "      <th>x</th>\n",
       "      <th>y</th>\n",
       "      <th>z</th>\n",
       "      <th>r</th>\n",
       "      <th>z_new</th>\n",
       "      <th>d_bead</th>\n",
       "      <th>d_button</th>\n",
       "    </tr>\n",
       "  </thead>\n",
       "  <tbody>\n",
       "    <tr>\n",
       "      <th>11</th>\n",
       "      <td>0.030745</td>\n",
       "      <td>0.010918</td>\n",
       "      <td>-0.021412</td>\n",
       "      <td>0.039024</td>\n",
       "      <td>0.037988</td>\n",
       "      <td>0.0594</td>\n",
       "      <td>0.112012</td>\n",
       "    </tr>\n",
       "    <tr>\n",
       "      <th>24</th>\n",
       "      <td>0.005623</td>\n",
       "      <td>0.017734</td>\n",
       "      <td>0.011749</td>\n",
       "      <td>0.022004</td>\n",
       "      <td>0.046449</td>\n",
       "      <td>0.0347</td>\n",
       "      <td>0.103551</td>\n",
       "    </tr>\n",
       "    <tr>\n",
       "      <th>39</th>\n",
       "      <td>-0.020889</td>\n",
       "      <td>0.029276</td>\n",
       "      <td>-0.009718</td>\n",
       "      <td>0.037254</td>\n",
       "      <td>0.034782</td>\n",
       "      <td>0.0445</td>\n",
       "      <td>0.115218</td>\n",
       "    </tr>\n",
       "    <tr>\n",
       "      <th>46</th>\n",
       "      <td>-0.035945</td>\n",
       "      <td>-0.020355</td>\n",
       "      <td>0.013097</td>\n",
       "      <td>0.043335</td>\n",
       "      <td>0.028197</td>\n",
       "      <td>0.0151</td>\n",
       "      <td>0.121803</td>\n",
       "    </tr>\n",
       "    <tr>\n",
       "      <th>68</th>\n",
       "      <td>0.017606</td>\n",
       "      <td>-0.011199</td>\n",
       "      <td>0.026534</td>\n",
       "      <td>0.033756</td>\n",
       "      <td>0.045534</td>\n",
       "      <td>0.0190</td>\n",
       "      <td>0.104466</td>\n",
       "    </tr>\n",
       "  </tbody>\n",
       "</table>\n",
       "</div>"
      ],
      "text/plain": [
       "           x         y         z         r     z_new  d_bead  d_button\n",
       "11  0.030745  0.010918 -0.021412  0.039024  0.037988  0.0594  0.112012\n",
       "24  0.005623  0.017734  0.011749  0.022004  0.046449  0.0347  0.103551\n",
       "39 -0.020889  0.029276 -0.009718  0.037254  0.034782  0.0445  0.115218\n",
       "46 -0.035945 -0.020355  0.013097  0.043335  0.028197  0.0151  0.121803\n",
       "68  0.017606 -0.011199  0.026534  0.033756  0.045534  0.0190  0.104466"
      ]
     },
     "execution_count": 14,
     "metadata": {},
     "output_type": "execute_result"
    }
   ],
   "source": [
    "#changing mm to cm\n",
    "mm_to_cm=0.1\n",
    "df_less=df_less*mm_to_cm\n",
    "df_less.head()"
   ]
  },
  {
   "cell_type": "markdown",
   "id": "53223297-a21d-4b97-ae6c-686a80f4131f",
   "metadata": {},
   "source": [
    "$ P_{transmission} = e^{-\\frac{x}{\\lambda}} $ <br>\n",
    "\n",
    "x is thickness and $\\lambda$ is attenuation length\n",
    "<br> $\\lambda = \\frac{1}{\\rho \\cdot \\mu} $ <br>\n",
    "$ P_{transmission} = e^{-\\mu \\cdot \\rho \\cdot x} $ <br>\n",
    "\n",
    "$ \\mu $ ($cm^2/g$) <br> $ \\rho $ ($g/cm^3$) <br> $\\lambda (cm)$ <br>\n",
    "$ \\mu$ from https://physics.nist.gov/PhysRefData/Xcom/html/xcom1.html\n",
    "<br>\n",
    "Tranmission factor from: https://www.ezag.com/home/products/isotope_products/isotrak_calibration_sources/reference_sources/gamma_sources/point_sources/#c601"
   ]
  },
  {
   "cell_type": "markdown",
   "id": "2cefd469-e336-4214-b9c2-94e03bfce5e1",
   "metadata": {},
   "source": [
    "# fMaterialsManager->AddMaterial(\"Acrylic\",\"C5-H8-O2\",1.18*g/cm3,\"\")\n",
    "# ceramic: O7410-Na300-Ca60-Mg10-Al600-Si1600-Pb4\n"
   ]
  },
  {
   "cell_type": "markdown",
   "id": "e3102f3f-22b3-4e86-b095-55f69cb95be1",
   "metadata": {},
   "source": [
    "![image](beadcomposition.png)"
   ]
  },
  {
   "cell_type": "code",
   "execution_count": 69,
   "id": "dd79593e-e9ed-4ba1-92a6-641848b2de03",
   "metadata": {},
   "outputs": [],
   "source": [
    "#Probabality of scatering from the button\n",
    "button_density = 1#.18        #g/cm^3 (from simulation data)\n",
    "button_mu_pb   = 0.1976  # C5H8O2 for 47keV (0.047 MeV) gamma rays\n",
    "bead_mu_pb     = 3.195E-01   #47 keV pb-21O for ceramic=> O7410Na300Ca60Mg10Al600Si1600Pb4\n",
    "\n",
    "#trnasmission factors from manufacturer\n",
    "transmission_pb=0.964   #47 keV pb-210\n",
    "\n",
    "transmission_am=0.958   #60 keV am-241\n",
    "\n",
    "\n",
    "\n",
    "#button_mu_am=0.1815    #60 keV am-241\n",
    "#lambda calculation for acrylic button  (C5H802)\n",
    "#fMaterialsManager->AddMaterial(\"Acrylic\",\"C5-H8-O2\",1.18*g/cm3,\"\");\n",
    "#density is from oldmc\n",
    "\n",
    "\n",
    "\n",
    "\n",
    "def transmission_prob(x,mu,rho):\n",
    "    '''reutrns button transmission probability'''\n",
    "    #return (1-np.exp(-1.0*x*mu*rho))\n",
    "    return (np.exp(-1.0*x*mu*rho))\n",
    "\n",
    "    \n",
    "    \n",
    "    "
   ]
  },
  {
   "cell_type": "code",
   "execution_count": 70,
   "id": "e7378abf-f859-431e-886f-86f0a01353b4",
   "metadata": {},
   "outputs": [
    {
     "data": {
      "text/html": [
       "<div>\n",
       "<style scoped>\n",
       "    .dataframe tbody tr th:only-of-type {\n",
       "        vertical-align: middle;\n",
       "    }\n",
       "\n",
       "    .dataframe tbody tr th {\n",
       "        vertical-align: top;\n",
       "    }\n",
       "\n",
       "    .dataframe thead th {\n",
       "        text-align: right;\n",
       "    }\n",
       "</style>\n",
       "<table border=\"1\" class=\"dataframe\">\n",
       "  <thead>\n",
       "    <tr style=\"text-align: right;\">\n",
       "      <th></th>\n",
       "      <th>x</th>\n",
       "      <th>y</th>\n",
       "      <th>z</th>\n",
       "      <th>r</th>\n",
       "      <th>z_new</th>\n",
       "      <th>d_bead</th>\n",
       "      <th>d_button</th>\n",
       "      <th>button_transmission_prob</th>\n",
       "      <th>bead_transmission_prob</th>\n",
       "      <th>prob_product</th>\n",
       "    </tr>\n",
       "  </thead>\n",
       "  <tbody>\n",
       "    <tr>\n",
       "      <th>11</th>\n",
       "      <td>0.030745</td>\n",
       "      <td>0.010918</td>\n",
       "      <td>-0.021412</td>\n",
       "      <td>0.039024</td>\n",
       "      <td>0.037988</td>\n",
       "      <td>0.0594</td>\n",
       "      <td>0.112012</td>\n",
       "      <td>0.978110</td>\n",
       "      <td>0.894069</td>\n",
       "      <td>0.871021</td>\n",
       "    </tr>\n",
       "    <tr>\n",
       "      <th>24</th>\n",
       "      <td>0.005623</td>\n",
       "      <td>0.017734</td>\n",
       "      <td>0.011749</td>\n",
       "      <td>0.022004</td>\n",
       "      <td>0.046449</td>\n",
       "      <td>0.0347</td>\n",
       "      <td>0.103551</td>\n",
       "      <td>0.979746</td>\n",
       "      <td>0.936682</td>\n",
       "      <td>0.914337</td>\n",
       "    </tr>\n",
       "    <tr>\n",
       "      <th>39</th>\n",
       "      <td>-0.020889</td>\n",
       "      <td>0.029276</td>\n",
       "      <td>-0.009718</td>\n",
       "      <td>0.037254</td>\n",
       "      <td>0.034782</td>\n",
       "      <td>0.0445</td>\n",
       "      <td>0.115218</td>\n",
       "      <td>0.977490</td>\n",
       "      <td>0.919537</td>\n",
       "      <td>0.895163</td>\n",
       "    </tr>\n",
       "    <tr>\n",
       "      <th>46</th>\n",
       "      <td>-0.035945</td>\n",
       "      <td>-0.020355</td>\n",
       "      <td>0.013097</td>\n",
       "      <td>0.043335</td>\n",
       "      <td>0.028197</td>\n",
       "      <td>0.0151</td>\n",
       "      <td>0.121803</td>\n",
       "      <td>0.976219</td>\n",
       "      <td>0.971937</td>\n",
       "      <td>0.944722</td>\n",
       "    </tr>\n",
       "    <tr>\n",
       "      <th>68</th>\n",
       "      <td>0.017606</td>\n",
       "      <td>-0.011199</td>\n",
       "      <td>0.026534</td>\n",
       "      <td>0.033756</td>\n",
       "      <td>0.045534</td>\n",
       "      <td>0.0190</td>\n",
       "      <td>0.104466</td>\n",
       "      <td>0.979569</td>\n",
       "      <td>0.964818</td>\n",
       "      <td>0.941601</td>\n",
       "    </tr>\n",
       "  </tbody>\n",
       "</table>\n",
       "</div>"
      ],
      "text/plain": [
       "           x         y         z         r     z_new  d_bead  d_button  \\\n",
       "11  0.030745  0.010918 -0.021412  0.039024  0.037988  0.0594  0.112012   \n",
       "24  0.005623  0.017734  0.011749  0.022004  0.046449  0.0347  0.103551   \n",
       "39 -0.020889  0.029276 -0.009718  0.037254  0.034782  0.0445  0.115218   \n",
       "46 -0.035945 -0.020355  0.013097  0.043335  0.028197  0.0151  0.121803   \n",
       "68  0.017606 -0.011199  0.026534  0.033756  0.045534  0.0190  0.104466   \n",
       "\n",
       "    button_transmission_prob  bead_transmission_prob  prob_product  \n",
       "11                  0.978110                0.894069      0.871021  \n",
       "24                  0.979746                0.936682      0.914337  \n",
       "39                  0.977490                0.919537      0.895163  \n",
       "46                  0.976219                0.971937      0.944722  \n",
       "68                  0.979569                0.964818      0.941601  "
      ]
     },
     "execution_count": 70,
     "metadata": {},
     "output_type": "execute_result"
    }
   ],
   "source": [
    "#adding the transmississin though button\n",
    "df_less['button_transmission_prob']=df_less.apply(lambda x:transmission_prob(x['d_button'],button_mu_pb,button_density),axis=1)\n",
    "df_less.head()"
   ]
  },
  {
   "cell_type": "code",
   "execution_count": 71,
   "id": "5eff401b-035b-46c7-b259-b876b2a7be62",
   "metadata": {},
   "outputs": [],
   "source": [
    "#creating the random number bewteen 0 and 1, if the prob_product is greater than random number add 1 else add 0\n",
    "def random_assign(x):\n",
    "    if x>np.random.rand():\n",
    "        return 1\n",
    "    return 0\n",
    "    "
   ]
  },
  {
   "cell_type": "code",
   "execution_count": 75,
   "id": "f5e8e01e-2143-49cb-bc5a-afd93e18c5af",
   "metadata": {},
   "outputs": [
    {
     "data": {
      "text/html": [
       "<div>\n",
       "<style scoped>\n",
       "    .dataframe tbody tr th:only-of-type {\n",
       "        vertical-align: middle;\n",
       "    }\n",
       "\n",
       "    .dataframe tbody tr th {\n",
       "        vertical-align: top;\n",
       "    }\n",
       "\n",
       "    .dataframe thead th {\n",
       "        text-align: right;\n",
       "    }\n",
       "</style>\n",
       "<table border=\"1\" class=\"dataframe\">\n",
       "  <thead>\n",
       "    <tr style=\"text-align: right;\">\n",
       "      <th></th>\n",
       "      <th>x</th>\n",
       "      <th>y</th>\n",
       "      <th>z</th>\n",
       "      <th>r</th>\n",
       "      <th>z_new</th>\n",
       "      <th>d_bead</th>\n",
       "      <th>d_button</th>\n",
       "      <th>button_transmission_prob</th>\n",
       "      <th>bead_transmission_prob</th>\n",
       "      <th>prob_product</th>\n",
       "    </tr>\n",
       "  </thead>\n",
       "  <tbody>\n",
       "    <tr>\n",
       "      <th>11</th>\n",
       "      <td>0.030745</td>\n",
       "      <td>0.010918</td>\n",
       "      <td>-0.021412</td>\n",
       "      <td>0.039024</td>\n",
       "      <td>0.037988</td>\n",
       "      <td>0.0594</td>\n",
       "      <td>0.112012</td>\n",
       "      <td>0.978110</td>\n",
       "      <td>0.962755</td>\n",
       "      <td>0.963371</td>\n",
       "    </tr>\n",
       "    <tr>\n",
       "      <th>24</th>\n",
       "      <td>0.005623</td>\n",
       "      <td>0.017734</td>\n",
       "      <td>0.011749</td>\n",
       "      <td>0.022004</td>\n",
       "      <td>0.046449</td>\n",
       "      <td>0.0347</td>\n",
       "      <td>0.103551</td>\n",
       "      <td>0.979746</td>\n",
       "      <td>0.978071</td>\n",
       "      <td>0.971095</td>\n",
       "    </tr>\n",
       "    <tr>\n",
       "      <th>39</th>\n",
       "      <td>-0.020889</td>\n",
       "      <td>0.029276</td>\n",
       "      <td>-0.009718</td>\n",
       "      <td>0.037254</td>\n",
       "      <td>0.034782</td>\n",
       "      <td>0.0445</td>\n",
       "      <td>0.115218</td>\n",
       "      <td>0.977490</td>\n",
       "      <td>0.971965</td>\n",
       "      <td>0.966435</td>\n",
       "    </tr>\n",
       "    <tr>\n",
       "      <th>46</th>\n",
       "      <td>-0.035945</td>\n",
       "      <td>-0.020355</td>\n",
       "      <td>0.013097</td>\n",
       "      <td>0.043335</td>\n",
       "      <td>0.028197</td>\n",
       "      <td>0.0151</td>\n",
       "      <td>0.121803</td>\n",
       "      <td>0.976219</td>\n",
       "      <td>0.990398</td>\n",
       "      <td>0.972458</td>\n",
       "    </tr>\n",
       "    <tr>\n",
       "      <th>68</th>\n",
       "      <td>0.017606</td>\n",
       "      <td>-0.011199</td>\n",
       "      <td>0.026534</td>\n",
       "      <td>0.033756</td>\n",
       "      <td>0.045534</td>\n",
       "      <td>0.0190</td>\n",
       "      <td>0.104466</td>\n",
       "      <td>0.979569</td>\n",
       "      <td>0.987932</td>\n",
       "      <td>0.974824</td>\n",
       "    </tr>\n",
       "  </tbody>\n",
       "</table>\n",
       "</div>"
      ],
      "text/plain": [
       "           x         y         z         r     z_new  d_bead  d_button  \\\n",
       "11  0.030745  0.010918 -0.021412  0.039024  0.037988  0.0594  0.112012   \n",
       "24  0.005623  0.017734  0.011749  0.022004  0.046449  0.0347  0.103551   \n",
       "39 -0.020889  0.029276 -0.009718  0.037254  0.034782  0.0445  0.115218   \n",
       "46 -0.035945 -0.020355  0.013097  0.043335  0.028197  0.0151  0.121803   \n",
       "68  0.017606 -0.011199  0.026534  0.033756  0.045534  0.0190  0.104466   \n",
       "\n",
       "    button_transmission_prob  bead_transmission_prob  prob_product  \n",
       "11                  0.978110                0.962755      0.963371  \n",
       "24                  0.979746                0.978071      0.971095  \n",
       "39                  0.977490                0.971965      0.966435  \n",
       "46                  0.976219                0.990398      0.972458  \n",
       "68                  0.979569                0.987932      0.974824  "
      ]
     },
     "execution_count": 75,
     "metadata": {},
     "output_type": "execute_result"
    }
   ],
   "source": [
    "#adding the transmississin though button\n",
    "bead_density=2.0#g/cm^3  \n",
    "df_less['bead_transmission_prob']=df_less.apply(lambda x:transmission_prob(x['d_bead'],bead_mu_pb,bead_density),axis=1)\n",
    "df_less.head()"
   ]
  },
  {
   "cell_type": "code",
   "execution_count": 76,
   "id": "cf2fcad5-a409-4e3c-9738-e308fb6dffe4",
   "metadata": {},
   "outputs": [
    {
     "data": {
      "text/html": [
       "<div>\n",
       "<style scoped>\n",
       "    .dataframe tbody tr th:only-of-type {\n",
       "        vertical-align: middle;\n",
       "    }\n",
       "\n",
       "    .dataframe tbody tr th {\n",
       "        vertical-align: top;\n",
       "    }\n",
       "\n",
       "    .dataframe thead th {\n",
       "        text-align: right;\n",
       "    }\n",
       "</style>\n",
       "<table border=\"1\" class=\"dataframe\">\n",
       "  <thead>\n",
       "    <tr style=\"text-align: right;\">\n",
       "      <th></th>\n",
       "      <th>x</th>\n",
       "      <th>y</th>\n",
       "      <th>z</th>\n",
       "      <th>r</th>\n",
       "      <th>z_new</th>\n",
       "      <th>d_bead</th>\n",
       "      <th>d_button</th>\n",
       "      <th>button_transmission_prob</th>\n",
       "      <th>bead_transmission_prob</th>\n",
       "      <th>prob_product</th>\n",
       "    </tr>\n",
       "  </thead>\n",
       "  <tbody>\n",
       "    <tr>\n",
       "      <th>11</th>\n",
       "      <td>0.030745</td>\n",
       "      <td>0.010918</td>\n",
       "      <td>-0.021412</td>\n",
       "      <td>0.039024</td>\n",
       "      <td>0.037988</td>\n",
       "      <td>0.0594</td>\n",
       "      <td>0.112012</td>\n",
       "      <td>0.978110</td>\n",
       "      <td>0.962755</td>\n",
       "      <td>0.941680</td>\n",
       "    </tr>\n",
       "    <tr>\n",
       "      <th>24</th>\n",
       "      <td>0.005623</td>\n",
       "      <td>0.017734</td>\n",
       "      <td>0.011749</td>\n",
       "      <td>0.022004</td>\n",
       "      <td>0.046449</td>\n",
       "      <td>0.0347</td>\n",
       "      <td>0.103551</td>\n",
       "      <td>0.979746</td>\n",
       "      <td>0.978071</td>\n",
       "      <td>0.958261</td>\n",
       "    </tr>\n",
       "    <tr>\n",
       "      <th>39</th>\n",
       "      <td>-0.020889</td>\n",
       "      <td>0.029276</td>\n",
       "      <td>-0.009718</td>\n",
       "      <td>0.037254</td>\n",
       "      <td>0.034782</td>\n",
       "      <td>0.0445</td>\n",
       "      <td>0.115218</td>\n",
       "      <td>0.977490</td>\n",
       "      <td>0.971965</td>\n",
       "      <td>0.950086</td>\n",
       "    </tr>\n",
       "    <tr>\n",
       "      <th>46</th>\n",
       "      <td>-0.035945</td>\n",
       "      <td>-0.020355</td>\n",
       "      <td>0.013097</td>\n",
       "      <td>0.043335</td>\n",
       "      <td>0.028197</td>\n",
       "      <td>0.0151</td>\n",
       "      <td>0.121803</td>\n",
       "      <td>0.976219</td>\n",
       "      <td>0.990398</td>\n",
       "      <td>0.966845</td>\n",
       "    </tr>\n",
       "    <tr>\n",
       "      <th>68</th>\n",
       "      <td>0.017606</td>\n",
       "      <td>-0.011199</td>\n",
       "      <td>0.026534</td>\n",
       "      <td>0.033756</td>\n",
       "      <td>0.045534</td>\n",
       "      <td>0.0190</td>\n",
       "      <td>0.104466</td>\n",
       "      <td>0.979569</td>\n",
       "      <td>0.987932</td>\n",
       "      <td>0.967748</td>\n",
       "    </tr>\n",
       "  </tbody>\n",
       "</table>\n",
       "</div>"
      ],
      "text/plain": [
       "           x         y         z         r     z_new  d_bead  d_button  \\\n",
       "11  0.030745  0.010918 -0.021412  0.039024  0.037988  0.0594  0.112012   \n",
       "24  0.005623  0.017734  0.011749  0.022004  0.046449  0.0347  0.103551   \n",
       "39 -0.020889  0.029276 -0.009718  0.037254  0.034782  0.0445  0.115218   \n",
       "46 -0.035945 -0.020355  0.013097  0.043335  0.028197  0.0151  0.121803   \n",
       "68  0.017606 -0.011199  0.026534  0.033756  0.045534  0.0190  0.104466   \n",
       "\n",
       "    button_transmission_prob  bead_transmission_prob  prob_product  \n",
       "11                  0.978110                0.962755      0.941680  \n",
       "24                  0.979746                0.978071      0.958261  \n",
       "39                  0.977490                0.971965      0.950086  \n",
       "46                  0.976219                0.990398      0.966845  \n",
       "68                  0.979569                0.987932      0.967748  "
      ]
     },
     "execution_count": 76,
     "metadata": {},
     "output_type": "execute_result"
    }
   ],
   "source": [
    "N_generated=df_less.shape[0]\n",
    "#df_less['N_emitted']=df_less['button_transmission_prob']*df_less['bead_transmission_prob']*N_generated\n",
    "df_less['prob_product']=df_less['button_transmission_prob']*df_less['bead_transmission_prob']\n",
    "df_less.head()"
   ]
  },
  {
   "cell_type": "code",
   "execution_count": 77,
   "id": "afd6845d-d741-4509-934c-d718321d0e1a",
   "metadata": {},
   "outputs": [
    {
     "data": {
      "text/plain": [
       "0.955"
      ]
     },
     "execution_count": 77,
     "metadata": {},
     "output_type": "execute_result"
    }
   ],
   "source": [
    "avg_of_prob=round(df_less['prob_product'].mean(),3)\n",
    "avg_of_prob"
   ]
  },
  {
   "cell_type": "code",
   "execution_count": 78,
   "id": "3fec806f-d699-4744-b637-93a3c266335d",
   "metadata": {},
   "outputs": [
    {
     "data": {
      "text/plain": [
       "0.955"
      ]
     },
     "execution_count": 78,
     "metadata": {},
     "output_type": "execute_result"
    }
   ],
   "source": [
    "avg_random=round(df_less['prob_product'].apply(lambda x:random_assign(x)).mean(),3)\n",
    "avg_random"
   ]
  },
  {
   "cell_type": "markdown",
   "id": "c184a543-0fe9-4522-b7a9-201b84cdb641",
   "metadata": {},
   "source": [
    "# IGNORE BELOW THIS"
   ]
  },
  {
   "cell_type": "code",
   "execution_count": 28,
   "id": "dcbf78b9-fc53-4f4a-a73d-61513958e116",
   "metadata": {},
   "outputs": [],
   "source": [
    "def get_prob(bead_density):\n",
    "    '''\n",
    "    returns the net prob of transmission for the chosen density of bead\n",
    "    '''\n",
    "    df_less['bead_transmission_prob']=df_less.apply(lambda x:transmission_prob(x['d_bead'],bead_mu_pb,bead_density),axis=1)\n",
    "    df_less['prob_product']=df_less['button_transmission_prob']*df_less['bead_transmission_prob']\n",
    "    avg_prob=round(df_less['prob_product'].mean(),3)\n",
    "    return [bead_density,avg_prob]"
   ]
  },
  {
   "cell_type": "code",
   "execution_count": 68,
   "id": "668c493d-40a5-48ff-9add-b2cd251a4f4d",
   "metadata": {},
   "outputs": [
    {
     "name": "stdout",
     "output_type": "stream",
     "text": [
      "test :[0.0, 0.974]\n",
      "test :[0.1, 0.973]\n",
      "test :[0.2, 0.972]\n",
      "test :[0.30000000000000004, 0.971]\n",
      "test :[0.4, 0.969]\n",
      "test :[0.5, 0.968]\n",
      "test :[0.6000000000000001, 0.967]\n",
      "test :[0.7000000000000001, 0.966]\n",
      "test :[0.8, 0.965]\n",
      "test :[0.9, 0.964]\n",
      "test :[1.0, 0.963]\n",
      "test :[1.1, 0.961]\n",
      "test :[1.2000000000000002, 0.96]\n",
      "test :[1.3, 0.959]\n",
      "test :[1.4000000000000001, 0.958]\n",
      "test :[1.5, 0.957]\n",
      "test :[1.6, 0.956]\n",
      "test :[1.7000000000000002, 0.955]\n",
      "test :[1.8, 0.953]\n",
      "test :[1.9000000000000001, 0.952]\n",
      "test :[2.0, 0.951]\n",
      "test :[2.1, 0.95]\n",
      "test :[2.2, 0.949]\n",
      "test :[2.3000000000000003, 0.948]\n",
      "test :[2.4000000000000004, 0.947]\n",
      "test :[2.5, 0.946]\n",
      "test :[2.6, 0.944]\n",
      "test :[2.7, 0.943]\n",
      "test :[2.8000000000000003, 0.942]\n",
      "test :[2.9000000000000004, 0.941]\n",
      "test :[3.0, 0.94]\n",
      "test :[3.1, 0.939]\n",
      "test :[3.2, 0.938]\n",
      "test :[3.3000000000000003, 0.937]\n",
      "test :[3.4000000000000004, 0.936]\n",
      "test :[3.5, 0.934]\n",
      "test :[3.6, 0.933]\n",
      "test :[3.7, 0.932]\n",
      "test :[3.8000000000000003, 0.931]\n",
      "test :[3.9000000000000004, 0.93]\n",
      "test :[4.0, 0.929]\n",
      "test :[4.1000000000000005, 0.928]\n",
      "test :[4.2, 0.927]\n",
      "test :[4.3, 0.926]\n",
      "test :[4.4, 0.925]\n",
      "test :[4.5, 0.924]\n",
      "test :[4.6000000000000005, 0.923]\n",
      "test :[4.7, 0.921]\n",
      "test :[4.800000000000001, 0.92]\n",
      "test :[4.9, 0.919]\n",
      "test :[5.0, 0.918]\n",
      "test :[5.1000000000000005, 0.917]\n",
      "test :[5.2, 0.916]\n",
      "test :[5.300000000000001, 0.915]\n",
      "test :[5.4, 0.914]\n",
      "test :[5.5, 0.913]\n",
      "test :[5.6000000000000005, 0.912]\n",
      "test :[5.7, 0.911]\n",
      "test :[5.800000000000001, 0.91]\n",
      "test :[5.9, 0.909]\n"
     ]
    },
    {
     "data": {
      "text/html": [
       "<div>\n",
       "<style scoped>\n",
       "    .dataframe tbody tr th:only-of-type {\n",
       "        vertical-align: middle;\n",
       "    }\n",
       "\n",
       "    .dataframe tbody tr th {\n",
       "        vertical-align: top;\n",
       "    }\n",
       "\n",
       "    .dataframe thead th {\n",
       "        text-align: right;\n",
       "    }\n",
       "</style>\n",
       "<table border=\"1\" class=\"dataframe\">\n",
       "  <thead>\n",
       "    <tr style=\"text-align: right;\">\n",
       "      <th></th>\n",
       "      <th>x</th>\n",
       "      <th>y</th>\n",
       "      <th>z</th>\n",
       "      <th>r</th>\n",
       "      <th>z_new</th>\n",
       "      <th>d_bead</th>\n",
       "      <th>d_button</th>\n",
       "      <th>button_transmission_prob</th>\n",
       "      <th>bead_transmission_prob</th>\n",
       "      <th>prob_product</th>\n",
       "    </tr>\n",
       "  </thead>\n",
       "  <tbody>\n",
       "    <tr>\n",
       "      <th>11</th>\n",
       "      <td>0.030745</td>\n",
       "      <td>0.010918</td>\n",
       "      <td>-0.021412</td>\n",
       "      <td>0.039024</td>\n",
       "      <td>0.037988</td>\n",
       "      <td>0.0594</td>\n",
       "      <td>0.112012</td>\n",
       "      <td>0.974221</td>\n",
       "      <td>0.894069</td>\n",
       "      <td>0.871021</td>\n",
       "    </tr>\n",
       "    <tr>\n",
       "      <th>24</th>\n",
       "      <td>0.005623</td>\n",
       "      <td>0.017734</td>\n",
       "      <td>0.011749</td>\n",
       "      <td>0.022004</td>\n",
       "      <td>0.046449</td>\n",
       "      <td>0.0347</td>\n",
       "      <td>0.103551</td>\n",
       "      <td>0.976144</td>\n",
       "      <td>0.936682</td>\n",
       "      <td>0.914337</td>\n",
       "    </tr>\n",
       "    <tr>\n",
       "      <th>39</th>\n",
       "      <td>-0.020889</td>\n",
       "      <td>0.029276</td>\n",
       "      <td>-0.009718</td>\n",
       "      <td>0.037254</td>\n",
       "      <td>0.034782</td>\n",
       "      <td>0.0445</td>\n",
       "      <td>0.115218</td>\n",
       "      <td>0.973492</td>\n",
       "      <td>0.919537</td>\n",
       "      <td>0.895163</td>\n",
       "    </tr>\n",
       "    <tr>\n",
       "      <th>46</th>\n",
       "      <td>-0.035945</td>\n",
       "      <td>-0.020355</td>\n",
       "      <td>0.013097</td>\n",
       "      <td>0.043335</td>\n",
       "      <td>0.028197</td>\n",
       "      <td>0.0151</td>\n",
       "      <td>0.121803</td>\n",
       "      <td>0.971999</td>\n",
       "      <td>0.971937</td>\n",
       "      <td>0.944722</td>\n",
       "    </tr>\n",
       "    <tr>\n",
       "      <th>68</th>\n",
       "      <td>0.017606</td>\n",
       "      <td>-0.011199</td>\n",
       "      <td>0.026534</td>\n",
       "      <td>0.033756</td>\n",
       "      <td>0.045534</td>\n",
       "      <td>0.0190</td>\n",
       "      <td>0.104466</td>\n",
       "      <td>0.975936</td>\n",
       "      <td>0.964818</td>\n",
       "      <td>0.941601</td>\n",
       "    </tr>\n",
       "  </tbody>\n",
       "</table>\n",
       "</div>"
      ],
      "text/plain": [
       "           x         y         z         r     z_new  d_bead  d_button  \\\n",
       "11  0.030745  0.010918 -0.021412  0.039024  0.037988  0.0594  0.112012   \n",
       "24  0.005623  0.017734  0.011749  0.022004  0.046449  0.0347  0.103551   \n",
       "39 -0.020889  0.029276 -0.009718  0.037254  0.034782  0.0445  0.115218   \n",
       "46 -0.035945 -0.020355  0.013097  0.043335  0.028197  0.0151  0.121803   \n",
       "68  0.017606 -0.011199  0.026534  0.033756  0.045534  0.0190  0.104466   \n",
       "\n",
       "    button_transmission_prob  bead_transmission_prob  prob_product  \n",
       "11                  0.974221                0.894069      0.871021  \n",
       "24                  0.976144                0.936682      0.914337  \n",
       "39                  0.973492                0.919537      0.895163  \n",
       "46                  0.971999                0.971937      0.944722  \n",
       "68                  0.975936                0.964818      0.941601  "
      ]
     },
     "execution_count": 68,
     "metadata": {},
     "output_type": "execute_result"
    }
   ],
   "source": [
    "density_prob=[]\n",
    "for i in np.arange(0,6,0.1):\n",
    "    test=get_prob(i)\n",
    "    density_prob.append(test)\n",
    "    print(f\"test :{test}\")\n",
    "df_less.head()\n",
    "    "
   ]
  },
  {
   "cell_type": "code",
   "execution_count": 33,
   "id": "4cc12fc2-b499-4818-a3e2-1cef7354f605",
   "metadata": {},
   "outputs": [
    {
     "ename": "TypeError",
     "evalue": "'float' object cannot be interpreted as an integer",
     "output_type": "error",
     "traceback": [
      "\u001b[0;31m---------------------------------------------------------------------------\u001b[0m",
      "\u001b[0;31mTypeError\u001b[0m                                 Traceback (most recent call last)",
      "Input \u001b[0;32mIn [33]\u001b[0m, in \u001b[0;36m<cell line: 1>\u001b[0;34m()\u001b[0m\n\u001b[0;32m----> 1\u001b[0m \u001b[38;5;28;01mfor\u001b[39;00m i \u001b[38;5;129;01min\u001b[39;00m \u001b[43mnp\u001b[49m\u001b[38;5;241;43m.\u001b[39;49m\u001b[43mlinspace\u001b[49m\u001b[43m(\u001b[49m\u001b[38;5;241;43m0\u001b[39;49m\u001b[43m,\u001b[49m\u001b[38;5;241;43m1\u001b[39;49m\u001b[43m,\u001b[49m\u001b[38;5;241;43m0.1\u001b[39;49m\u001b[43m)\u001b[49m:\n\u001b[1;32m      2\u001b[0m     test\u001b[38;5;241m=\u001b[39mget_prob(i)\n\u001b[1;32m      3\u001b[0m     \u001b[38;5;28mprint\u001b[39m(\u001b[38;5;124mf\u001b[39m\u001b[38;5;124m\"\u001b[39m\u001b[38;5;124mtest :\u001b[39m\u001b[38;5;132;01m{\u001b[39;00mtest\u001b[38;5;132;01m}\u001b[39;00m\u001b[38;5;124m\"\u001b[39m)\n",
      "File \u001b[0;32m<__array_function__ internals>:5\u001b[0m, in \u001b[0;36mlinspace\u001b[0;34m(*args, **kwargs)\u001b[0m\n",
      "File \u001b[0;32m~/.local/lib/python3.8/site-packages/numpy/core/function_base.py:113\u001b[0m, in \u001b[0;36mlinspace\u001b[0;34m(start, stop, num, endpoint, retstep, dtype, axis)\u001b[0m\n\u001b[1;32m     23\u001b[0m \u001b[38;5;129m@array_function_dispatch\u001b[39m(_linspace_dispatcher)\n\u001b[1;32m     24\u001b[0m \u001b[38;5;28;01mdef\u001b[39;00m \u001b[38;5;21mlinspace\u001b[39m(start, stop, num\u001b[38;5;241m=\u001b[39m\u001b[38;5;241m50\u001b[39m, endpoint\u001b[38;5;241m=\u001b[39m\u001b[38;5;28;01mTrue\u001b[39;00m, retstep\u001b[38;5;241m=\u001b[39m\u001b[38;5;28;01mFalse\u001b[39;00m, dtype\u001b[38;5;241m=\u001b[39m\u001b[38;5;28;01mNone\u001b[39;00m,\n\u001b[1;32m     25\u001b[0m              axis\u001b[38;5;241m=\u001b[39m\u001b[38;5;241m0\u001b[39m):\n\u001b[1;32m     26\u001b[0m     \u001b[38;5;124;03m\"\"\"\u001b[39;00m\n\u001b[1;32m     27\u001b[0m \u001b[38;5;124;03m    Return evenly spaced numbers over a specified interval.\u001b[39;00m\n\u001b[1;32m     28\u001b[0m \n\u001b[0;32m   (...)\u001b[0m\n\u001b[1;32m    111\u001b[0m \n\u001b[1;32m    112\u001b[0m \u001b[38;5;124;03m    \"\"\"\u001b[39;00m\n\u001b[0;32m--> 113\u001b[0m     num \u001b[38;5;241m=\u001b[39m \u001b[43moperator\u001b[49m\u001b[38;5;241;43m.\u001b[39;49m\u001b[43mindex\u001b[49m\u001b[43m(\u001b[49m\u001b[43mnum\u001b[49m\u001b[43m)\u001b[49m\n\u001b[1;32m    114\u001b[0m     \u001b[38;5;28;01mif\u001b[39;00m num \u001b[38;5;241m<\u001b[39m \u001b[38;5;241m0\u001b[39m:\n\u001b[1;32m    115\u001b[0m         \u001b[38;5;28;01mraise\u001b[39;00m \u001b[38;5;167;01mValueError\u001b[39;00m(\u001b[38;5;124m\"\u001b[39m\u001b[38;5;124mNumber of samples, \u001b[39m\u001b[38;5;132;01m%s\u001b[39;00m\u001b[38;5;124m, must be non-negative.\u001b[39m\u001b[38;5;124m\"\u001b[39m \u001b[38;5;241m%\u001b[39m num)\n",
      "\u001b[0;31mTypeError\u001b[0m: 'float' object cannot be interpreted as an integer"
     ]
    }
   ],
   "source": [
    "for i in np.linspace(0,1,0.1):\n",
    "    test=get_prob(i)\n",
    "    print(f\"test :{test}\")"
   ]
  },
  {
   "cell_type": "code",
   "execution_count": 32,
   "id": "491bef8c-1c7f-4e76-a958-5409d06da051",
   "metadata": {},
   "outputs": [
    {
     "data": {
      "text/plain": [
       "[0.3, 0.954]"
      ]
     },
     "execution_count": 32,
     "metadata": {},
     "output_type": "execute_result"
    }
   ],
   "source": [
    "get_prob(0.3)"
   ]
  },
  {
   "cell_type": "code",
   "execution_count": 81,
   "id": "ada8ea73-460b-4f9a-bbdd-04c55ea795da",
   "metadata": {},
   "outputs": [
    {
     "data": {
      "text/plain": [
       "0.954"
      ]
     },
     "execution_count": 81,
     "metadata": {},
     "output_type": "execute_result"
    }
   ],
   "source": [
    "avg_prob=round(df_less['prob_product'].mean(),3)\n",
    "avg_prob"
   ]
  },
  {
   "cell_type": "code",
   "execution_count": 87,
   "id": "4f034c55-8b32-4af4-bc7d-a12f3715a882",
   "metadata": {},
   "outputs": [],
   "source": [
    "prob=get_prob(0.1)"
   ]
  },
  {
   "cell_type": "code",
   "execution_count": 88,
   "id": "667999ab-9a0b-48b2-86bb-492121d6798d",
   "metadata": {},
   "outputs": [
    {
     "data": {
      "text/plain": [
       "[0.3, 0.956]"
      ]
     },
     "execution_count": 88,
     "metadata": {},
     "output_type": "execute_result"
    }
   ],
   "source": [
    "prob"
   ]
  },
  {
   "cell_type": "code",
   "execution_count": 89,
   "id": "ea1913a8-9031-4df1-b2f6-ddee5ccb9215",
   "metadata": {},
   "outputs": [
    {
     "ename": "TypeError",
     "evalue": "'float' object cannot be interpreted as an integer",
     "output_type": "error",
     "traceback": [
      "\u001b[0;31m---------------------------------------------------------------------------\u001b[0m",
      "\u001b[0;31mTypeError\u001b[0m                                 Traceback (most recent call last)",
      "Input \u001b[0;32mIn [89]\u001b[0m, in \u001b[0;36m<cell line: 1>\u001b[0;34m()\u001b[0m\n\u001b[0;32m----> 1\u001b[0m \u001b[38;5;28;01mfor\u001b[39;00m i \u001b[38;5;129;01min\u001b[39;00m \u001b[38;5;28;43mrange\u001b[39;49m\u001b[43m(\u001b[49m\u001b[38;5;241;43m0.1\u001b[39;49m\u001b[43m,\u001b[49m\u001b[38;5;241;43m10.0\u001b[39;49m\u001b[43m,\u001b[49m\u001b[38;5;241;43m0.1\u001b[39;49m\u001b[43m)\u001b[49m:\n\u001b[1;32m      2\u001b[0m     prob\u001b[38;5;241m=\u001b[39mget_prob(i)\n\u001b[1;32m      3\u001b[0m     \u001b[38;5;28mprint\u001b[39m(\u001b[38;5;124mf\u001b[39m\u001b[38;5;124m\"\u001b[39m\u001b[38;5;124mprob: \u001b[39m\u001b[38;5;132;01m{\u001b[39;00mprob\u001b[38;5;132;01m}\u001b[39;00m\u001b[38;5;124m\"\u001b[39m)\n",
      "\u001b[0;31mTypeError\u001b[0m: 'float' object cannot be interpreted as an integer"
     ]
    }
   ],
   "source": [
    "for i in range(0.1,10.0,0.1):\n",
    "    prob=get_prob(i)\n",
    "    print(f\"prob: {prob}\")"
   ]
  },
  {
   "cell_type": "code",
   "execution_count": null,
   "id": "f45a3269-ee99-4549-87f0-7982be59f717",
   "metadata": {},
   "outputs": [],
   "source": []
  }
 ],
 "metadata": {
  "kernelspec": {
   "display_name": "Python 3 (ipykernel)",
   "language": "python",
   "name": "python3"
  },
  "language_info": {
   "codemirror_mode": {
    "name": "ipython",
    "version": 3
   },
   "file_extension": ".py",
   "mimetype": "text/x-python",
   "name": "python",
   "nbconvert_exporter": "python",
   "pygments_lexer": "ipython3",
   "version": "3.10.6"
  }
 },
 "nbformat": 4,
 "nbformat_minor": 5
}
