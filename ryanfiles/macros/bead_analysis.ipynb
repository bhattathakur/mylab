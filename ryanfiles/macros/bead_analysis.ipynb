{
 "cells": [
  {
   "cell_type": "code",
   "execution_count": 1,
   "id": "aaa1278e-bba3-4318-8deb-3a918b37eeb5",
   "metadata": {},
   "outputs": [],
   "source": [
    "import numpy as np\n",
    "import pandas as pd\n",
    "import matplotlib.pyplot as plt\n",
    "from mpl_toolkits import mplot3d\n"
   ]
  },
  {
   "cell_type": "code",
   "execution_count": 2,
   "id": "2038bc89-c577-48f6-9ab2-a7f504547149",
   "metadata": {},
   "outputs": [],
   "source": [
    "trials=100_00_00       #total simulated events\n",
    "low=-1;high=1;interval=high-low\n",
    "test=interval*np.random.rand(trials,3)+low\n",
    "#test\n",
    "x=test[:,0]\n",
    "y=test[:,1]\n",
    "z=test[:,2]"
   ]
  },
  {
   "cell_type": "code",
   "execution_count": 3,
   "id": "bebe4af8-7052-4957-a7f0-9a7627704363",
   "metadata": {},
   "outputs": [
    {
     "data": {
      "text/plain": [
       "array([-0.48942824, -0.41773957, -0.55947065, ...,  0.7801382 ,\n",
       "       -0.86404714,  0.90284525])"
      ]
     },
     "execution_count": 3,
     "metadata": {},
     "output_type": "execute_result"
    }
   ],
   "source": [
    "x"
   ]
  },
  {
   "cell_type": "code",
   "execution_count": 4,
   "id": "5bd1dc24-23f9-466a-9301-18e1061414b2",
   "metadata": {},
   "outputs": [
    {
     "data": {
      "text/plain": [
       "array([-0.20906625,  0.63456529, -0.58388209, ..., -0.2699826 ,\n",
       "        0.73485268, -0.51470937])"
      ]
     },
     "execution_count": 4,
     "metadata": {},
     "output_type": "execute_result"
    }
   ],
   "source": [
    "y"
   ]
  },
  {
   "cell_type": "code",
   "execution_count": 5,
   "id": "435076d9-bc59-488d-a2f8-448c6750bb7b",
   "metadata": {},
   "outputs": [
    {
     "data": {
      "text/plain": [
       "array([ 0.30606779, -0.40872605,  0.12331796, ...,  0.24316702,\n",
       "        0.16178463,  0.02578501])"
      ]
     },
     "execution_count": 5,
     "metadata": {},
     "output_type": "execute_result"
    }
   ],
   "source": [
    "z"
   ]
  },
  {
   "cell_type": "code",
   "execution_count": 6,
   "id": "f6d91c01-c2de-4040-9019-c2914e31302b",
   "metadata": {},
   "outputs": [
    {
     "data": {
      "text/plain": [
       "array([0.61394315, 0.86269139, 0.81800552, ..., 0.86060236, 1.14575747,\n",
       "       1.03957691])"
      ]
     },
     "execution_count": 6,
     "metadata": {},
     "output_type": "execute_result"
    }
   ],
   "source": [
    "\n",
    "r=np.sqrt(x**2+y**2+z**2)\n",
    "r"
   ]
  },
  {
   "cell_type": "code",
   "execution_count": 7,
   "id": "101ef693-886a-48f3-aca5-a754d95b4932",
   "metadata": {},
   "outputs": [],
   "source": [
    "test=np.column_stack((test,r))"
   ]
  },
  {
   "cell_type": "code",
   "execution_count": 8,
   "id": "3dc9bc9b-2c4e-4de6-9f37-a28f18645210",
   "metadata": {},
   "outputs": [
    {
     "data": {
      "text/html": [
       "<div>\n",
       "<style scoped>\n",
       "    .dataframe tbody tr th:only-of-type {\n",
       "        vertical-align: middle;\n",
       "    }\n",
       "\n",
       "    .dataframe tbody tr th {\n",
       "        vertical-align: top;\n",
       "    }\n",
       "\n",
       "    .dataframe thead th {\n",
       "        text-align: right;\n",
       "    }\n",
       "</style>\n",
       "<table border=\"1\" class=\"dataframe\">\n",
       "  <thead>\n",
       "    <tr style=\"text-align: right;\">\n",
       "      <th></th>\n",
       "      <th>x</th>\n",
       "      <th>y</th>\n",
       "      <th>z</th>\n",
       "      <th>r</th>\n",
       "    </tr>\n",
       "  </thead>\n",
       "  <tbody>\n",
       "    <tr>\n",
       "      <th>0</th>\n",
       "      <td>-0.489428</td>\n",
       "      <td>-0.209066</td>\n",
       "      <td>0.306068</td>\n",
       "      <td>0.613943</td>\n",
       "    </tr>\n",
       "    <tr>\n",
       "      <th>1</th>\n",
       "      <td>-0.417740</td>\n",
       "      <td>0.634565</td>\n",
       "      <td>-0.408726</td>\n",
       "      <td>0.862691</td>\n",
       "    </tr>\n",
       "    <tr>\n",
       "      <th>2</th>\n",
       "      <td>-0.559471</td>\n",
       "      <td>-0.583882</td>\n",
       "      <td>0.123318</td>\n",
       "      <td>0.818006</td>\n",
       "    </tr>\n",
       "    <tr>\n",
       "      <th>3</th>\n",
       "      <td>0.400094</td>\n",
       "      <td>-0.732474</td>\n",
       "      <td>-0.269299</td>\n",
       "      <td>0.876992</td>\n",
       "    </tr>\n",
       "    <tr>\n",
       "      <th>4</th>\n",
       "      <td>0.284732</td>\n",
       "      <td>0.183006</td>\n",
       "      <td>0.365417</td>\n",
       "      <td>0.498089</td>\n",
       "    </tr>\n",
       "  </tbody>\n",
       "</table>\n",
       "</div>"
      ],
      "text/plain": [
       "          x         y         z         r\n",
       "0 -0.489428 -0.209066  0.306068  0.613943\n",
       "1 -0.417740  0.634565 -0.408726  0.862691\n",
       "2 -0.559471 -0.583882  0.123318  0.818006\n",
       "3  0.400094 -0.732474 -0.269299  0.876992\n",
       "4  0.284732  0.183006  0.365417  0.498089"
      ]
     },
     "execution_count": 8,
     "metadata": {},
     "output_type": "execute_result"
    }
   ],
   "source": [
    "df=pd.DataFrame(test,columns=['x','y','z','r']) #data frame with x,y,z and r\n",
    "df.head()"
   ]
  },
  {
   "cell_type": "code",
   "execution_count": 9,
   "id": "7cb0f7e2-aab6-4739-897b-b16ce5f6f20b",
   "metadata": {},
   "outputs": [
    {
     "data": {
      "text/plain": [
       "65097"
      ]
     },
     "execution_count": 9,
     "metadata": {},
     "output_type": "execute_result"
    }
   ],
   "source": [
    "df_less=df[df.r<0.5]          #data frame with r<0.5 (radius of the bead)\n",
    "df_less.head()\n",
    "total_counts=df_less.shape[0]\n",
    "total_counts"
   ]
  },
  {
   "cell_type": "code",
   "execution_count": 10,
   "id": "1480da98-6945-4c19-8ca0-e4c5c7049f5f",
   "metadata": {},
   "outputs": [],
   "source": [
    "# %matplotlib inline\n",
    "# fig = plt.figure()\n",
    "# ax = fig.add_subplot(projection='3d')\n",
    "# ax.scatter(df_less.x,df_less.y,df_less.z)"
   ]
  },
  {
   "cell_type": "code",
   "execution_count": 11,
   "id": "b3c5478d-71a0-41a8-8620-0640684ca499",
   "metadata": {},
   "outputs": [],
   "source": [
    "#this function give the normal distance from a point to the surface of the sphere\n",
    "\n",
    "def get_upward_distance(x,y,z,dz=0.001,r=0.5):\n",
    "    '''\n",
    "    returns normal distance from a point in the sphere to the surface as well as the z co-ordinate in the sphere\n",
    "    '''\n",
    "    #z=np.abs(z)\n",
    "    d=np.sqrt(x**2+y**2+z**2)\n",
    "    if z==-0.5: return 1.0,0.5\n",
    "    z_up=0\n",
    "    #print(f\"before while z_up: {z_up}\")\n",
    "    while(d<r):\n",
    "        z+=dz\n",
    "        #print(f\"Inside while z: {z}\")\n",
    "        z_up+=dz\n",
    "        d=np.sqrt(x**2+y**2+z**2)\n",
    "    #print(f\"after while z_up: {z_up}\")\n",
    "    return z_up,z\n",
    "        \n",
    "    "
   ]
  },
  {
   "cell_type": "code",
   "execution_count": 12,
   "id": "b679617f-38b0-4edd-872d-c2f580dbdd28",
   "metadata": {},
   "outputs": [
    {
     "name": "stderr",
     "output_type": "stream",
     "text": [
      "<ipython-input-12-c38b61caed6c>:3: SettingWithCopyWarning: \n",
      "A value is trying to be set on a copy of a slice from a DataFrame.\n",
      "Try using .loc[row_indexer,col_indexer] = value instead\n",
      "\n",
      "See the caveats in the documentation: http://pandas.pydata.org/pandas-docs/stable/user_guide/indexing.html#returning-a-view-versus-a-copy\n",
      "  df_less['z_new']=df_less.apply(lambda x:get_upward_distance(x['x'],x['y'],x['z'])[1],axis=1)\n",
      "<ipython-input-12-c38b61caed6c>:4: SettingWithCopyWarning: \n",
      "A value is trying to be set on a copy of a slice from a DataFrame.\n",
      "Try using .loc[row_indexer,col_indexer] = value instead\n",
      "\n",
      "See the caveats in the documentation: http://pandas.pydata.org/pandas-docs/stable/user_guide/indexing.html#returning-a-view-versus-a-copy\n",
      "  df_less['d_bead']=df_less.apply(lambda x:get_upward_distance(x['x'],x['y'],x['z'])[0],axis=1)\n"
     ]
    },
    {
     "data": {
      "text/html": [
       "<div>\n",
       "<style scoped>\n",
       "    .dataframe tbody tr th:only-of-type {\n",
       "        vertical-align: middle;\n",
       "    }\n",
       "\n",
       "    .dataframe tbody tr th {\n",
       "        vertical-align: top;\n",
       "    }\n",
       "\n",
       "    .dataframe thead th {\n",
       "        text-align: right;\n",
       "    }\n",
       "</style>\n",
       "<table border=\"1\" class=\"dataframe\">\n",
       "  <thead>\n",
       "    <tr style=\"text-align: right;\">\n",
       "      <th></th>\n",
       "      <th>x</th>\n",
       "      <th>y</th>\n",
       "      <th>z</th>\n",
       "      <th>r</th>\n",
       "      <th>z_new</th>\n",
       "      <th>d_bead</th>\n",
       "    </tr>\n",
       "  </thead>\n",
       "  <tbody>\n",
       "    <tr>\n",
       "      <th>4</th>\n",
       "      <td>0.284732</td>\n",
       "      <td>0.183006</td>\n",
       "      <td>0.365417</td>\n",
       "      <td>0.498089</td>\n",
       "      <td>0.368417</td>\n",
       "      <td>0.003</td>\n",
       "    </tr>\n",
       "    <tr>\n",
       "      <th>21</th>\n",
       "      <td>-0.196257</td>\n",
       "      <td>0.265896</td>\n",
       "      <td>0.131632</td>\n",
       "      <td>0.355731</td>\n",
       "      <td>0.375632</td>\n",
       "      <td>0.244</td>\n",
       "    </tr>\n",
       "    <tr>\n",
       "      <th>22</th>\n",
       "      <td>0.008959</td>\n",
       "      <td>0.005327</td>\n",
       "      <td>0.268802</td>\n",
       "      <td>0.269004</td>\n",
       "      <td>0.500802</td>\n",
       "      <td>0.232</td>\n",
       "    </tr>\n",
       "    <tr>\n",
       "      <th>23</th>\n",
       "      <td>-0.397324</td>\n",
       "      <td>-0.009541</td>\n",
       "      <td>0.196836</td>\n",
       "      <td>0.443511</td>\n",
       "      <td>0.303836</td>\n",
       "      <td>0.107</td>\n",
       "    </tr>\n",
       "    <tr>\n",
       "      <th>47</th>\n",
       "      <td>-0.209789</td>\n",
       "      <td>0.186374</td>\n",
       "      <td>-0.190780</td>\n",
       "      <td>0.339329</td>\n",
       "      <td>0.414220</td>\n",
       "      <td>0.605</td>\n",
       "    </tr>\n",
       "  </tbody>\n",
       "</table>\n",
       "</div>"
      ],
      "text/plain": [
       "           x         y         z         r     z_new  d_bead\n",
       "4   0.284732  0.183006  0.365417  0.498089  0.368417   0.003\n",
       "21 -0.196257  0.265896  0.131632  0.355731  0.375632   0.244\n",
       "22  0.008959  0.005327  0.268802  0.269004  0.500802   0.232\n",
       "23 -0.397324 -0.009541  0.196836  0.443511  0.303836   0.107\n",
       "47 -0.209789  0.186374 -0.190780  0.339329  0.414220   0.605"
      ]
     },
     "execution_count": 12,
     "metadata": {},
     "output_type": "execute_result"
    }
   ],
   "source": [
    "#distance travelled in the bead\n",
    "\n",
    "df_less['z_new']=df_less.apply(lambda x:get_upward_distance(x['x'],x['y'],x['z'])[1],axis=1)\n",
    "df_less['d_bead']=df_less.apply(lambda x:get_upward_distance(x['x'],x['y'],x['z'])[0],axis=1)\n",
    "df_less.head()"
   ]
  },
  {
   "cell_type": "code",
   "execution_count": 13,
   "id": "bec985d5-4823-4d84-a748-4df1086b496b",
   "metadata": {},
   "outputs": [
    {
     "name": "stderr",
     "output_type": "stream",
     "text": [
      "<ipython-input-13-e6d322812297>:3: SettingWithCopyWarning: \n",
      "A value is trying to be set on a copy of a slice from a DataFrame.\n",
      "Try using .loc[row_indexer,col_indexer] = value instead\n",
      "\n",
      "See the caveats in the documentation: http://pandas.pydata.org/pandas-docs/stable/user_guide/indexing.html#returning-a-view-versus-a-copy\n",
      "  df_less['d_button']=button_thickness/2.-df_less['z_new'] #Thickness of button is 3 mm and thickness above 0 is 1.5 mm\n"
     ]
    },
    {
     "data": {
      "text/html": [
       "<div>\n",
       "<style scoped>\n",
       "    .dataframe tbody tr th:only-of-type {\n",
       "        vertical-align: middle;\n",
       "    }\n",
       "\n",
       "    .dataframe tbody tr th {\n",
       "        vertical-align: top;\n",
       "    }\n",
       "\n",
       "    .dataframe thead th {\n",
       "        text-align: right;\n",
       "    }\n",
       "</style>\n",
       "<table border=\"1\" class=\"dataframe\">\n",
       "  <thead>\n",
       "    <tr style=\"text-align: right;\">\n",
       "      <th></th>\n",
       "      <th>x</th>\n",
       "      <th>y</th>\n",
       "      <th>z</th>\n",
       "      <th>r</th>\n",
       "      <th>z_new</th>\n",
       "      <th>d_bead</th>\n",
       "      <th>d_button</th>\n",
       "    </tr>\n",
       "  </thead>\n",
       "  <tbody>\n",
       "    <tr>\n",
       "      <th>4</th>\n",
       "      <td>0.284732</td>\n",
       "      <td>0.183006</td>\n",
       "      <td>0.365417</td>\n",
       "      <td>0.498089</td>\n",
       "      <td>0.368417</td>\n",
       "      <td>0.003</td>\n",
       "      <td>1.131583</td>\n",
       "    </tr>\n",
       "    <tr>\n",
       "      <th>21</th>\n",
       "      <td>-0.196257</td>\n",
       "      <td>0.265896</td>\n",
       "      <td>0.131632</td>\n",
       "      <td>0.355731</td>\n",
       "      <td>0.375632</td>\n",
       "      <td>0.244</td>\n",
       "      <td>1.124368</td>\n",
       "    </tr>\n",
       "    <tr>\n",
       "      <th>22</th>\n",
       "      <td>0.008959</td>\n",
       "      <td>0.005327</td>\n",
       "      <td>0.268802</td>\n",
       "      <td>0.269004</td>\n",
       "      <td>0.500802</td>\n",
       "      <td>0.232</td>\n",
       "      <td>0.999198</td>\n",
       "    </tr>\n",
       "    <tr>\n",
       "      <th>23</th>\n",
       "      <td>-0.397324</td>\n",
       "      <td>-0.009541</td>\n",
       "      <td>0.196836</td>\n",
       "      <td>0.443511</td>\n",
       "      <td>0.303836</td>\n",
       "      <td>0.107</td>\n",
       "      <td>1.196164</td>\n",
       "    </tr>\n",
       "    <tr>\n",
       "      <th>47</th>\n",
       "      <td>-0.209789</td>\n",
       "      <td>0.186374</td>\n",
       "      <td>-0.190780</td>\n",
       "      <td>0.339329</td>\n",
       "      <td>0.414220</td>\n",
       "      <td>0.605</td>\n",
       "      <td>1.085780</td>\n",
       "    </tr>\n",
       "  </tbody>\n",
       "</table>\n",
       "</div>"
      ],
      "text/plain": [
       "           x         y         z         r     z_new  d_bead  d_button\n",
       "4   0.284732  0.183006  0.365417  0.498089  0.368417   0.003  1.131583\n",
       "21 -0.196257  0.265896  0.131632  0.355731  0.375632   0.244  1.124368\n",
       "22  0.008959  0.005327  0.268802  0.269004  0.500802   0.232  0.999198\n",
       "23 -0.397324 -0.009541  0.196836  0.443511  0.303836   0.107  1.196164\n",
       "47 -0.209789  0.186374 -0.190780  0.339329  0.414220   0.605  1.085780"
      ]
     },
     "execution_count": 13,
     "metadata": {},
     "output_type": "execute_result"
    }
   ],
   "source": [
    "#distance travelled in the button\n",
    "button_thickness=3.0\n",
    "df_less['d_button']=button_thickness/2.-df_less['z_new'] #Thickness of button is 3 mm and thickness above 0 is 1.5 mm\n",
    "df_less.head()"
   ]
  },
  {
   "cell_type": "code",
   "execution_count": 14,
   "id": "c69432b9-cdbc-496f-984a-e2e8aff7093a",
   "metadata": {},
   "outputs": [
    {
     "data": {
      "text/html": [
       "<div>\n",
       "<style scoped>\n",
       "    .dataframe tbody tr th:only-of-type {\n",
       "        vertical-align: middle;\n",
       "    }\n",
       "\n",
       "    .dataframe tbody tr th {\n",
       "        vertical-align: top;\n",
       "    }\n",
       "\n",
       "    .dataframe thead th {\n",
       "        text-align: right;\n",
       "    }\n",
       "</style>\n",
       "<table border=\"1\" class=\"dataframe\">\n",
       "  <thead>\n",
       "    <tr style=\"text-align: right;\">\n",
       "      <th></th>\n",
       "      <th>x</th>\n",
       "      <th>y</th>\n",
       "      <th>z</th>\n",
       "      <th>r</th>\n",
       "      <th>z_new</th>\n",
       "      <th>d_bead</th>\n",
       "      <th>d_button</th>\n",
       "    </tr>\n",
       "  </thead>\n",
       "  <tbody>\n",
       "    <tr>\n",
       "      <th>4</th>\n",
       "      <td>0.028473</td>\n",
       "      <td>0.018301</td>\n",
       "      <td>0.036542</td>\n",
       "      <td>0.049809</td>\n",
       "      <td>0.036842</td>\n",
       "      <td>0.0003</td>\n",
       "      <td>0.113158</td>\n",
       "    </tr>\n",
       "    <tr>\n",
       "      <th>21</th>\n",
       "      <td>-0.019626</td>\n",
       "      <td>0.026590</td>\n",
       "      <td>0.013163</td>\n",
       "      <td>0.035573</td>\n",
       "      <td>0.037563</td>\n",
       "      <td>0.0244</td>\n",
       "      <td>0.112437</td>\n",
       "    </tr>\n",
       "    <tr>\n",
       "      <th>22</th>\n",
       "      <td>0.000896</td>\n",
       "      <td>0.000533</td>\n",
       "      <td>0.026880</td>\n",
       "      <td>0.026900</td>\n",
       "      <td>0.050080</td>\n",
       "      <td>0.0232</td>\n",
       "      <td>0.099920</td>\n",
       "    </tr>\n",
       "    <tr>\n",
       "      <th>23</th>\n",
       "      <td>-0.039732</td>\n",
       "      <td>-0.000954</td>\n",
       "      <td>0.019684</td>\n",
       "      <td>0.044351</td>\n",
       "      <td>0.030384</td>\n",
       "      <td>0.0107</td>\n",
       "      <td>0.119616</td>\n",
       "    </tr>\n",
       "    <tr>\n",
       "      <th>47</th>\n",
       "      <td>-0.020979</td>\n",
       "      <td>0.018637</td>\n",
       "      <td>-0.019078</td>\n",
       "      <td>0.033933</td>\n",
       "      <td>0.041422</td>\n",
       "      <td>0.0605</td>\n",
       "      <td>0.108578</td>\n",
       "    </tr>\n",
       "  </tbody>\n",
       "</table>\n",
       "</div>"
      ],
      "text/plain": [
       "           x         y         z         r     z_new  d_bead  d_button\n",
       "4   0.028473  0.018301  0.036542  0.049809  0.036842  0.0003  0.113158\n",
       "21 -0.019626  0.026590  0.013163  0.035573  0.037563  0.0244  0.112437\n",
       "22  0.000896  0.000533  0.026880  0.026900  0.050080  0.0232  0.099920\n",
       "23 -0.039732 -0.000954  0.019684  0.044351  0.030384  0.0107  0.119616\n",
       "47 -0.020979  0.018637 -0.019078  0.033933  0.041422  0.0605  0.108578"
      ]
     },
     "execution_count": 14,
     "metadata": {},
     "output_type": "execute_result"
    }
   ],
   "source": [
    "#changing mm to cm\n",
    "mm_to_cm=0.1\n",
    "df_less=df_less*mm_to_cm\n",
    "df_less.head()"
   ]
  },
  {
   "cell_type": "markdown",
   "id": "53223297-a21d-4b97-ae6c-686a80f4131f",
   "metadata": {},
   "source": [
    "$ P_{transmission} = e^{-\\frac{x}{\\lambda}} $ <br>\n",
    "\n",
    "x is thickness and $\\lambda$ is attenuation length\n",
    "<br> $\\lambda = \\frac{1}{\\rho \\cdot \\mu} $ <br>\n",
    "$ P_{transmission} = e^{-\\mu \\cdot \\rho \\cdot x} $ <br>\n",
    "\n",
    "$ \\mu $ ($cm^2/g$) <br> $ \\rho $ ($g/cm^3$) <br> $\\lambda (cm)$ <br>\n",
    "$ \\mu$ from https://physics.nist.gov/PhysRefData/Xcom/html/xcom1.html\n",
    "<br>\n",
    "Tranmission factor from: https://www.ezag.com/home/products/isotope_products/isotrak_calibration_sources/reference_sources/gamma_sources/point_sources/#c601"
   ]
  },
  {
   "cell_type": "markdown",
   "id": "2cefd469-e336-4214-b9c2-94e03bfce5e1",
   "metadata": {},
   "source": [
    "# fMaterialsManager->AddMaterial(\"Acrylic\",\"C5-H8-O2\",1.18*g/cm3,\"\")\n",
    "# ceramic: O7410-Na300-Ca60-Mg10-Al600-Si1600-Pb4\n"
   ]
  },
  {
   "cell_type": "markdown",
   "id": "e3102f3f-22b3-4e86-b095-55f69cb95be1",
   "metadata": {},
   "source": [
    "![image](beadcomposition.png)"
   ]
  },
  {
   "cell_type": "code",
   "execution_count": 15,
   "id": "dd79593e-e9ed-4ba1-92a6-641848b2de03",
   "metadata": {},
   "outputs": [],
   "source": [
    "#Probabality of scatering from the button\n",
    "button_density = 1.18        #g/cm^3 (from simulation data)\n",
    "button_mu_pb   = 3.262E-01   # C5H8O2 for 47keV (0.047 MeV) gamma rays\n",
    "bead_mu_pb     = 3.195E-01   #47 keV pb-21O for ceramic=> O7410Na300Ca60Mg10Al600Si1600Pb4\n",
    "\n",
    "#trnasmission factors from manufacturer\n",
    "transmission_pb=0.964   #47 keV pb-210\n",
    "\n",
    "transmission_am=0.958   #60 keV am-241\n",
    "\n",
    "\n",
    "\n",
    "#button_mu_am=0.1815    #60 keV am-241\n",
    "#lambda calculation for acrylic button  (C5H802)\n",
    "#fMaterialsManager->AddMaterial(\"Acrylic\",\"C5-H8-O2\",1.18*g/cm3,\"\");\n",
    "#density is from oldmc\n",
    "\n",
    "\n",
    "\n",
    "\n",
    "def transmission_prob(x,mu,rho):\n",
    "    '''reutrns button transmission probability'''\n",
    "    #return (1-np.exp(-1.0*x*mu*rho))\n",
    "    return (np.exp(-1.0*x*mu*rho))\n",
    "\n",
    "    \n",
    "    \n",
    "    "
   ]
  },
  {
   "cell_type": "code",
   "execution_count": 16,
   "id": "e7378abf-f859-431e-886f-86f0a01353b4",
   "metadata": {},
   "outputs": [
    {
     "data": {
      "text/html": [
       "<div>\n",
       "<style scoped>\n",
       "    .dataframe tbody tr th:only-of-type {\n",
       "        vertical-align: middle;\n",
       "    }\n",
       "\n",
       "    .dataframe tbody tr th {\n",
       "        vertical-align: top;\n",
       "    }\n",
       "\n",
       "    .dataframe thead th {\n",
       "        text-align: right;\n",
       "    }\n",
       "</style>\n",
       "<table border=\"1\" class=\"dataframe\">\n",
       "  <thead>\n",
       "    <tr style=\"text-align: right;\">\n",
       "      <th></th>\n",
       "      <th>x</th>\n",
       "      <th>y</th>\n",
       "      <th>z</th>\n",
       "      <th>r</th>\n",
       "      <th>z_new</th>\n",
       "      <th>d_bead</th>\n",
       "      <th>d_button</th>\n",
       "      <th>button_transmission_prob</th>\n",
       "    </tr>\n",
       "  </thead>\n",
       "  <tbody>\n",
       "    <tr>\n",
       "      <th>4</th>\n",
       "      <td>0.028473</td>\n",
       "      <td>0.018301</td>\n",
       "      <td>0.036542</td>\n",
       "      <td>0.049809</td>\n",
       "      <td>0.036842</td>\n",
       "      <td>0.0003</td>\n",
       "      <td>0.113158</td>\n",
       "      <td>0.957379</td>\n",
       "    </tr>\n",
       "    <tr>\n",
       "      <th>21</th>\n",
       "      <td>-0.019626</td>\n",
       "      <td>0.026590</td>\n",
       "      <td>0.013163</td>\n",
       "      <td>0.035573</td>\n",
       "      <td>0.037563</td>\n",
       "      <td>0.0244</td>\n",
       "      <td>0.112437</td>\n",
       "      <td>0.957644</td>\n",
       "    </tr>\n",
       "    <tr>\n",
       "      <th>22</th>\n",
       "      <td>0.000896</td>\n",
       "      <td>0.000533</td>\n",
       "      <td>0.026880</td>\n",
       "      <td>0.026900</td>\n",
       "      <td>0.050080</td>\n",
       "      <td>0.0232</td>\n",
       "      <td>0.099920</td>\n",
       "      <td>0.962269</td>\n",
       "    </tr>\n",
       "    <tr>\n",
       "      <th>23</th>\n",
       "      <td>-0.039732</td>\n",
       "      <td>-0.000954</td>\n",
       "      <td>0.019684</td>\n",
       "      <td>0.044351</td>\n",
       "      <td>0.030384</td>\n",
       "      <td>0.0107</td>\n",
       "      <td>0.119616</td>\n",
       "      <td>0.955002</td>\n",
       "    </tr>\n",
       "    <tr>\n",
       "      <th>47</th>\n",
       "      <td>-0.020979</td>\n",
       "      <td>0.018637</td>\n",
       "      <td>-0.019078</td>\n",
       "      <td>0.033933</td>\n",
       "      <td>0.041422</td>\n",
       "      <td>0.0605</td>\n",
       "      <td>0.108578</td>\n",
       "      <td>0.959068</td>\n",
       "    </tr>\n",
       "  </tbody>\n",
       "</table>\n",
       "</div>"
      ],
      "text/plain": [
       "           x         y         z         r     z_new  d_bead  d_button  \\\n",
       "4   0.028473  0.018301  0.036542  0.049809  0.036842  0.0003  0.113158   \n",
       "21 -0.019626  0.026590  0.013163  0.035573  0.037563  0.0244  0.112437   \n",
       "22  0.000896  0.000533  0.026880  0.026900  0.050080  0.0232  0.099920   \n",
       "23 -0.039732 -0.000954  0.019684  0.044351  0.030384  0.0107  0.119616   \n",
       "47 -0.020979  0.018637 -0.019078  0.033933  0.041422  0.0605  0.108578   \n",
       "\n",
       "    button_transmission_prob  \n",
       "4                   0.957379  \n",
       "21                  0.957644  \n",
       "22                  0.962269  \n",
       "23                  0.955002  \n",
       "47                  0.959068  "
      ]
     },
     "execution_count": 16,
     "metadata": {},
     "output_type": "execute_result"
    }
   ],
   "source": [
    "#adding the transmississin though button\n",
    "df_less['button_transmission_prob']=df_less.apply(lambda x:transmission_prob(x['d_button'],button_mu_pb,button_density),axis=1)\n",
    "df_less.head()"
   ]
  },
  {
   "cell_type": "code",
   "execution_count": 34,
   "id": "5eff401b-035b-46c7-b259-b876b2a7be62",
   "metadata": {},
   "outputs": [],
   "source": [
    "#creating the random number bewteen 0 and 1, if the prob_product is greater than random number add 1 else add 0\n",
    "def random_assign(x):\n",
    "    if x>np.random.rand():\n",
    "        return 1\n",
    "    return 0\n",
    "    "
   ]
  },
  {
   "cell_type": "code",
   "execution_count": 38,
   "id": "f5e8e01e-2143-49cb-bc5a-afd93e18c5af",
   "metadata": {},
   "outputs": [
    {
     "data": {
      "text/html": [
       "<div>\n",
       "<style scoped>\n",
       "    .dataframe tbody tr th:only-of-type {\n",
       "        vertical-align: middle;\n",
       "    }\n",
       "\n",
       "    .dataframe tbody tr th {\n",
       "        vertical-align: top;\n",
       "    }\n",
       "\n",
       "    .dataframe thead th {\n",
       "        text-align: right;\n",
       "    }\n",
       "</style>\n",
       "<table border=\"1\" class=\"dataframe\">\n",
       "  <thead>\n",
       "    <tr style=\"text-align: right;\">\n",
       "      <th></th>\n",
       "      <th>x</th>\n",
       "      <th>y</th>\n",
       "      <th>z</th>\n",
       "      <th>r</th>\n",
       "      <th>z_new</th>\n",
       "      <th>d_bead</th>\n",
       "      <th>d_button</th>\n",
       "      <th>button_transmission_prob</th>\n",
       "      <th>bead_transmission_prob</th>\n",
       "      <th>prob_product</th>\n",
       "    </tr>\n",
       "  </thead>\n",
       "  <tbody>\n",
       "    <tr>\n",
       "      <th>4</th>\n",
       "      <td>0.028473</td>\n",
       "      <td>0.018301</td>\n",
       "      <td>0.036542</td>\n",
       "      <td>0.049809</td>\n",
       "      <td>0.036842</td>\n",
       "      <td>0.0003</td>\n",
       "      <td>0.113158</td>\n",
       "      <td>0.957379</td>\n",
       "      <td>0.999655</td>\n",
       "      <td>0.957369</td>\n",
       "    </tr>\n",
       "    <tr>\n",
       "      <th>21</th>\n",
       "      <td>-0.019626</td>\n",
       "      <td>0.026590</td>\n",
       "      <td>0.013163</td>\n",
       "      <td>0.035573</td>\n",
       "      <td>0.037563</td>\n",
       "      <td>0.0244</td>\n",
       "      <td>0.112437</td>\n",
       "      <td>0.957644</td>\n",
       "      <td>0.972325</td>\n",
       "      <td>0.956898</td>\n",
       "    </tr>\n",
       "    <tr>\n",
       "      <th>22</th>\n",
       "      <td>0.000896</td>\n",
       "      <td>0.000533</td>\n",
       "      <td>0.026880</td>\n",
       "      <td>0.026900</td>\n",
       "      <td>0.050080</td>\n",
       "      <td>0.0232</td>\n",
       "      <td>0.099920</td>\n",
       "      <td>0.962269</td>\n",
       "      <td>0.973668</td>\n",
       "      <td>0.961556</td>\n",
       "    </tr>\n",
       "    <tr>\n",
       "      <th>23</th>\n",
       "      <td>-0.039732</td>\n",
       "      <td>-0.000954</td>\n",
       "      <td>0.019684</td>\n",
       "      <td>0.044351</td>\n",
       "      <td>0.030384</td>\n",
       "      <td>0.0107</td>\n",
       "      <td>0.119616</td>\n",
       "      <td>0.955002</td>\n",
       "      <td>0.987768</td>\n",
       "      <td>0.954675</td>\n",
       "    </tr>\n",
       "    <tr>\n",
       "      <th>47</th>\n",
       "      <td>-0.020979</td>\n",
       "      <td>0.018637</td>\n",
       "      <td>-0.019078</td>\n",
       "      <td>0.033933</td>\n",
       "      <td>0.041422</td>\n",
       "      <td>0.0605</td>\n",
       "      <td>0.108578</td>\n",
       "      <td>0.959068</td>\n",
       "      <td>0.932779</td>\n",
       "      <td>0.957216</td>\n",
       "    </tr>\n",
       "  </tbody>\n",
       "</table>\n",
       "</div>"
      ],
      "text/plain": [
       "           x         y         z         r     z_new  d_bead  d_button  \\\n",
       "4   0.028473  0.018301  0.036542  0.049809  0.036842  0.0003  0.113158   \n",
       "21 -0.019626  0.026590  0.013163  0.035573  0.037563  0.0244  0.112437   \n",
       "22  0.000896  0.000533  0.026880  0.026900  0.050080  0.0232  0.099920   \n",
       "23 -0.039732 -0.000954  0.019684  0.044351  0.030384  0.0107  0.119616   \n",
       "47 -0.020979  0.018637 -0.019078  0.033933  0.041422  0.0605  0.108578   \n",
       "\n",
       "    button_transmission_prob  bead_transmission_prob  prob_product  \n",
       "4                   0.957379                0.999655      0.957369  \n",
       "21                  0.957644                0.972325      0.956898  \n",
       "22                  0.962269                0.973668      0.961556  \n",
       "23                  0.955002                0.987768      0.954675  \n",
       "47                  0.959068                0.932779      0.957216  "
      ]
     },
     "execution_count": 38,
     "metadata": {},
     "output_type": "execute_result"
    }
   ],
   "source": [
    "#adding the transmississin though button\n",
    "bead_density=3.6 #g/cm^3  \n",
    "df_less['bead_transmission_prob']=df_less.apply(lambda x:transmission_prob(x['d_bead'],bead_mu_pb,bead_density),axis=1)\n",
    "df_less.head()"
   ]
  },
  {
   "cell_type": "code",
   "execution_count": 39,
   "id": "cf2fcad5-a409-4e3c-9738-e308fb6dffe4",
   "metadata": {},
   "outputs": [
    {
     "data": {
      "text/html": [
       "<div>\n",
       "<style scoped>\n",
       "    .dataframe tbody tr th:only-of-type {\n",
       "        vertical-align: middle;\n",
       "    }\n",
       "\n",
       "    .dataframe tbody tr th {\n",
       "        vertical-align: top;\n",
       "    }\n",
       "\n",
       "    .dataframe thead th {\n",
       "        text-align: right;\n",
       "    }\n",
       "</style>\n",
       "<table border=\"1\" class=\"dataframe\">\n",
       "  <thead>\n",
       "    <tr style=\"text-align: right;\">\n",
       "      <th></th>\n",
       "      <th>x</th>\n",
       "      <th>y</th>\n",
       "      <th>z</th>\n",
       "      <th>r</th>\n",
       "      <th>z_new</th>\n",
       "      <th>d_bead</th>\n",
       "      <th>d_button</th>\n",
       "      <th>button_transmission_prob</th>\n",
       "      <th>bead_transmission_prob</th>\n",
       "      <th>prob_product</th>\n",
       "    </tr>\n",
       "  </thead>\n",
       "  <tbody>\n",
       "    <tr>\n",
       "      <th>4</th>\n",
       "      <td>0.028473</td>\n",
       "      <td>0.018301</td>\n",
       "      <td>0.036542</td>\n",
       "      <td>0.049809</td>\n",
       "      <td>0.036842</td>\n",
       "      <td>0.0003</td>\n",
       "      <td>0.113158</td>\n",
       "      <td>0.957379</td>\n",
       "      <td>0.999655</td>\n",
       "      <td>0.957048</td>\n",
       "    </tr>\n",
       "    <tr>\n",
       "      <th>21</th>\n",
       "      <td>-0.019626</td>\n",
       "      <td>0.026590</td>\n",
       "      <td>0.013163</td>\n",
       "      <td>0.035573</td>\n",
       "      <td>0.037563</td>\n",
       "      <td>0.0244</td>\n",
       "      <td>0.112437</td>\n",
       "      <td>0.957644</td>\n",
       "      <td>0.972325</td>\n",
       "      <td>0.931142</td>\n",
       "    </tr>\n",
       "    <tr>\n",
       "      <th>22</th>\n",
       "      <td>0.000896</td>\n",
       "      <td>0.000533</td>\n",
       "      <td>0.026880</td>\n",
       "      <td>0.026900</td>\n",
       "      <td>0.050080</td>\n",
       "      <td>0.0232</td>\n",
       "      <td>0.099920</td>\n",
       "      <td>0.962269</td>\n",
       "      <td>0.973668</td>\n",
       "      <td>0.936931</td>\n",
       "    </tr>\n",
       "    <tr>\n",
       "      <th>23</th>\n",
       "      <td>-0.039732</td>\n",
       "      <td>-0.000954</td>\n",
       "      <td>0.019684</td>\n",
       "      <td>0.044351</td>\n",
       "      <td>0.030384</td>\n",
       "      <td>0.0107</td>\n",
       "      <td>0.119616</td>\n",
       "      <td>0.955002</td>\n",
       "      <td>0.987768</td>\n",
       "      <td>0.943320</td>\n",
       "    </tr>\n",
       "    <tr>\n",
       "      <th>47</th>\n",
       "      <td>-0.020979</td>\n",
       "      <td>0.018637</td>\n",
       "      <td>-0.019078</td>\n",
       "      <td>0.033933</td>\n",
       "      <td>0.041422</td>\n",
       "      <td>0.0605</td>\n",
       "      <td>0.108578</td>\n",
       "      <td>0.959068</td>\n",
       "      <td>0.932779</td>\n",
       "      <td>0.894598</td>\n",
       "    </tr>\n",
       "  </tbody>\n",
       "</table>\n",
       "</div>"
      ],
      "text/plain": [
       "           x         y         z         r     z_new  d_bead  d_button  \\\n",
       "4   0.028473  0.018301  0.036542  0.049809  0.036842  0.0003  0.113158   \n",
       "21 -0.019626  0.026590  0.013163  0.035573  0.037563  0.0244  0.112437   \n",
       "22  0.000896  0.000533  0.026880  0.026900  0.050080  0.0232  0.099920   \n",
       "23 -0.039732 -0.000954  0.019684  0.044351  0.030384  0.0107  0.119616   \n",
       "47 -0.020979  0.018637 -0.019078  0.033933  0.041422  0.0605  0.108578   \n",
       "\n",
       "    button_transmission_prob  bead_transmission_prob  prob_product  \n",
       "4                   0.957379                0.999655      0.957048  \n",
       "21                  0.957644                0.972325      0.931142  \n",
       "22                  0.962269                0.973668      0.936931  \n",
       "23                  0.955002                0.987768      0.943320  \n",
       "47                  0.959068                0.932779      0.894598  "
      ]
     },
     "execution_count": 39,
     "metadata": {},
     "output_type": "execute_result"
    }
   ],
   "source": [
    "N_generated=df_less.shape[0]\n",
    "#df_less['N_emitted']=df_less['button_transmission_prob']*df_less['bead_transmission_prob']*N_generated\n",
    "df_less['prob_product']=df_less['button_transmission_prob']*df_less['bead_transmission_prob']\n",
    "df_less.head()"
   ]
  },
  {
   "cell_type": "code",
   "execution_count": 40,
   "id": "afd6845d-d741-4509-934c-d718321d0e1a",
   "metadata": {},
   "outputs": [
    {
     "data": {
      "text/plain": [
       "0.917"
      ]
     },
     "execution_count": 40,
     "metadata": {},
     "output_type": "execute_result"
    }
   ],
   "source": [
    "avg_of_prob=round(df_less['prob_product'].mean(),3)\n",
    "avg_of_prob"
   ]
  },
  {
   "cell_type": "code",
   "execution_count": 41,
   "id": "3fec806f-d699-4744-b637-93a3c266335d",
   "metadata": {},
   "outputs": [
    {
     "data": {
      "text/plain": [
       "0.917"
      ]
     },
     "execution_count": 41,
     "metadata": {},
     "output_type": "execute_result"
    }
   ],
   "source": [
    "avg_random=round(df_less['prob_product'].apply(lambda x:random_assign(x)).mean(),3)\n",
    "avg_random"
   ]
  },
  {
   "cell_type": "markdown",
   "id": "c184a543-0fe9-4522-b7a9-201b84cdb641",
   "metadata": {},
   "source": [
    "# IGNORE BELOW THIS"
   ]
  },
  {
   "cell_type": "code",
   "execution_count": 34,
   "id": "668c493d-40a5-48ff-9add-b2cd251a4f4d",
   "metadata": {},
   "outputs": [
    {
     "name": "stdout",
     "output_type": "stream",
     "text": [
      "test :[0, 0.958]\n",
      "test :[1, 0.946]\n",
      "test :[2, 0.935]\n",
      "test :[3, 0.924]\n",
      "test :[4, 0.913]\n",
      "test :[5, 0.903]\n",
      "test :[6, 0.892]\n",
      "test :[7, 0.882]\n",
      "test :[8, 0.872]\n",
      "test :[9, 0.862]\n"
     ]
    },
    {
     "data": {
      "text/html": [
       "<div>\n",
       "<style scoped>\n",
       "    .dataframe tbody tr th:only-of-type {\n",
       "        vertical-align: middle;\n",
       "    }\n",
       "\n",
       "    .dataframe tbody tr th {\n",
       "        vertical-align: top;\n",
       "    }\n",
       "\n",
       "    .dataframe thead th {\n",
       "        text-align: right;\n",
       "    }\n",
       "</style>\n",
       "<table border=\"1\" class=\"dataframe\">\n",
       "  <thead>\n",
       "    <tr style=\"text-align: right;\">\n",
       "      <th></th>\n",
       "      <th>x</th>\n",
       "      <th>y</th>\n",
       "      <th>z</th>\n",
       "      <th>r</th>\n",
       "      <th>z_new</th>\n",
       "      <th>d_bead</th>\n",
       "      <th>d_button</th>\n",
       "      <th>button_transmission_prob</th>\n",
       "      <th>bead_transmission_prob</th>\n",
       "      <th>prob_product</th>\n",
       "    </tr>\n",
       "  </thead>\n",
       "  <tbody>\n",
       "    <tr>\n",
       "      <th>3</th>\n",
       "      <td>0.047497</td>\n",
       "      <td>0.006968</td>\n",
       "      <td>-0.003179</td>\n",
       "      <td>0.048111</td>\n",
       "      <td>0.014021</td>\n",
       "      <td>0.0172</td>\n",
       "      <td>0.135979</td>\n",
       "      <td>0.949006</td>\n",
       "      <td>0.951745</td>\n",
       "      <td>0.903211</td>\n",
       "    </tr>\n",
       "    <tr>\n",
       "      <th>12</th>\n",
       "      <td>0.023846</td>\n",
       "      <td>-0.033606</td>\n",
       "      <td>0.026520</td>\n",
       "      <td>0.049003</td>\n",
       "      <td>0.028320</td>\n",
       "      <td>0.0018</td>\n",
       "      <td>0.121680</td>\n",
       "      <td>0.954243</td>\n",
       "      <td>0.994837</td>\n",
       "      <td>0.949317</td>\n",
       "    </tr>\n",
       "    <tr>\n",
       "      <th>19</th>\n",
       "      <td>0.024133</td>\n",
       "      <td>0.033255</td>\n",
       "      <td>-0.008861</td>\n",
       "      <td>0.042034</td>\n",
       "      <td>0.028539</td>\n",
       "      <td>0.0374</td>\n",
       "      <td>0.121461</td>\n",
       "      <td>0.954324</td>\n",
       "      <td>0.898037</td>\n",
       "      <td>0.857018</td>\n",
       "    </tr>\n",
       "    <tr>\n",
       "      <th>21</th>\n",
       "      <td>-0.025329</td>\n",
       "      <td>0.021287</td>\n",
       "      <td>-0.002507</td>\n",
       "      <td>0.033181</td>\n",
       "      <td>0.037493</td>\n",
       "      <td>0.0400</td>\n",
       "      <td>0.112507</td>\n",
       "      <td>0.957619</td>\n",
       "      <td>0.891348</td>\n",
       "      <td>0.853572</td>\n",
       "    </tr>\n",
       "    <tr>\n",
       "      <th>27</th>\n",
       "      <td>0.002256</td>\n",
       "      <td>-0.046914</td>\n",
       "      <td>-0.006089</td>\n",
       "      <td>0.047361</td>\n",
       "      <td>0.017211</td>\n",
       "      <td>0.0233</td>\n",
       "      <td>0.132789</td>\n",
       "      <td>0.950172</td>\n",
       "      <td>0.935196</td>\n",
       "      <td>0.888597</td>\n",
       "    </tr>\n",
       "  </tbody>\n",
       "</table>\n",
       "</div>"
      ],
      "text/plain": [
       "           x         y         z         r     z_new  d_bead  d_button  \\\n",
       "3   0.047497  0.006968 -0.003179  0.048111  0.014021  0.0172  0.135979   \n",
       "12  0.023846 -0.033606  0.026520  0.049003  0.028320  0.0018  0.121680   \n",
       "19  0.024133  0.033255 -0.008861  0.042034  0.028539  0.0374  0.121461   \n",
       "21 -0.025329  0.021287 -0.002507  0.033181  0.037493  0.0400  0.112507   \n",
       "27  0.002256 -0.046914 -0.006089  0.047361  0.017211  0.0233  0.132789   \n",
       "\n",
       "    button_transmission_prob  bead_transmission_prob  prob_product  \n",
       "3                   0.949006                0.951745      0.903211  \n",
       "12                  0.954243                0.994837      0.949317  \n",
       "19                  0.954324                0.898037      0.857018  \n",
       "21                  0.957619                0.891348      0.853572  \n",
       "27                  0.950172                0.935196      0.888597  "
      ]
     },
     "execution_count": 34,
     "metadata": {},
     "output_type": "execute_result"
    }
   ],
   "source": [
    "for i in np.arange(0,10):\n",
    "    test=get_prob(i)\n",
    "    print(f\"test :{test}\")\n",
    "df_less.head()\n",
    "    "
   ]
  },
  {
   "cell_type": "code",
   "execution_count": 22,
   "id": "dcbf78b9-fc53-4f4a-a73d-61513958e116",
   "metadata": {},
   "outputs": [],
   "source": [
    "def get_prob(bead_density):\n",
    "    '''\n",
    "    returns the net prob of transmission for the chosen density of bead\n",
    "    '''\n",
    "    df_less['bead_transmission_prob']=df_less.apply(lambda x:transmission_prob(x['d_bead'],bead_mu_pb,bead_density),axis=1)\n",
    "    df_less['prob_product']=df_less['button_transmission_prob']*df_less['bead_transmission_prob']\n",
    "    avg_prob=round(df_less['prob_product'].mean(),3)\n",
    "    return [bead_density,avg_prob]"
   ]
  },
  {
   "cell_type": "code",
   "execution_count": 33,
   "id": "4cc12fc2-b499-4818-a3e2-1cef7354f605",
   "metadata": {},
   "outputs": [
    {
     "ename": "TypeError",
     "evalue": "'float' object cannot be interpreted as an integer",
     "output_type": "error",
     "traceback": [
      "\u001b[0;31m---------------------------------------------------------------------------\u001b[0m",
      "\u001b[0;31mTypeError\u001b[0m                                 Traceback (most recent call last)",
      "Input \u001b[0;32mIn [33]\u001b[0m, in \u001b[0;36m<cell line: 1>\u001b[0;34m()\u001b[0m\n\u001b[0;32m----> 1\u001b[0m \u001b[38;5;28;01mfor\u001b[39;00m i \u001b[38;5;129;01min\u001b[39;00m \u001b[43mnp\u001b[49m\u001b[38;5;241;43m.\u001b[39;49m\u001b[43mlinspace\u001b[49m\u001b[43m(\u001b[49m\u001b[38;5;241;43m0\u001b[39;49m\u001b[43m,\u001b[49m\u001b[38;5;241;43m1\u001b[39;49m\u001b[43m,\u001b[49m\u001b[38;5;241;43m0.1\u001b[39;49m\u001b[43m)\u001b[49m:\n\u001b[1;32m      2\u001b[0m     test\u001b[38;5;241m=\u001b[39mget_prob(i)\n\u001b[1;32m      3\u001b[0m     \u001b[38;5;28mprint\u001b[39m(\u001b[38;5;124mf\u001b[39m\u001b[38;5;124m\"\u001b[39m\u001b[38;5;124mtest :\u001b[39m\u001b[38;5;132;01m{\u001b[39;00mtest\u001b[38;5;132;01m}\u001b[39;00m\u001b[38;5;124m\"\u001b[39m)\n",
      "File \u001b[0;32m<__array_function__ internals>:5\u001b[0m, in \u001b[0;36mlinspace\u001b[0;34m(*args, **kwargs)\u001b[0m\n",
      "File \u001b[0;32m~/.local/lib/python3.8/site-packages/numpy/core/function_base.py:113\u001b[0m, in \u001b[0;36mlinspace\u001b[0;34m(start, stop, num, endpoint, retstep, dtype, axis)\u001b[0m\n\u001b[1;32m     23\u001b[0m \u001b[38;5;129m@array_function_dispatch\u001b[39m(_linspace_dispatcher)\n\u001b[1;32m     24\u001b[0m \u001b[38;5;28;01mdef\u001b[39;00m \u001b[38;5;21mlinspace\u001b[39m(start, stop, num\u001b[38;5;241m=\u001b[39m\u001b[38;5;241m50\u001b[39m, endpoint\u001b[38;5;241m=\u001b[39m\u001b[38;5;28;01mTrue\u001b[39;00m, retstep\u001b[38;5;241m=\u001b[39m\u001b[38;5;28;01mFalse\u001b[39;00m, dtype\u001b[38;5;241m=\u001b[39m\u001b[38;5;28;01mNone\u001b[39;00m,\n\u001b[1;32m     25\u001b[0m              axis\u001b[38;5;241m=\u001b[39m\u001b[38;5;241m0\u001b[39m):\n\u001b[1;32m     26\u001b[0m     \u001b[38;5;124;03m\"\"\"\u001b[39;00m\n\u001b[1;32m     27\u001b[0m \u001b[38;5;124;03m    Return evenly spaced numbers over a specified interval.\u001b[39;00m\n\u001b[1;32m     28\u001b[0m \n\u001b[0;32m   (...)\u001b[0m\n\u001b[1;32m    111\u001b[0m \n\u001b[1;32m    112\u001b[0m \u001b[38;5;124;03m    \"\"\"\u001b[39;00m\n\u001b[0;32m--> 113\u001b[0m     num \u001b[38;5;241m=\u001b[39m \u001b[43moperator\u001b[49m\u001b[38;5;241;43m.\u001b[39;49m\u001b[43mindex\u001b[49m\u001b[43m(\u001b[49m\u001b[43mnum\u001b[49m\u001b[43m)\u001b[49m\n\u001b[1;32m    114\u001b[0m     \u001b[38;5;28;01mif\u001b[39;00m num \u001b[38;5;241m<\u001b[39m \u001b[38;5;241m0\u001b[39m:\n\u001b[1;32m    115\u001b[0m         \u001b[38;5;28;01mraise\u001b[39;00m \u001b[38;5;167;01mValueError\u001b[39;00m(\u001b[38;5;124m\"\u001b[39m\u001b[38;5;124mNumber of samples, \u001b[39m\u001b[38;5;132;01m%s\u001b[39;00m\u001b[38;5;124m, must be non-negative.\u001b[39m\u001b[38;5;124m\"\u001b[39m \u001b[38;5;241m%\u001b[39m num)\n",
      "\u001b[0;31mTypeError\u001b[0m: 'float' object cannot be interpreted as an integer"
     ]
    }
   ],
   "source": [
    "for i in np.linspace(0,1,0.1):\n",
    "    test=get_prob(i)\n",
    "    print(f\"test :{test}\")"
   ]
  },
  {
   "cell_type": "code",
   "execution_count": 32,
   "id": "491bef8c-1c7f-4e76-a958-5409d06da051",
   "metadata": {},
   "outputs": [
    {
     "data": {
      "text/plain": [
       "[0.3, 0.954]"
      ]
     },
     "execution_count": 32,
     "metadata": {},
     "output_type": "execute_result"
    }
   ],
   "source": [
    "get_prob(0.3)"
   ]
  },
  {
   "cell_type": "code",
   "execution_count": 81,
   "id": "ada8ea73-460b-4f9a-bbdd-04c55ea795da",
   "metadata": {},
   "outputs": [
    {
     "data": {
      "text/plain": [
       "0.954"
      ]
     },
     "execution_count": 81,
     "metadata": {},
     "output_type": "execute_result"
    }
   ],
   "source": [
    "avg_prob=round(df_less['prob_product'].mean(),3)\n",
    "avg_prob"
   ]
  },
  {
   "cell_type": "code",
   "execution_count": 87,
   "id": "4f034c55-8b32-4af4-bc7d-a12f3715a882",
   "metadata": {},
   "outputs": [],
   "source": [
    "prob=get_prob(0.1)"
   ]
  },
  {
   "cell_type": "code",
   "execution_count": 88,
   "id": "667999ab-9a0b-48b2-86bb-492121d6798d",
   "metadata": {},
   "outputs": [
    {
     "data": {
      "text/plain": [
       "[0.3, 0.956]"
      ]
     },
     "execution_count": 88,
     "metadata": {},
     "output_type": "execute_result"
    }
   ],
   "source": [
    "prob"
   ]
  },
  {
   "cell_type": "code",
   "execution_count": 89,
   "id": "ea1913a8-9031-4df1-b2f6-ddee5ccb9215",
   "metadata": {},
   "outputs": [
    {
     "ename": "TypeError",
     "evalue": "'float' object cannot be interpreted as an integer",
     "output_type": "error",
     "traceback": [
      "\u001b[0;31m---------------------------------------------------------------------------\u001b[0m",
      "\u001b[0;31mTypeError\u001b[0m                                 Traceback (most recent call last)",
      "Input \u001b[0;32mIn [89]\u001b[0m, in \u001b[0;36m<cell line: 1>\u001b[0;34m()\u001b[0m\n\u001b[0;32m----> 1\u001b[0m \u001b[38;5;28;01mfor\u001b[39;00m i \u001b[38;5;129;01min\u001b[39;00m \u001b[38;5;28;43mrange\u001b[39;49m\u001b[43m(\u001b[49m\u001b[38;5;241;43m0.1\u001b[39;49m\u001b[43m,\u001b[49m\u001b[38;5;241;43m10.0\u001b[39;49m\u001b[43m,\u001b[49m\u001b[38;5;241;43m0.1\u001b[39;49m\u001b[43m)\u001b[49m:\n\u001b[1;32m      2\u001b[0m     prob\u001b[38;5;241m=\u001b[39mget_prob(i)\n\u001b[1;32m      3\u001b[0m     \u001b[38;5;28mprint\u001b[39m(\u001b[38;5;124mf\u001b[39m\u001b[38;5;124m\"\u001b[39m\u001b[38;5;124mprob: \u001b[39m\u001b[38;5;132;01m{\u001b[39;00mprob\u001b[38;5;132;01m}\u001b[39;00m\u001b[38;5;124m\"\u001b[39m)\n",
      "\u001b[0;31mTypeError\u001b[0m: 'float' object cannot be interpreted as an integer"
     ]
    }
   ],
   "source": [
    "for i in range(0.1,10.0,0.1):\n",
    "    prob=get_prob(i)\n",
    "    print(f\"prob: {prob}\")"
   ]
  },
  {
   "cell_type": "code",
   "execution_count": null,
   "id": "f45a3269-ee99-4549-87f0-7982be59f717",
   "metadata": {},
   "outputs": [],
   "source": []
  }
 ],
 "metadata": {
  "kernelspec": {
   "display_name": "Python 3",
   "language": "python",
   "name": "python3"
  },
  "language_info": {
   "codemirror_mode": {
    "name": "ipython",
    "version": 3
   },
   "file_extension": ".py",
   "mimetype": "text/x-python",
   "name": "python",
   "nbconvert_exporter": "python",
   "pygments_lexer": "ipython3",
   "version": "3.8.10"
  }
 },
 "nbformat": 4,
 "nbformat_minor": 5
}
