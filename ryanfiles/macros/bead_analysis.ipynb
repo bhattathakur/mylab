{
 "cells": [
  {
   "cell_type": "code",
   "execution_count": 1,
   "id": "aaa1278e-bba3-4318-8deb-3a918b37eeb5",
   "metadata": {},
   "outputs": [],
   "source": [
    "import numpy as np\n",
    "import pandas as pd\n",
    "import matplotlib.pyplot as plt\n",
    "from mpl_toolkits import mplot3d\n"
   ]
  },
  {
   "cell_type": "code",
   "execution_count": 2,
   "id": "2038bc89-c577-48f6-9ab2-a7f504547149",
   "metadata": {},
   "outputs": [],
   "source": [
    "trials=100_00_00       #total simulated events\n",
    "low=-1;high=1;interval=high-low\n",
    "test=interval*np.random.rand(trials,3)+low\n",
    "#test\n",
    "x=test[:,0]\n",
    "y=test[:,1]\n",
    "z=test[:,2]"
   ]
  },
  {
   "cell_type": "code",
   "execution_count": 3,
   "id": "bebe4af8-7052-4957-a7f0-9a7627704363",
   "metadata": {},
   "outputs": [
    {
     "data": {
      "text/plain": [
       "array([ 0.58921989,  0.52727846,  0.51541434, ..., -0.90247302,\n",
       "        0.77557143, -0.31750351])"
      ]
     },
     "execution_count": 3,
     "metadata": {},
     "output_type": "execute_result"
    }
   ],
   "source": [
    "x"
   ]
  },
  {
   "cell_type": "code",
   "execution_count": 4,
   "id": "5bd1dc24-23f9-466a-9301-18e1061414b2",
   "metadata": {},
   "outputs": [
    {
     "data": {
      "text/plain": [
       "array([-0.95711113, -0.47290578, -0.0783168 , ..., -0.65099603,\n",
       "       -0.45457009,  0.50184163])"
      ]
     },
     "execution_count": 4,
     "metadata": {},
     "output_type": "execute_result"
    }
   ],
   "source": [
    "y"
   ]
  },
  {
   "cell_type": "code",
   "execution_count": 5,
   "id": "435076d9-bc59-488d-a2f8-448c6750bb7b",
   "metadata": {},
   "outputs": [
    {
     "data": {
      "text/plain": [
       "array([ 0.60966704,  0.41310271,  0.46077284, ..., -0.81154267,\n",
       "        0.94976864,  0.54875563])"
      ]
     },
     "execution_count": 5,
     "metadata": {},
     "output_type": "execute_result"
    }
   ],
   "source": [
    "z"
   ]
  },
  {
   "cell_type": "code",
   "execution_count": 6,
   "id": "f6d91c01-c2de-4040-9019-c2914e31302b",
   "metadata": {},
   "outputs": [
    {
     "data": {
      "text/plain": [
       "array([1.27864604, 0.81994896, 0.69577085, ..., 1.37726355, 1.30774825,\n",
       "       0.80857049])"
      ]
     },
     "execution_count": 6,
     "metadata": {},
     "output_type": "execute_result"
    }
   ],
   "source": [
    "\n",
    "r=np.sqrt(x**2+y**2+z**2)\n",
    "r"
   ]
  },
  {
   "cell_type": "code",
   "execution_count": 7,
   "id": "101ef693-886a-48f3-aca5-a754d95b4932",
   "metadata": {},
   "outputs": [],
   "source": [
    "test=np.column_stack((test,r))"
   ]
  },
  {
   "cell_type": "code",
   "execution_count": 8,
   "id": "3dc9bc9b-2c4e-4de6-9f37-a28f18645210",
   "metadata": {},
   "outputs": [
    {
     "data": {
      "text/html": [
       "<div>\n",
       "<style scoped>\n",
       "    .dataframe tbody tr th:only-of-type {\n",
       "        vertical-align: middle;\n",
       "    }\n",
       "\n",
       "    .dataframe tbody tr th {\n",
       "        vertical-align: top;\n",
       "    }\n",
       "\n",
       "    .dataframe thead th {\n",
       "        text-align: right;\n",
       "    }\n",
       "</style>\n",
       "<table border=\"1\" class=\"dataframe\">\n",
       "  <thead>\n",
       "    <tr style=\"text-align: right;\">\n",
       "      <th></th>\n",
       "      <th>x</th>\n",
       "      <th>y</th>\n",
       "      <th>z</th>\n",
       "      <th>r</th>\n",
       "    </tr>\n",
       "  </thead>\n",
       "  <tbody>\n",
       "    <tr>\n",
       "      <th>0</th>\n",
       "      <td>0.589220</td>\n",
       "      <td>-0.957111</td>\n",
       "      <td>0.609667</td>\n",
       "      <td>1.278646</td>\n",
       "    </tr>\n",
       "    <tr>\n",
       "      <th>1</th>\n",
       "      <td>0.527278</td>\n",
       "      <td>-0.472906</td>\n",
       "      <td>0.413103</td>\n",
       "      <td>0.819949</td>\n",
       "    </tr>\n",
       "    <tr>\n",
       "      <th>2</th>\n",
       "      <td>0.515414</td>\n",
       "      <td>-0.078317</td>\n",
       "      <td>0.460773</td>\n",
       "      <td>0.695771</td>\n",
       "    </tr>\n",
       "    <tr>\n",
       "      <th>3</th>\n",
       "      <td>-0.835659</td>\n",
       "      <td>0.803216</td>\n",
       "      <td>0.544306</td>\n",
       "      <td>1.280528</td>\n",
       "    </tr>\n",
       "    <tr>\n",
       "      <th>4</th>\n",
       "      <td>0.032929</td>\n",
       "      <td>-0.697891</td>\n",
       "      <td>-0.666253</td>\n",
       "      <td>0.965417</td>\n",
       "    </tr>\n",
       "  </tbody>\n",
       "</table>\n",
       "</div>"
      ],
      "text/plain": [
       "          x         y         z         r\n",
       "0  0.589220 -0.957111  0.609667  1.278646\n",
       "1  0.527278 -0.472906  0.413103  0.819949\n",
       "2  0.515414 -0.078317  0.460773  0.695771\n",
       "3 -0.835659  0.803216  0.544306  1.280528\n",
       "4  0.032929 -0.697891 -0.666253  0.965417"
      ]
     },
     "execution_count": 8,
     "metadata": {},
     "output_type": "execute_result"
    }
   ],
   "source": [
    "df=pd.DataFrame(test,columns=['x','y','z','r']) #data frame with x,y,z and r\n",
    "df.head()"
   ]
  },
  {
   "cell_type": "code",
   "execution_count": 9,
   "id": "7cb0f7e2-aab6-4739-897b-b16ce5f6f20b",
   "metadata": {},
   "outputs": [
    {
     "data": {
      "text/plain": [
       "65379"
      ]
     },
     "execution_count": 9,
     "metadata": {},
     "output_type": "execute_result"
    }
   ],
   "source": [
    "df_less=df[df.r<0.5]          #data frame with r<0.5 (radius of the bead)\n",
    "df_less.head()\n",
    "total_counts=df_less.shape[0]\n",
    "total_counts"
   ]
  },
  {
   "cell_type": "code",
   "execution_count": 10,
   "id": "1480da98-6945-4c19-8ca0-e4c5c7049f5f",
   "metadata": {},
   "outputs": [],
   "source": [
    "# %matplotlib inline\n",
    "# fig = plt.figure()\n",
    "# ax = fig.add_subplot(projection='3d')\n",
    "# ax.scatter(df_less.x,df_less.y,df_less.z)"
   ]
  },
  {
   "cell_type": "code",
   "execution_count": 11,
   "id": "b3c5478d-71a0-41a8-8620-0640684ca499",
   "metadata": {},
   "outputs": [],
   "source": [
    "#this function give the normal distance from a point to the surface of the sphere\n",
    "\n",
    "def get_upward_distance(x,y,z,dz=0.001,r=0.5):\n",
    "    '''\n",
    "    returns normal distance from a point in the sphere to the surface as well as the z co-ordinate in the sphere\n",
    "    '''\n",
    "    #z=np.abs(z)\n",
    "    d=np.sqrt(x**2+y**2+z**2)\n",
    "    if z==-0.5: return 1.0,0.5\n",
    "    z_up=0\n",
    "    #print(f\"before while z_up: {z_up}\")\n",
    "    while(d<r):\n",
    "        z+=dz\n",
    "        #print(f\"Inside while z: {z}\")\n",
    "        z_up+=dz\n",
    "        d=np.sqrt(x**2+y**2+z**2)\n",
    "    #print(f\"after while z_up: {z_up}\")\n",
    "    return z_up,z\n",
    "        \n",
    "    "
   ]
  },
  {
   "cell_type": "code",
   "execution_count": 12,
   "id": "b679617f-38b0-4edd-872d-c2f580dbdd28",
   "metadata": {},
   "outputs": [
    {
     "name": "stderr",
     "output_type": "stream",
     "text": [
      "/tmp/ipykernel_4988/2709360843.py:3: SettingWithCopyWarning: \n",
      "A value is trying to be set on a copy of a slice from a DataFrame.\n",
      "Try using .loc[row_indexer,col_indexer] = value instead\n",
      "\n",
      "See the caveats in the documentation: https://pandas.pydata.org/pandas-docs/stable/user_guide/indexing.html#returning-a-view-versus-a-copy\n",
      "  df_less['z_new']=df_less.apply(lambda x:get_upward_distance(x['x'],x['y'],x['z'])[1],axis=1)\n",
      "/tmp/ipykernel_4988/2709360843.py:4: SettingWithCopyWarning: \n",
      "A value is trying to be set on a copy of a slice from a DataFrame.\n",
      "Try using .loc[row_indexer,col_indexer] = value instead\n",
      "\n",
      "See the caveats in the documentation: https://pandas.pydata.org/pandas-docs/stable/user_guide/indexing.html#returning-a-view-versus-a-copy\n",
      "  df_less['d_bead']=df_less.apply(lambda x:get_upward_distance(x['x'],x['y'],x['z'])[0],axis=1)\n"
     ]
    },
    {
     "data": {
      "text/html": [
       "<div>\n",
       "<style scoped>\n",
       "    .dataframe tbody tr th:only-of-type {\n",
       "        vertical-align: middle;\n",
       "    }\n",
       "\n",
       "    .dataframe tbody tr th {\n",
       "        vertical-align: top;\n",
       "    }\n",
       "\n",
       "    .dataframe thead th {\n",
       "        text-align: right;\n",
       "    }\n",
       "</style>\n",
       "<table border=\"1\" class=\"dataframe\">\n",
       "  <thead>\n",
       "    <tr style=\"text-align: right;\">\n",
       "      <th></th>\n",
       "      <th>x</th>\n",
       "      <th>y</th>\n",
       "      <th>z</th>\n",
       "      <th>r</th>\n",
       "      <th>z_new</th>\n",
       "      <th>d_bead</th>\n",
       "    </tr>\n",
       "  </thead>\n",
       "  <tbody>\n",
       "    <tr>\n",
       "      <th>10</th>\n",
       "      <td>-0.125665</td>\n",
       "      <td>-0.285462</td>\n",
       "      <td>-0.288042</td>\n",
       "      <td>0.424557</td>\n",
       "      <td>0.390958</td>\n",
       "      <td>0.679</td>\n",
       "    </tr>\n",
       "    <tr>\n",
       "      <th>40</th>\n",
       "      <td>-0.128329</td>\n",
       "      <td>-0.086420</td>\n",
       "      <td>0.278886</td>\n",
       "      <td>0.318926</td>\n",
       "      <td>0.475886</td>\n",
       "      <td>0.197</td>\n",
       "    </tr>\n",
       "    <tr>\n",
       "      <th>51</th>\n",
       "      <td>0.355255</td>\n",
       "      <td>-0.086812</td>\n",
       "      <td>-0.114015</td>\n",
       "      <td>0.383069</td>\n",
       "      <td>0.340985</td>\n",
       "      <td>0.455</td>\n",
       "    </tr>\n",
       "    <tr>\n",
       "      <th>53</th>\n",
       "      <td>-0.055755</td>\n",
       "      <td>0.311893</td>\n",
       "      <td>0.297357</td>\n",
       "      <td>0.434519</td>\n",
       "      <td>0.387357</td>\n",
       "      <td>0.090</td>\n",
       "    </tr>\n",
       "    <tr>\n",
       "      <th>89</th>\n",
       "      <td>-0.148706</td>\n",
       "      <td>0.049641</td>\n",
       "      <td>-0.408563</td>\n",
       "      <td>0.437609</td>\n",
       "      <td>0.475437</td>\n",
       "      <td>0.884</td>\n",
       "    </tr>\n",
       "  </tbody>\n",
       "</table>\n",
       "</div>"
      ],
      "text/plain": [
       "           x         y         z         r     z_new  d_bead\n",
       "10 -0.125665 -0.285462 -0.288042  0.424557  0.390958   0.679\n",
       "40 -0.128329 -0.086420  0.278886  0.318926  0.475886   0.197\n",
       "51  0.355255 -0.086812 -0.114015  0.383069  0.340985   0.455\n",
       "53 -0.055755  0.311893  0.297357  0.434519  0.387357   0.090\n",
       "89 -0.148706  0.049641 -0.408563  0.437609  0.475437   0.884"
      ]
     },
     "execution_count": 12,
     "metadata": {},
     "output_type": "execute_result"
    }
   ],
   "source": [
    "#distance travelled in the bead\n",
    "\n",
    "df_less['z_new']=df_less.apply(lambda x:get_upward_distance(x['x'],x['y'],x['z'])[1],axis=1)\n",
    "df_less['d_bead']=df_less.apply(lambda x:get_upward_distance(x['x'],x['y'],x['z'])[0],axis=1)\n",
    "df_less.head()"
   ]
  },
  {
   "cell_type": "code",
   "execution_count": 13,
   "id": "bec985d5-4823-4d84-a748-4df1086b496b",
   "metadata": {},
   "outputs": [
    {
     "name": "stderr",
     "output_type": "stream",
     "text": [
      "/tmp/ipykernel_4988/1364162647.py:3: SettingWithCopyWarning: \n",
      "A value is trying to be set on a copy of a slice from a DataFrame.\n",
      "Try using .loc[row_indexer,col_indexer] = value instead\n",
      "\n",
      "See the caveats in the documentation: https://pandas.pydata.org/pandas-docs/stable/user_guide/indexing.html#returning-a-view-versus-a-copy\n",
      "  df_less['d_button']=button_thickness/2.-df_less['z_new'] #Thickness of button is 3 mm and thickness above 0 is 1.5 mm\n"
     ]
    },
    {
     "data": {
      "text/html": [
       "<div>\n",
       "<style scoped>\n",
       "    .dataframe tbody tr th:only-of-type {\n",
       "        vertical-align: middle;\n",
       "    }\n",
       "\n",
       "    .dataframe tbody tr th {\n",
       "        vertical-align: top;\n",
       "    }\n",
       "\n",
       "    .dataframe thead th {\n",
       "        text-align: right;\n",
       "    }\n",
       "</style>\n",
       "<table border=\"1\" class=\"dataframe\">\n",
       "  <thead>\n",
       "    <tr style=\"text-align: right;\">\n",
       "      <th></th>\n",
       "      <th>x</th>\n",
       "      <th>y</th>\n",
       "      <th>z</th>\n",
       "      <th>r</th>\n",
       "      <th>z_new</th>\n",
       "      <th>d_bead</th>\n",
       "      <th>d_button</th>\n",
       "    </tr>\n",
       "  </thead>\n",
       "  <tbody>\n",
       "    <tr>\n",
       "      <th>10</th>\n",
       "      <td>-0.125665</td>\n",
       "      <td>-0.285462</td>\n",
       "      <td>-0.288042</td>\n",
       "      <td>0.424557</td>\n",
       "      <td>0.390958</td>\n",
       "      <td>0.679</td>\n",
       "      <td>1.109042</td>\n",
       "    </tr>\n",
       "    <tr>\n",
       "      <th>40</th>\n",
       "      <td>-0.128329</td>\n",
       "      <td>-0.086420</td>\n",
       "      <td>0.278886</td>\n",
       "      <td>0.318926</td>\n",
       "      <td>0.475886</td>\n",
       "      <td>0.197</td>\n",
       "      <td>1.024114</td>\n",
       "    </tr>\n",
       "    <tr>\n",
       "      <th>51</th>\n",
       "      <td>0.355255</td>\n",
       "      <td>-0.086812</td>\n",
       "      <td>-0.114015</td>\n",
       "      <td>0.383069</td>\n",
       "      <td>0.340985</td>\n",
       "      <td>0.455</td>\n",
       "      <td>1.159015</td>\n",
       "    </tr>\n",
       "    <tr>\n",
       "      <th>53</th>\n",
       "      <td>-0.055755</td>\n",
       "      <td>0.311893</td>\n",
       "      <td>0.297357</td>\n",
       "      <td>0.434519</td>\n",
       "      <td>0.387357</td>\n",
       "      <td>0.090</td>\n",
       "      <td>1.112643</td>\n",
       "    </tr>\n",
       "    <tr>\n",
       "      <th>89</th>\n",
       "      <td>-0.148706</td>\n",
       "      <td>0.049641</td>\n",
       "      <td>-0.408563</td>\n",
       "      <td>0.437609</td>\n",
       "      <td>0.475437</td>\n",
       "      <td>0.884</td>\n",
       "      <td>1.024563</td>\n",
       "    </tr>\n",
       "  </tbody>\n",
       "</table>\n",
       "</div>"
      ],
      "text/plain": [
       "           x         y         z         r     z_new  d_bead  d_button\n",
       "10 -0.125665 -0.285462 -0.288042  0.424557  0.390958   0.679  1.109042\n",
       "40 -0.128329 -0.086420  0.278886  0.318926  0.475886   0.197  1.024114\n",
       "51  0.355255 -0.086812 -0.114015  0.383069  0.340985   0.455  1.159015\n",
       "53 -0.055755  0.311893  0.297357  0.434519  0.387357   0.090  1.112643\n",
       "89 -0.148706  0.049641 -0.408563  0.437609  0.475437   0.884  1.024563"
      ]
     },
     "execution_count": 13,
     "metadata": {},
     "output_type": "execute_result"
    }
   ],
   "source": [
    "#distance travelled in the button\n",
    "button_thickness=3.0\n",
    "df_less['d_button']=button_thickness/2.-df_less['z_new'] #Thickness of button is 3 mm and thickness above 0 is 1.5 mm\n",
    "df_less.head()"
   ]
  },
  {
   "cell_type": "code",
   "execution_count": 14,
   "id": "c69432b9-cdbc-496f-984a-e2e8aff7093a",
   "metadata": {},
   "outputs": [
    {
     "data": {
      "text/html": [
       "<div>\n",
       "<style scoped>\n",
       "    .dataframe tbody tr th:only-of-type {\n",
       "        vertical-align: middle;\n",
       "    }\n",
       "\n",
       "    .dataframe tbody tr th {\n",
       "        vertical-align: top;\n",
       "    }\n",
       "\n",
       "    .dataframe thead th {\n",
       "        text-align: right;\n",
       "    }\n",
       "</style>\n",
       "<table border=\"1\" class=\"dataframe\">\n",
       "  <thead>\n",
       "    <tr style=\"text-align: right;\">\n",
       "      <th></th>\n",
       "      <th>x</th>\n",
       "      <th>y</th>\n",
       "      <th>z</th>\n",
       "      <th>r</th>\n",
       "      <th>z_new</th>\n",
       "      <th>d_bead</th>\n",
       "      <th>d_button</th>\n",
       "    </tr>\n",
       "  </thead>\n",
       "  <tbody>\n",
       "    <tr>\n",
       "      <th>10</th>\n",
       "      <td>-0.012567</td>\n",
       "      <td>-0.028546</td>\n",
       "      <td>-0.028804</td>\n",
       "      <td>0.042456</td>\n",
       "      <td>0.039096</td>\n",
       "      <td>0.0679</td>\n",
       "      <td>0.110904</td>\n",
       "    </tr>\n",
       "    <tr>\n",
       "      <th>40</th>\n",
       "      <td>-0.012833</td>\n",
       "      <td>-0.008642</td>\n",
       "      <td>0.027889</td>\n",
       "      <td>0.031893</td>\n",
       "      <td>0.047589</td>\n",
       "      <td>0.0197</td>\n",
       "      <td>0.102411</td>\n",
       "    </tr>\n",
       "    <tr>\n",
       "      <th>51</th>\n",
       "      <td>0.035526</td>\n",
       "      <td>-0.008681</td>\n",
       "      <td>-0.011401</td>\n",
       "      <td>0.038307</td>\n",
       "      <td>0.034099</td>\n",
       "      <td>0.0455</td>\n",
       "      <td>0.115901</td>\n",
       "    </tr>\n",
       "    <tr>\n",
       "      <th>53</th>\n",
       "      <td>-0.005575</td>\n",
       "      <td>0.031189</td>\n",
       "      <td>0.029736</td>\n",
       "      <td>0.043452</td>\n",
       "      <td>0.038736</td>\n",
       "      <td>0.0090</td>\n",
       "      <td>0.111264</td>\n",
       "    </tr>\n",
       "    <tr>\n",
       "      <th>89</th>\n",
       "      <td>-0.014871</td>\n",
       "      <td>0.004964</td>\n",
       "      <td>-0.040856</td>\n",
       "      <td>0.043761</td>\n",
       "      <td>0.047544</td>\n",
       "      <td>0.0884</td>\n",
       "      <td>0.102456</td>\n",
       "    </tr>\n",
       "  </tbody>\n",
       "</table>\n",
       "</div>"
      ],
      "text/plain": [
       "           x         y         z         r     z_new  d_bead  d_button\n",
       "10 -0.012567 -0.028546 -0.028804  0.042456  0.039096  0.0679  0.110904\n",
       "40 -0.012833 -0.008642  0.027889  0.031893  0.047589  0.0197  0.102411\n",
       "51  0.035526 -0.008681 -0.011401  0.038307  0.034099  0.0455  0.115901\n",
       "53 -0.005575  0.031189  0.029736  0.043452  0.038736  0.0090  0.111264\n",
       "89 -0.014871  0.004964 -0.040856  0.043761  0.047544  0.0884  0.102456"
      ]
     },
     "execution_count": 14,
     "metadata": {},
     "output_type": "execute_result"
    }
   ],
   "source": [
    "#changing mm to cm\n",
    "mm_to_cm=0.1\n",
    "df_less=df_less*mm_to_cm\n",
    "df_less.head()"
   ]
  },
  {
   "cell_type": "markdown",
   "id": "53223297-a21d-4b97-ae6c-686a80f4131f",
   "metadata": {},
   "source": [
    "$ P_{transmission} = e^{-\\frac{x}{\\lambda}} $ <br>\n",
    "\n",
    "x is thickness and $\\lambda$ is attenuation length\n",
    "<br> $\\lambda = \\frac{1}{\\rho \\cdot \\mu} $ <br>\n",
    "$ P_{transmission} = e^{-\\mu \\cdot \\rho \\cdot x} $ <br>\n",
    "\n",
    "$ \\mu $ ($cm^2/g$) <br> $ \\rho $ ($g/cm^3$) <br> $\\lambda (cm)$ <br>\n",
    "$ \\mu$ from https://physics.nist.gov/PhysRefData/Xcom/html/xcom1.html\n",
    "<br>\n",
    "Tranmission factor from: https://www.ezag.com/home/products/isotope_products/isotrak_calibration_sources/reference_sources/gamma_sources/point_sources/#c601"
   ]
  },
  {
   "cell_type": "markdown",
   "id": "2cefd469-e336-4214-b9c2-94e03bfce5e1",
   "metadata": {},
   "source": [
    "# fMaterialsManager->AddMaterial(\"Acrylic\",\"C5-H8-O2\",1.18*g/cm3,\"\")\n",
    "# ceramic: O7410-Na300-Ca60-Mg10-Al600-Si1600-Pb4\n"
   ]
  },
  {
   "cell_type": "markdown",
   "id": "e3102f3f-22b3-4e86-b095-55f69cb95be1",
   "metadata": {},
   "source": [
    "![image](beadcomposition.png)"
   ]
  },
  {
   "cell_type": "code",
   "execution_count": 19,
   "id": "dd79593e-e9ed-4ba1-92a6-641848b2de03",
   "metadata": {},
   "outputs": [],
   "source": [
    "#Probabality of scatering from the button\n",
    "\n",
    "button_density = 1.10         #.18        #g/cm^3 (from simulation data)\n",
    "#button_mu_pb   = 0.1976       #C5H8O2 for 47keV (0.047 MeV) gamma rays\n",
    "bead_mu_pb     = 3.195E-01    #47 keV pb-21O for ceramic=> O7410Na300Ca60Mg10Al600Si1600Pb4\n",
    "bead_mu_am     = 2.314E-01    #60 keV am-241 for ceramic=> O7410Na300Ca60Mg10Al600Si1600Pb4\n",
    "\n",
    "button_mu_pb =    1.797E-01     #C870O98N32\n",
    "button_mu_am =    1.669E-01     #60 keV Am-241\n",
    "\n",
    "\n",
    "\n",
    "#trnasmission factors from manufacturer\n",
    "transmission_pb=0.964   #47 keV pb-210\n",
    "\n",
    "transmission_am=0.958   #60 keV am-241\n",
    "\n",
    "#Am-241 0.958\n",
    "\n",
    "\n",
    "#button_mu_am=0.1815    #60 keV am-241\n",
    "#lambda calculation for acrylic button  (C5H802)\n",
    "#fMaterialsManager->AddMaterial(\"Acrylic\",\"C5-H8-O2\",1.18*g/cm3,\"\");\n",
    "#density is from oldmc\n",
    "\n",
    "\n",
    "\n",
    "\n",
    "def transmission_prob(x,mu,rho):\n",
    "    '''reutrns button transmission probability'''\n",
    "    #return (1-np.exp(-1.0*x*mu*rho))\n",
    "    return (np.exp(-1.0*x*mu*rho))\n",
    "\n",
    "    \n",
    "    \n",
    "    "
   ]
  },
  {
   "cell_type": "code",
   "execution_count": 20,
   "id": "e7378abf-f859-431e-886f-86f0a01353b4",
   "metadata": {},
   "outputs": [
    {
     "data": {
      "text/html": [
       "<div>\n",
       "<style scoped>\n",
       "    .dataframe tbody tr th:only-of-type {\n",
       "        vertical-align: middle;\n",
       "    }\n",
       "\n",
       "    .dataframe tbody tr th {\n",
       "        vertical-align: top;\n",
       "    }\n",
       "\n",
       "    .dataframe thead th {\n",
       "        text-align: right;\n",
       "    }\n",
       "</style>\n",
       "<table border=\"1\" class=\"dataframe\">\n",
       "  <thead>\n",
       "    <tr style=\"text-align: right;\">\n",
       "      <th></th>\n",
       "      <th>x</th>\n",
       "      <th>y</th>\n",
       "      <th>z</th>\n",
       "      <th>r</th>\n",
       "      <th>z_new</th>\n",
       "      <th>d_bead</th>\n",
       "      <th>d_button</th>\n",
       "      <th>button_transmission_prob_pb</th>\n",
       "      <th>button_transmission_prob_am</th>\n",
       "      <th>bead_transmission_prob_pb</th>\n",
       "    </tr>\n",
       "  </thead>\n",
       "  <tbody>\n",
       "    <tr>\n",
       "      <th>10</th>\n",
       "      <td>-0.012567</td>\n",
       "      <td>-0.028546</td>\n",
       "      <td>-0.028804</td>\n",
       "      <td>0.042456</td>\n",
       "      <td>0.039096</td>\n",
       "      <td>0.0679</td>\n",
       "      <td>0.110904</td>\n",
       "      <td>0.978316</td>\n",
       "      <td>0.979845</td>\n",
       "      <td>0.974303</td>\n",
       "    </tr>\n",
       "    <tr>\n",
       "      <th>40</th>\n",
       "      <td>-0.012833</td>\n",
       "      <td>-0.008642</td>\n",
       "      <td>0.027889</td>\n",
       "      <td>0.031893</td>\n",
       "      <td>0.047589</td>\n",
       "      <td>0.0197</td>\n",
       "      <td>0.102411</td>\n",
       "      <td>0.979960</td>\n",
       "      <td>0.981374</td>\n",
       "      <td>0.992475</td>\n",
       "    </tr>\n",
       "    <tr>\n",
       "      <th>51</th>\n",
       "      <td>0.035526</td>\n",
       "      <td>-0.008681</td>\n",
       "      <td>-0.011401</td>\n",
       "      <td>0.038307</td>\n",
       "      <td>0.034099</td>\n",
       "      <td>0.0455</td>\n",
       "      <td>0.115901</td>\n",
       "      <td>0.977350</td>\n",
       "      <td>0.978946</td>\n",
       "      <td>0.982707</td>\n",
       "    </tr>\n",
       "    <tr>\n",
       "      <th>53</th>\n",
       "      <td>-0.005575</td>\n",
       "      <td>0.031189</td>\n",
       "      <td>0.029736</td>\n",
       "      <td>0.043452</td>\n",
       "      <td>0.038736</td>\n",
       "      <td>0.0090</td>\n",
       "      <td>0.111264</td>\n",
       "      <td>0.978246</td>\n",
       "      <td>0.979780</td>\n",
       "      <td>0.996555</td>\n",
       "    </tr>\n",
       "    <tr>\n",
       "      <th>89</th>\n",
       "      <td>-0.014871</td>\n",
       "      <td>0.004964</td>\n",
       "      <td>-0.040856</td>\n",
       "      <td>0.043761</td>\n",
       "      <td>0.047544</td>\n",
       "      <td>0.0884</td>\n",
       "      <td>0.102456</td>\n",
       "      <td>0.979951</td>\n",
       "      <td>0.981366</td>\n",
       "      <td>0.966675</td>\n",
       "    </tr>\n",
       "  </tbody>\n",
       "</table>\n",
       "</div>"
      ],
      "text/plain": [
       "           x         y         z         r     z_new  d_bead  d_button  \\\n",
       "10 -0.012567 -0.028546 -0.028804  0.042456  0.039096  0.0679  0.110904   \n",
       "40 -0.012833 -0.008642  0.027889  0.031893  0.047589  0.0197  0.102411   \n",
       "51  0.035526 -0.008681 -0.011401  0.038307  0.034099  0.0455  0.115901   \n",
       "53 -0.005575  0.031189  0.029736  0.043452  0.038736  0.0090  0.111264   \n",
       "89 -0.014871  0.004964 -0.040856  0.043761  0.047544  0.0884  0.102456   \n",
       "\n",
       "    button_transmission_prob_pb  button_transmission_prob_am  \\\n",
       "10                     0.978316                     0.979845   \n",
       "40                     0.979960                     0.981374   \n",
       "51                     0.977350                     0.978946   \n",
       "53                     0.978246                     0.979780   \n",
       "89                     0.979951                     0.981366   \n",
       "\n",
       "    bead_transmission_prob_pb  \n",
       "10                   0.974303  \n",
       "40                   0.992475  \n",
       "51                   0.982707  \n",
       "53                   0.996555  \n",
       "89                   0.966675  "
      ]
     },
     "execution_count": 20,
     "metadata": {},
     "output_type": "execute_result"
    }
   ],
   "source": [
    "#adding the transmississin though button\n",
    "df_less['button_transmission_prob_pb']=df_less.apply(lambda x:transmission_prob(x['d_button'],button_mu_pb,button_density),axis=1)\n",
    "df_less['button_transmission_prob_am']=df_less.apply(lambda x:transmission_prob(x['d_button'],button_mu_am,button_density),axis=1)\n",
    "df_less.head()"
   ]
  },
  {
   "cell_type": "code",
   "execution_count": 21,
   "id": "5eff401b-035b-46c7-b259-b876b2a7be62",
   "metadata": {},
   "outputs": [],
   "source": [
    "#creating the random number bewteen 0 and 1, if the prob_product is greater than random number add 1 else add 0\n",
    "def random_assign(x):\n",
    "    if x>np.random.rand():\n",
    "        return 1\n",
    "    return 0\n",
    "    "
   ]
  },
  {
   "cell_type": "code",
   "execution_count": 82,
   "id": "f5e8e01e-2143-49cb-bc5a-afd93e18c5af",
   "metadata": {},
   "outputs": [
    {
     "data": {
      "text/html": [
       "<div>\n",
       "<style scoped>\n",
       "    .dataframe tbody tr th:only-of-type {\n",
       "        vertical-align: middle;\n",
       "    }\n",
       "\n",
       "    .dataframe tbody tr th {\n",
       "        vertical-align: top;\n",
       "    }\n",
       "\n",
       "    .dataframe thead th {\n",
       "        text-align: right;\n",
       "    }\n",
       "</style>\n",
       "<table border=\"1\" class=\"dataframe\">\n",
       "  <thead>\n",
       "    <tr style=\"text-align: right;\">\n",
       "      <th></th>\n",
       "      <th>x</th>\n",
       "      <th>y</th>\n",
       "      <th>z</th>\n",
       "      <th>r</th>\n",
       "      <th>z_new</th>\n",
       "      <th>d_bead</th>\n",
       "      <th>d_button</th>\n",
       "      <th>button_transmission_prob_pb</th>\n",
       "      <th>button_transmission_prob_am</th>\n",
       "      <th>bead_transmission_prob_pb</th>\n",
       "      <th>bead_transmission_prob_am</th>\n",
       "      <th>prob_product_pb</th>\n",
       "      <th>prob_product_am</th>\n",
       "    </tr>\n",
       "  </thead>\n",
       "  <tbody>\n",
       "    <tr>\n",
       "      <th>10</th>\n",
       "      <td>-0.012567</td>\n",
       "      <td>-0.028546</td>\n",
       "      <td>-0.028804</td>\n",
       "      <td>0.042456</td>\n",
       "      <td>0.039096</td>\n",
       "      <td>0.0679</td>\n",
       "      <td>0.110904</td>\n",
       "      <td>0.978316</td>\n",
       "      <td>0.979845</td>\n",
       "      <td>0.947209</td>\n",
       "      <td>0.961481</td>\n",
       "      <td>0.928683</td>\n",
       "      <td>0.943584</td>\n",
       "    </tr>\n",
       "    <tr>\n",
       "      <th>40</th>\n",
       "      <td>-0.012833</td>\n",
       "      <td>-0.008642</td>\n",
       "      <td>0.027889</td>\n",
       "      <td>0.031893</td>\n",
       "      <td>0.047589</td>\n",
       "      <td>0.0197</td>\n",
       "      <td>0.102411</td>\n",
       "      <td>0.979960</td>\n",
       "      <td>0.981374</td>\n",
       "      <td>0.984388</td>\n",
       "      <td>0.988668</td>\n",
       "      <td>0.965268</td>\n",
       "      <td>0.970696</td>\n",
       "    </tr>\n",
       "    <tr>\n",
       "      <th>51</th>\n",
       "      <td>0.035526</td>\n",
       "      <td>-0.008681</td>\n",
       "      <td>-0.011401</td>\n",
       "      <td>0.038307</td>\n",
       "      <td>0.034099</td>\n",
       "      <td>0.0455</td>\n",
       "      <td>0.115901</td>\n",
       "      <td>0.977350</td>\n",
       "      <td>0.978946</td>\n",
       "      <td>0.964309</td>\n",
       "      <td>0.974022</td>\n",
       "      <td>0.943839</td>\n",
       "      <td>0.954519</td>\n",
       "    </tr>\n",
       "    <tr>\n",
       "      <th>53</th>\n",
       "      <td>-0.005575</td>\n",
       "      <td>0.031189</td>\n",
       "      <td>0.029736</td>\n",
       "      <td>0.043452</td>\n",
       "      <td>0.038736</td>\n",
       "      <td>0.0090</td>\n",
       "      <td>0.111264</td>\n",
       "      <td>0.978246</td>\n",
       "      <td>0.979780</td>\n",
       "      <td>0.992837</td>\n",
       "      <td>0.994807</td>\n",
       "      <td>0.971519</td>\n",
       "      <td>0.974895</td>\n",
       "    </tr>\n",
       "    <tr>\n",
       "      <th>89</th>\n",
       "      <td>-0.014871</td>\n",
       "      <td>0.004964</td>\n",
       "      <td>-0.040856</td>\n",
       "      <td>0.043761</td>\n",
       "      <td>0.047544</td>\n",
       "      <td>0.0884</td>\n",
       "      <td>0.102456</td>\n",
       "      <td>0.979951</td>\n",
       "      <td>0.981366</td>\n",
       "      <td>0.931826</td>\n",
       "      <td>0.950146</td>\n",
       "      <td>0.915726</td>\n",
       "      <td>0.934350</td>\n",
       "    </tr>\n",
       "  </tbody>\n",
       "</table>\n",
       "</div>"
      ],
      "text/plain": [
       "           x         y         z         r     z_new  d_bead  d_button  \\\n",
       "10 -0.012567 -0.028546 -0.028804  0.042456  0.039096  0.0679  0.110904   \n",
       "40 -0.012833 -0.008642  0.027889  0.031893  0.047589  0.0197  0.102411   \n",
       "51  0.035526 -0.008681 -0.011401  0.038307  0.034099  0.0455  0.115901   \n",
       "53 -0.005575  0.031189  0.029736  0.043452  0.038736  0.0090  0.111264   \n",
       "89 -0.014871  0.004964 -0.040856  0.043761  0.047544  0.0884  0.102456   \n",
       "\n",
       "    button_transmission_prob_pb  button_transmission_prob_am  \\\n",
       "10                     0.978316                     0.979845   \n",
       "40                     0.979960                     0.981374   \n",
       "51                     0.977350                     0.978946   \n",
       "53                     0.978246                     0.979780   \n",
       "89                     0.979951                     0.981366   \n",
       "\n",
       "    bead_transmission_prob_pb  bead_transmission_prob_am  prob_product_pb  \\\n",
       "10                   0.947209                   0.961481         0.928683   \n",
       "40                   0.984388                   0.988668         0.965268   \n",
       "51                   0.964309                   0.974022         0.943839   \n",
       "53                   0.992837                   0.994807         0.971519   \n",
       "89                   0.931826                   0.950146         0.915726   \n",
       "\n",
       "    prob_product_am  \n",
       "10         0.943584  \n",
       "40         0.970696  \n",
       "51         0.954519  \n",
       "53         0.974895  \n",
       "89         0.934350  "
      ]
     },
     "execution_count": 82,
     "metadata": {},
     "output_type": "execute_result"
    }
   ],
   "source": [
    "#adding the transmississin though button\n",
    "bead_density=2.5#g/cm^3  \n",
    "df_less['bead_transmission_prob_pb']=df_less.apply(lambda x:transmission_prob(x['d_bead'],bead_mu_pb,bead_density),axis=1)\n",
    "df_less['bead_transmission_prob_am']=df_less.apply(lambda x:transmission_prob(x['d_bead'],bead_mu_am,bead_density),axis=1)\n",
    "df_less.head()"
   ]
  },
  {
   "cell_type": "code",
   "execution_count": 83,
   "id": "cf2fcad5-a409-4e3c-9738-e308fb6dffe4",
   "metadata": {},
   "outputs": [
    {
     "data": {
      "text/html": [
       "<div>\n",
       "<style scoped>\n",
       "    .dataframe tbody tr th:only-of-type {\n",
       "        vertical-align: middle;\n",
       "    }\n",
       "\n",
       "    .dataframe tbody tr th {\n",
       "        vertical-align: top;\n",
       "    }\n",
       "\n",
       "    .dataframe thead th {\n",
       "        text-align: right;\n",
       "    }\n",
       "</style>\n",
       "<table border=\"1\" class=\"dataframe\">\n",
       "  <thead>\n",
       "    <tr style=\"text-align: right;\">\n",
       "      <th></th>\n",
       "      <th>x</th>\n",
       "      <th>y</th>\n",
       "      <th>z</th>\n",
       "      <th>r</th>\n",
       "      <th>z_new</th>\n",
       "      <th>d_bead</th>\n",
       "      <th>d_button</th>\n",
       "      <th>button_transmission_prob_pb</th>\n",
       "      <th>button_transmission_prob_am</th>\n",
       "      <th>bead_transmission_prob_pb</th>\n",
       "      <th>bead_transmission_prob_am</th>\n",
       "      <th>prob_product_pb</th>\n",
       "      <th>prob_product_am</th>\n",
       "    </tr>\n",
       "  </thead>\n",
       "  <tbody>\n",
       "    <tr>\n",
       "      <th>10</th>\n",
       "      <td>-0.012567</td>\n",
       "      <td>-0.028546</td>\n",
       "      <td>-0.028804</td>\n",
       "      <td>0.042456</td>\n",
       "      <td>0.039096</td>\n",
       "      <td>0.0679</td>\n",
       "      <td>0.110904</td>\n",
       "      <td>0.978316</td>\n",
       "      <td>0.979845</td>\n",
       "      <td>0.947209</td>\n",
       "      <td>0.961481</td>\n",
       "      <td>0.926670</td>\n",
       "      <td>0.942103</td>\n",
       "    </tr>\n",
       "    <tr>\n",
       "      <th>40</th>\n",
       "      <td>-0.012833</td>\n",
       "      <td>-0.008642</td>\n",
       "      <td>0.027889</td>\n",
       "      <td>0.031893</td>\n",
       "      <td>0.047589</td>\n",
       "      <td>0.0197</td>\n",
       "      <td>0.102411</td>\n",
       "      <td>0.979960</td>\n",
       "      <td>0.981374</td>\n",
       "      <td>0.984388</td>\n",
       "      <td>0.988668</td>\n",
       "      <td>0.964661</td>\n",
       "      <td>0.970253</td>\n",
       "    </tr>\n",
       "    <tr>\n",
       "      <th>51</th>\n",
       "      <td>0.035526</td>\n",
       "      <td>-0.008681</td>\n",
       "      <td>-0.011401</td>\n",
       "      <td>0.038307</td>\n",
       "      <td>0.034099</td>\n",
       "      <td>0.0455</td>\n",
       "      <td>0.115901</td>\n",
       "      <td>0.977350</td>\n",
       "      <td>0.978946</td>\n",
       "      <td>0.964309</td>\n",
       "      <td>0.974022</td>\n",
       "      <td>0.942468</td>\n",
       "      <td>0.953515</td>\n",
       "    </tr>\n",
       "    <tr>\n",
       "      <th>53</th>\n",
       "      <td>-0.005575</td>\n",
       "      <td>0.031189</td>\n",
       "      <td>0.029736</td>\n",
       "      <td>0.043452</td>\n",
       "      <td>0.038736</td>\n",
       "      <td>0.0090</td>\n",
       "      <td>0.111264</td>\n",
       "      <td>0.978246</td>\n",
       "      <td>0.979780</td>\n",
       "      <td>0.992837</td>\n",
       "      <td>0.994807</td>\n",
       "      <td>0.971239</td>\n",
       "      <td>0.974692</td>\n",
       "    </tr>\n",
       "    <tr>\n",
       "      <th>89</th>\n",
       "      <td>-0.014871</td>\n",
       "      <td>0.004964</td>\n",
       "      <td>-0.040856</td>\n",
       "      <td>0.043761</td>\n",
       "      <td>0.047544</td>\n",
       "      <td>0.0884</td>\n",
       "      <td>0.102456</td>\n",
       "      <td>0.979951</td>\n",
       "      <td>0.981366</td>\n",
       "      <td>0.931826</td>\n",
       "      <td>0.950146</td>\n",
       "      <td>0.913144</td>\n",
       "      <td>0.932441</td>\n",
       "    </tr>\n",
       "  </tbody>\n",
       "</table>\n",
       "</div>"
      ],
      "text/plain": [
       "           x         y         z         r     z_new  d_bead  d_button  \\\n",
       "10 -0.012567 -0.028546 -0.028804  0.042456  0.039096  0.0679  0.110904   \n",
       "40 -0.012833 -0.008642  0.027889  0.031893  0.047589  0.0197  0.102411   \n",
       "51  0.035526 -0.008681 -0.011401  0.038307  0.034099  0.0455  0.115901   \n",
       "53 -0.005575  0.031189  0.029736  0.043452  0.038736  0.0090  0.111264   \n",
       "89 -0.014871  0.004964 -0.040856  0.043761  0.047544  0.0884  0.102456   \n",
       "\n",
       "    button_transmission_prob_pb  button_transmission_prob_am  \\\n",
       "10                     0.978316                     0.979845   \n",
       "40                     0.979960                     0.981374   \n",
       "51                     0.977350                     0.978946   \n",
       "53                     0.978246                     0.979780   \n",
       "89                     0.979951                     0.981366   \n",
       "\n",
       "    bead_transmission_prob_pb  bead_transmission_prob_am  prob_product_pb  \\\n",
       "10                   0.947209                   0.961481         0.926670   \n",
       "40                   0.984388                   0.988668         0.964661   \n",
       "51                   0.964309                   0.974022         0.942468   \n",
       "53                   0.992837                   0.994807         0.971239   \n",
       "89                   0.931826                   0.950146         0.913144   \n",
       "\n",
       "    prob_product_am  \n",
       "10         0.942103  \n",
       "40         0.970253  \n",
       "51         0.953515  \n",
       "53         0.974692  \n",
       "89         0.932441  "
      ]
     },
     "execution_count": 83,
     "metadata": {},
     "output_type": "execute_result"
    }
   ],
   "source": [
    "N_generated=df_less.shape[0]\n",
    "#df_less['N_emitted']=df_less['button_transmission_prob']*df_less['bead_transmission_prob']*N_generated\n",
    "df_less['prob_product_pb']=df_less['button_transmission_prob_pb']*df_less['bead_transmission_prob_pb']\n",
    "df_less['prob_product_am']=df_less['button_transmission_prob_am']*df_less['bead_transmission_prob_am']\n",
    "df_less.head()"
   ]
  },
  {
   "cell_type": "code",
   "execution_count": 84,
   "id": "afd6845d-d741-4509-934c-d718321d0e1a",
   "metadata": {},
   "outputs": [
    {
     "data": {
      "text/plain": [
       "0.959"
      ]
     },
     "execution_count": 84,
     "metadata": {},
     "output_type": "execute_result"
    }
   ],
   "source": [
    "#avg_of_prob_pb=round(df_less['prob_product_pb'].mean(),3)\n",
    "avg_of_prob_am=round(df_less['prob_product_am'].mean(),3)\n",
    "avg_of_prob_am"
   ]
  },
  {
   "cell_type": "code",
   "execution_count": 85,
   "id": "3fec806f-d699-4744-b637-93a3c266335d",
   "metadata": {},
   "outputs": [
    {
     "data": {
      "text/plain": [
       "0.958"
      ]
     },
     "execution_count": 85,
     "metadata": {},
     "output_type": "execute_result"
    }
   ],
   "source": [
    "avg_random=round(df_less['prob_product_am'].apply(lambda x:random_assign(x)).mean(),3)\n",
    "avg_random"
   ]
  },
  {
   "cell_type": "markdown",
   "id": "c184a543-0fe9-4522-b7a9-201b84cdb641",
   "metadata": {},
   "source": [
    "# IGNORE BELOW THIS"
   ]
  },
  {
   "cell_type": "code",
   "execution_count": 94,
   "id": "dcbf78b9-fc53-4f4a-a73d-61513958e116",
   "metadata": {},
   "outputs": [],
   "source": [
    "def get_prob(bead_density):\n",
    "    '''\n",
    "    returns the net prob of transmission for the chosen density of bead\n",
    "    '''\n",
    "    df_less['bead_transmission_prob_am']=df_less.apply(lambda x:transmission_prob(x['d_bead'],bead_mu_am,bead_density),axis=1)\n",
    "    df_less['prob_product_am']=df_less['button_transmission_prob_am']*df_less['bead_transmission_prob_am']\n",
    "    avg_prob_am=round(df_less['prob_product_am'].mean(),3)\n",
    "    return [bead_density,avg_prob_am]"
   ]
  },
  {
   "cell_type": "code",
   "execution_count": null,
   "id": "668c493d-40a5-48ff-9add-b2cd251a4f4d",
   "metadata": {},
   "outputs": [
    {
     "name": "stdout",
     "output_type": "stream",
     "text": [
      "test :[0.0, 0.98]\n",
      "test :[0.05, 0.979]\n",
      "test :[0.1, 0.979]\n",
      "test :[0.15000000000000002, 0.978]\n",
      "test :[0.2, 0.978]\n",
      "test :[0.25, 0.977]\n",
      "test :[0.30000000000000004, 0.977]\n",
      "test :[0.35000000000000003, 0.977]\n",
      "test :[0.4, 0.976]\n",
      "test :[0.45, 0.976]\n",
      "test :[0.5, 0.975]\n",
      "test :[0.55, 0.975]\n",
      "test :[0.6000000000000001, 0.974]\n",
      "test :[0.65, 0.974]\n",
      "test :[0.7000000000000001, 0.974]\n",
      "test :[0.75, 0.973]\n",
      "test :[0.8, 0.973]\n",
      "test :[0.8500000000000001, 0.972]\n",
      "test :[0.9, 0.972]\n",
      "test :[0.9500000000000001, 0.972]\n",
      "test :[1.0, 0.971]\n",
      "test :[1.05, 0.971]\n",
      "test :[1.1, 0.97]\n",
      "test :[1.1500000000000001, 0.97]\n",
      "test :[1.2000000000000002, 0.969]\n",
      "test :[1.25, 0.969]\n",
      "test :[1.3, 0.969]\n",
      "test :[1.35, 0.968]\n"
     ]
    }
   ],
   "source": [
    "density_prob=[]\n",
    "for i in np.arange(0,4,0.05):\n",
    "    test=get_prob(i)\n",
    "    density_prob.append(test)\n",
    "    print(f\"test :{test}\")\n",
    "df_less.head()\n",
    "    "
   ]
  },
  {
   "cell_type": "code",
   "execution_count": 33,
   "id": "4cc12fc2-b499-4818-a3e2-1cef7354f605",
   "metadata": {},
   "outputs": [
    {
     "ename": "TypeError",
     "evalue": "'float' object cannot be interpreted as an integer",
     "output_type": "error",
     "traceback": [
      "\u001b[0;31m---------------------------------------------------------------------------\u001b[0m",
      "\u001b[0;31mTypeError\u001b[0m                                 Traceback (most recent call last)",
      "Input \u001b[0;32mIn [33]\u001b[0m, in \u001b[0;36m<cell line: 1>\u001b[0;34m()\u001b[0m\n\u001b[0;32m----> 1\u001b[0m \u001b[38;5;28;01mfor\u001b[39;00m i \u001b[38;5;129;01min\u001b[39;00m \u001b[43mnp\u001b[49m\u001b[38;5;241;43m.\u001b[39;49m\u001b[43mlinspace\u001b[49m\u001b[43m(\u001b[49m\u001b[38;5;241;43m0\u001b[39;49m\u001b[43m,\u001b[49m\u001b[38;5;241;43m1\u001b[39;49m\u001b[43m,\u001b[49m\u001b[38;5;241;43m0.1\u001b[39;49m\u001b[43m)\u001b[49m:\n\u001b[1;32m      2\u001b[0m     test\u001b[38;5;241m=\u001b[39mget_prob(i)\n\u001b[1;32m      3\u001b[0m     \u001b[38;5;28mprint\u001b[39m(\u001b[38;5;124mf\u001b[39m\u001b[38;5;124m\"\u001b[39m\u001b[38;5;124mtest :\u001b[39m\u001b[38;5;132;01m{\u001b[39;00mtest\u001b[38;5;132;01m}\u001b[39;00m\u001b[38;5;124m\"\u001b[39m)\n",
      "File \u001b[0;32m<__array_function__ internals>:5\u001b[0m, in \u001b[0;36mlinspace\u001b[0;34m(*args, **kwargs)\u001b[0m\n",
      "File \u001b[0;32m~/.local/lib/python3.8/site-packages/numpy/core/function_base.py:113\u001b[0m, in \u001b[0;36mlinspace\u001b[0;34m(start, stop, num, endpoint, retstep, dtype, axis)\u001b[0m\n\u001b[1;32m     23\u001b[0m \u001b[38;5;129m@array_function_dispatch\u001b[39m(_linspace_dispatcher)\n\u001b[1;32m     24\u001b[0m \u001b[38;5;28;01mdef\u001b[39;00m \u001b[38;5;21mlinspace\u001b[39m(start, stop, num\u001b[38;5;241m=\u001b[39m\u001b[38;5;241m50\u001b[39m, endpoint\u001b[38;5;241m=\u001b[39m\u001b[38;5;28;01mTrue\u001b[39;00m, retstep\u001b[38;5;241m=\u001b[39m\u001b[38;5;28;01mFalse\u001b[39;00m, dtype\u001b[38;5;241m=\u001b[39m\u001b[38;5;28;01mNone\u001b[39;00m,\n\u001b[1;32m     25\u001b[0m              axis\u001b[38;5;241m=\u001b[39m\u001b[38;5;241m0\u001b[39m):\n\u001b[1;32m     26\u001b[0m     \u001b[38;5;124;03m\"\"\"\u001b[39;00m\n\u001b[1;32m     27\u001b[0m \u001b[38;5;124;03m    Return evenly spaced numbers over a specified interval.\u001b[39;00m\n\u001b[1;32m     28\u001b[0m \n\u001b[0;32m   (...)\u001b[0m\n\u001b[1;32m    111\u001b[0m \n\u001b[1;32m    112\u001b[0m \u001b[38;5;124;03m    \"\"\"\u001b[39;00m\n\u001b[0;32m--> 113\u001b[0m     num \u001b[38;5;241m=\u001b[39m \u001b[43moperator\u001b[49m\u001b[38;5;241;43m.\u001b[39;49m\u001b[43mindex\u001b[49m\u001b[43m(\u001b[49m\u001b[43mnum\u001b[49m\u001b[43m)\u001b[49m\n\u001b[1;32m    114\u001b[0m     \u001b[38;5;28;01mif\u001b[39;00m num \u001b[38;5;241m<\u001b[39m \u001b[38;5;241m0\u001b[39m:\n\u001b[1;32m    115\u001b[0m         \u001b[38;5;28;01mraise\u001b[39;00m \u001b[38;5;167;01mValueError\u001b[39;00m(\u001b[38;5;124m\"\u001b[39m\u001b[38;5;124mNumber of samples, \u001b[39m\u001b[38;5;132;01m%s\u001b[39;00m\u001b[38;5;124m, must be non-negative.\u001b[39m\u001b[38;5;124m\"\u001b[39m \u001b[38;5;241m%\u001b[39m num)\n",
      "\u001b[0;31mTypeError\u001b[0m: 'float' object cannot be interpreted as an integer"
     ]
    }
   ],
   "source": [
    "for i in np.linspace(0,1,0.1):\n",
    "    test=get_prob(i)\n",
    "    print(f\"test :{test}\")"
   ]
  },
  {
   "cell_type": "code",
   "execution_count": 32,
   "id": "491bef8c-1c7f-4e76-a958-5409d06da051",
   "metadata": {},
   "outputs": [
    {
     "data": {
      "text/plain": [
       "[0.3, 0.954]"
      ]
     },
     "execution_count": 32,
     "metadata": {},
     "output_type": "execute_result"
    }
   ],
   "source": [
    "get_prob(0.3)"
   ]
  },
  {
   "cell_type": "code",
   "execution_count": 81,
   "id": "ada8ea73-460b-4f9a-bbdd-04c55ea795da",
   "metadata": {},
   "outputs": [
    {
     "data": {
      "text/plain": [
       "0.954"
      ]
     },
     "execution_count": 81,
     "metadata": {},
     "output_type": "execute_result"
    }
   ],
   "source": [
    "avg_prob=round(df_less['prob_product'].mean(),3)\n",
    "avg_prob"
   ]
  },
  {
   "cell_type": "code",
   "execution_count": 87,
   "id": "4f034c55-8b32-4af4-bc7d-a12f3715a882",
   "metadata": {},
   "outputs": [],
   "source": [
    "prob=get_prob(0.1)"
   ]
  },
  {
   "cell_type": "code",
   "execution_count": 88,
   "id": "667999ab-9a0b-48b2-86bb-492121d6798d",
   "metadata": {},
   "outputs": [
    {
     "data": {
      "text/plain": [
       "[0.3, 0.956]"
      ]
     },
     "execution_count": 88,
     "metadata": {},
     "output_type": "execute_result"
    }
   ],
   "source": [
    "prob"
   ]
  },
  {
   "cell_type": "code",
   "execution_count": 89,
   "id": "ea1913a8-9031-4df1-b2f6-ddee5ccb9215",
   "metadata": {},
   "outputs": [
    {
     "ename": "TypeError",
     "evalue": "'float' object cannot be interpreted as an integer",
     "output_type": "error",
     "traceback": [
      "\u001b[0;31m---------------------------------------------------------------------------\u001b[0m",
      "\u001b[0;31mTypeError\u001b[0m                                 Traceback (most recent call last)",
      "Input \u001b[0;32mIn [89]\u001b[0m, in \u001b[0;36m<cell line: 1>\u001b[0;34m()\u001b[0m\n\u001b[0;32m----> 1\u001b[0m \u001b[38;5;28;01mfor\u001b[39;00m i \u001b[38;5;129;01min\u001b[39;00m \u001b[38;5;28;43mrange\u001b[39;49m\u001b[43m(\u001b[49m\u001b[38;5;241;43m0.1\u001b[39;49m\u001b[43m,\u001b[49m\u001b[38;5;241;43m10.0\u001b[39;49m\u001b[43m,\u001b[49m\u001b[38;5;241;43m0.1\u001b[39;49m\u001b[43m)\u001b[49m:\n\u001b[1;32m      2\u001b[0m     prob\u001b[38;5;241m=\u001b[39mget_prob(i)\n\u001b[1;32m      3\u001b[0m     \u001b[38;5;28mprint\u001b[39m(\u001b[38;5;124mf\u001b[39m\u001b[38;5;124m\"\u001b[39m\u001b[38;5;124mprob: \u001b[39m\u001b[38;5;132;01m{\u001b[39;00mprob\u001b[38;5;132;01m}\u001b[39;00m\u001b[38;5;124m\"\u001b[39m)\n",
      "\u001b[0;31mTypeError\u001b[0m: 'float' object cannot be interpreted as an integer"
     ]
    }
   ],
   "source": [
    "for i in range(0.1,10.0,0.1):\n",
    "    prob=get_prob(i)\n",
    "    print(f\"prob: {prob}\")"
   ]
  },
  {
   "cell_type": "code",
   "execution_count": null,
   "id": "f45a3269-ee99-4549-87f0-7982be59f717",
   "metadata": {},
   "outputs": [],
   "source": []
  }
 ],
 "metadata": {
  "kernelspec": {
   "display_name": "Python 3 (ipykernel)",
   "language": "python",
   "name": "python3"
  },
  "language_info": {
   "codemirror_mode": {
    "name": "ipython",
    "version": 3
   },
   "file_extension": ".py",
   "mimetype": "text/x-python",
   "name": "python",
   "nbconvert_exporter": "python",
   "pygments_lexer": "ipython3",
   "version": "3.10.6"
  }
 },
 "nbformat": 4,
 "nbformat_minor": 5
}
