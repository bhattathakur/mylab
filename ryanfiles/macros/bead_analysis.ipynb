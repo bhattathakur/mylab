{
 "cells": [
  {
   "cell_type": "code",
   "execution_count": 1,
   "id": "aaa1278e-bba3-4318-8deb-3a918b37eeb5",
   "metadata": {},
   "outputs": [],
   "source": [
    "import numpy as np\n",
    "import pandas as pd\n",
    "import matplotlib.pyplot as plt\n",
    "from mpl_toolkits import mplot3d\n",
    "\n"
   ]
  },
  {
   "cell_type": "code",
   "execution_count": 2,
   "id": "2038bc89-c577-48f6-9ab2-a7f504547149",
   "metadata": {},
   "outputs": [],
   "source": [
    "trials=100_00_00     #total simulated events\n",
    "low=-1;high=1;interval=high-low\n",
    "test=interval*np.random.rand(trials,3)+low\n",
    "#test\n",
    "x=test[:,0]\n",
    "y=test[:,1]\n",
    "z=test[:,2]"
   ]
  },
  {
   "cell_type": "code",
   "execution_count": 3,
   "id": "bebe4af8-7052-4957-a7f0-9a7627704363",
   "metadata": {},
   "outputs": [
    {
     "data": {
      "text/plain": [
       "array([-0.15103317,  0.69238435, -0.63809531, ..., -0.76776304,\n",
       "       -0.23513601, -0.30135459])"
      ]
     },
     "execution_count": 3,
     "metadata": {},
     "output_type": "execute_result"
    }
   ],
   "source": [
    "x"
   ]
  },
  {
   "cell_type": "code",
   "execution_count": 4,
   "id": "5bd1dc24-23f9-466a-9301-18e1061414b2",
   "metadata": {},
   "outputs": [
    {
     "data": {
      "text/plain": [
       "array([ 0.59069101, -0.6165882 , -0.69003792, ..., -0.69681687,\n",
       "        0.84719007,  0.83401731])"
      ]
     },
     "execution_count": 4,
     "metadata": {},
     "output_type": "execute_result"
    }
   ],
   "source": [
    "y"
   ]
  },
  {
   "cell_type": "code",
   "execution_count": 5,
   "id": "435076d9-bc59-488d-a2f8-448c6750bb7b",
   "metadata": {},
   "outputs": [
    {
     "data": {
      "text/plain": [
       "array([-0.33291622,  0.3023017 ,  0.57587169, ...,  0.36177046,\n",
       "       -0.79999474,  0.09970019])"
      ]
     },
     "execution_count": 5,
     "metadata": {},
     "output_type": "execute_result"
    }
   ],
   "source": [
    "z"
   ]
  },
  {
   "cell_type": "code",
   "execution_count": 6,
   "id": "f6d91c01-c2de-4040-9019-c2914e31302b",
   "metadata": {},
   "outputs": [
    {
     "data": {
      "text/plain": [
       "array([0.69466546, 0.97517353, 1.10224596, ..., 1.09813101, 1.18870162,\n",
       "       0.89237861])"
      ]
     },
     "execution_count": 6,
     "metadata": {},
     "output_type": "execute_result"
    }
   ],
   "source": [
    "\n",
    "r=np.sqrt(x**2+y**2+z**2)\n",
    "r"
   ]
  },
  {
   "cell_type": "code",
   "execution_count": 7,
   "id": "101ef693-886a-48f3-aca5-a754d95b4932",
   "metadata": {},
   "outputs": [],
   "source": [
    "test=np.column_stack((test,r))"
   ]
  },
  {
   "cell_type": "code",
   "execution_count": 8,
   "id": "3dc9bc9b-2c4e-4de6-9f37-a28f18645210",
   "metadata": {},
   "outputs": [
    {
     "data": {
      "text/html": [
       "<div>\n",
       "<style scoped>\n",
       "    .dataframe tbody tr th:only-of-type {\n",
       "        vertical-align: middle;\n",
       "    }\n",
       "\n",
       "    .dataframe tbody tr th {\n",
       "        vertical-align: top;\n",
       "    }\n",
       "\n",
       "    .dataframe thead th {\n",
       "        text-align: right;\n",
       "    }\n",
       "</style>\n",
       "<table border=\"1\" class=\"dataframe\">\n",
       "  <thead>\n",
       "    <tr style=\"text-align: right;\">\n",
       "      <th></th>\n",
       "      <th>x</th>\n",
       "      <th>y</th>\n",
       "      <th>z</th>\n",
       "      <th>r</th>\n",
       "    </tr>\n",
       "  </thead>\n",
       "  <tbody>\n",
       "    <tr>\n",
       "      <th>0</th>\n",
       "      <td>-0.151033</td>\n",
       "      <td>0.590691</td>\n",
       "      <td>-0.332916</td>\n",
       "      <td>0.694665</td>\n",
       "    </tr>\n",
       "    <tr>\n",
       "      <th>1</th>\n",
       "      <td>0.692384</td>\n",
       "      <td>-0.616588</td>\n",
       "      <td>0.302302</td>\n",
       "      <td>0.975174</td>\n",
       "    </tr>\n",
       "    <tr>\n",
       "      <th>2</th>\n",
       "      <td>-0.638095</td>\n",
       "      <td>-0.690038</td>\n",
       "      <td>0.575872</td>\n",
       "      <td>1.102246</td>\n",
       "    </tr>\n",
       "    <tr>\n",
       "      <th>3</th>\n",
       "      <td>0.841370</td>\n",
       "      <td>0.841320</td>\n",
       "      <td>0.767085</td>\n",
       "      <td>1.415677</td>\n",
       "    </tr>\n",
       "    <tr>\n",
       "      <th>4</th>\n",
       "      <td>-0.983489</td>\n",
       "      <td>0.803275</td>\n",
       "      <td>-0.833982</td>\n",
       "      <td>1.519219</td>\n",
       "    </tr>\n",
       "  </tbody>\n",
       "</table>\n",
       "</div>"
      ],
      "text/plain": [
       "          x         y         z         r\n",
       "0 -0.151033  0.590691 -0.332916  0.694665\n",
       "1  0.692384 -0.616588  0.302302  0.975174\n",
       "2 -0.638095 -0.690038  0.575872  1.102246\n",
       "3  0.841370  0.841320  0.767085  1.415677\n",
       "4 -0.983489  0.803275 -0.833982  1.519219"
      ]
     },
     "execution_count": 8,
     "metadata": {},
     "output_type": "execute_result"
    }
   ],
   "source": [
    "df=pd.DataFrame(test,columns=['x','y','z','r']) #data frame with x,y,z and r\n",
    "df.head()"
   ]
  },
  {
   "cell_type": "code",
   "execution_count": 9,
   "id": "7cb0f7e2-aab6-4739-897b-b16ce5f6f20b",
   "metadata": {},
   "outputs": [
    {
     "data": {
      "text/plain": [
       "65599"
      ]
     },
     "execution_count": 9,
     "metadata": {},
     "output_type": "execute_result"
    }
   ],
   "source": [
    "df_less=df[df.r<0.5]          #data frame with r<0.5 (radius of the bead)\n",
    "df_less.head()\n",
    "total_counts=df_less.shape[0]\n",
    "total_counts"
   ]
  },
  {
   "cell_type": "code",
   "execution_count": 10,
   "id": "1480da98-6945-4c19-8ca0-e4c5c7049f5f",
   "metadata": {},
   "outputs": [
    {
     "data": {
      "text/plain": [
       "<mpl_toolkits.mplot3d.art3d.Path3DCollection at 0x7fd0e1ec0df0>"
      ]
     },
     "execution_count": 10,
     "metadata": {},
     "output_type": "execute_result"
    },
    {
     "data": {
      "image/png": "[encoded data removed]",
      "text/plain": [
       "<Figure size 432x288 with 1 Axes>"
      ]
     },
     "metadata": {
      "needs_background": "light"
     },
     "output_type": "display_data"
    }
   ],
   "source": [
    "%matplotlib inline\n",
    "df_sample=df_less.head(1000)\n",
    "fig = plt.figure()\n",
    "ax = fig.add_subplot(projection='3d')\n",
    "ax.scatter(df_sample.x,df_sample.y,df_sample.z)"
   ]
  },
  {
   "cell_type": "code",
   "execution_count": 11,
   "id": "b3c5478d-71a0-41a8-8620-0640684ca499",
   "metadata": {},
   "outputs": [],
   "source": [
    "#this function give the normal distance from a point to the surface of the sphere\n",
    "\n",
    "def get_upward_distance(x,y,z,dz=0.001,r=0.5):\n",
    "    '''\n",
    "    returns normal distance from a point in the sphere to the surface as well as the z co-ordinate in the sphere\n",
    "    '''\n",
    "    #z=np.abs(z)\n",
    "    d=np.sqrt(x**2+y**2+z**2)\n",
    "    if z==-0.5: return 1.0,0.5 #z_up, z\n",
    "    z_up=0\n",
    "    #print(f\"before while z_up: {z_up}\")\n",
    "    while(d<r):\n",
    "        z+=dz\n",
    "        #print(f\"Inside while z: {z}\")\n",
    "        z_up+=dz\n",
    "        d=np.sqrt(x**2+y**2+z**2)\n",
    "    #print(f\"after while z_up: {z_up}\")\n",
    "    return z_up,z\n",
    "        \n",
    "    "
   ]
  },
  {
   "cell_type": "code",
   "execution_count": 12,
   "id": "b679617f-38b0-4edd-872d-c2f580dbdd28",
   "metadata": {},
   "outputs": [
    {
     "data": {
      "text/html": [
       "<div>\n",
       "<style scoped>\n",
       "    .dataframe tbody tr th:only-of-type {\n",
       "        vertical-align: middle;\n",
       "    }\n",
       "\n",
       "    .dataframe tbody tr th {\n",
       "        vertical-align: top;\n",
       "    }\n",
       "\n",
       "    .dataframe thead th {\n",
       "        text-align: right;\n",
       "    }\n",
       "</style>\n",
       "<table border=\"1\" class=\"dataframe\">\n",
       "  <thead>\n",
       "    <tr style=\"text-align: right;\">\n",
       "      <th></th>\n",
       "      <th>x</th>\n",
       "      <th>y</th>\n",
       "      <th>z</th>\n",
       "      <th>r</th>\n",
       "      <th>z_new</th>\n",
       "      <th>d_bead</th>\n",
       "    </tr>\n",
       "  </thead>\n",
       "  <tbody>\n",
       "    <tr>\n",
       "      <th>22</th>\n",
       "      <td>0.189109</td>\n",
       "      <td>-0.030261</td>\n",
       "      <td>-0.129244</td>\n",
       "      <td>0.231045</td>\n",
       "      <td>0.462756</td>\n",
       "      <td>0.592</td>\n",
       "    </tr>\n",
       "    <tr>\n",
       "      <th>46</th>\n",
       "      <td>-0.033444</td>\n",
       "      <td>-0.086498</td>\n",
       "      <td>0.318726</td>\n",
       "      <td>0.331944</td>\n",
       "      <td>0.491726</td>\n",
       "      <td>0.173</td>\n",
       "    </tr>\n",
       "    <tr>\n",
       "      <th>54</th>\n",
       "      <td>-0.408892</td>\n",
       "      <td>0.173625</td>\n",
       "      <td>0.225270</td>\n",
       "      <td>0.498081</td>\n",
       "      <td>0.230270</td>\n",
       "      <td>0.005</td>\n",
       "    </tr>\n",
       "    <tr>\n",
       "      <th>58</th>\n",
       "      <td>0.205031</td>\n",
       "      <td>-0.034943</td>\n",
       "      <td>0.379865</td>\n",
       "      <td>0.433077</td>\n",
       "      <td>0.454865</td>\n",
       "      <td>0.075</td>\n",
       "    </tr>\n",
       "    <tr>\n",
       "      <th>64</th>\n",
       "      <td>0.381947</td>\n",
       "      <td>0.255347</td>\n",
       "      <td>-0.022189</td>\n",
       "      <td>0.459976</td>\n",
       "      <td>0.197811</td>\n",
       "      <td>0.220</td>\n",
       "    </tr>\n",
       "  </tbody>\n",
       "</table>\n",
       "</div>"
      ],
      "text/plain": [
       "           x         y         z         r     z_new  d_bead\n",
       "22  0.189109 -0.030261 -0.129244  0.231045  0.462756   0.592\n",
       "46 -0.033444 -0.086498  0.318726  0.331944  0.491726   0.173\n",
       "54 -0.408892  0.173625  0.225270  0.498081  0.230270   0.005\n",
       "58  0.205031 -0.034943  0.379865  0.433077  0.454865   0.075\n",
       "64  0.381947  0.255347 -0.022189  0.459976  0.197811   0.220"
      ]
     },
     "execution_count": 12,
     "metadata": {},
     "output_type": "execute_result"
    }
   ],
   "source": [
    "#distance travelled in the bead\n",
    "df_less_copy=df_less.copy()\n",
    "\n",
    "df_less_copy.loc[:,'z_new']=df_less_copy.apply(lambda x:get_upward_distance(x['x'],x['y'],x['z'])[1],axis=1)\n",
    "df_less_copy.loc[:,'d_bead']=df_less_copy.apply(lambda x:get_upward_distance(x['x'],x['y'],x['z'])[0],axis=1)\n",
    "df_less_copy.head()"
   ]
  },
  {
   "cell_type": "code",
   "execution_count": 13,
   "id": "bec985d5-4823-4d84-a748-4df1086b496b",
   "metadata": {},
   "outputs": [
    {
     "data": {
      "text/html": [
       "<div>\n",
       "<style scoped>\n",
       "    .dataframe tbody tr th:only-of-type {\n",
       "        vertical-align: middle;\n",
       "    }\n",
       "\n",
       "    .dataframe tbody tr th {\n",
       "        vertical-align: top;\n",
       "    }\n",
       "\n",
       "    .dataframe thead th {\n",
       "        text-align: right;\n",
       "    }\n",
       "</style>\n",
       "<table border=\"1\" class=\"dataframe\">\n",
       "  <thead>\n",
       "    <tr style=\"text-align: right;\">\n",
       "      <th></th>\n",
       "      <th>x</th>\n",
       "      <th>y</th>\n",
       "      <th>z</th>\n",
       "      <th>r</th>\n",
       "      <th>z_new</th>\n",
       "      <th>d_bead</th>\n",
       "      <th>d_button</th>\n",
       "    </tr>\n",
       "  </thead>\n",
       "  <tbody>\n",
       "    <tr>\n",
       "      <th>22</th>\n",
       "      <td>0.189109</td>\n",
       "      <td>-0.030261</td>\n",
       "      <td>-0.129244</td>\n",
       "      <td>0.231045</td>\n",
       "      <td>0.462756</td>\n",
       "      <td>0.592</td>\n",
       "      <td>1.037244</td>\n",
       "    </tr>\n",
       "    <tr>\n",
       "      <th>46</th>\n",
       "      <td>-0.033444</td>\n",
       "      <td>-0.086498</td>\n",
       "      <td>0.318726</td>\n",
       "      <td>0.331944</td>\n",
       "      <td>0.491726</td>\n",
       "      <td>0.173</td>\n",
       "      <td>1.008274</td>\n",
       "    </tr>\n",
       "    <tr>\n",
       "      <th>54</th>\n",
       "      <td>-0.408892</td>\n",
       "      <td>0.173625</td>\n",
       "      <td>0.225270</td>\n",
       "      <td>0.498081</td>\n",
       "      <td>0.230270</td>\n",
       "      <td>0.005</td>\n",
       "      <td>1.269730</td>\n",
       "    </tr>\n",
       "    <tr>\n",
       "      <th>58</th>\n",
       "      <td>0.205031</td>\n",
       "      <td>-0.034943</td>\n",
       "      <td>0.379865</td>\n",
       "      <td>0.433077</td>\n",
       "      <td>0.454865</td>\n",
       "      <td>0.075</td>\n",
       "      <td>1.045135</td>\n",
       "    </tr>\n",
       "    <tr>\n",
       "      <th>64</th>\n",
       "      <td>0.381947</td>\n",
       "      <td>0.255347</td>\n",
       "      <td>-0.022189</td>\n",
       "      <td>0.459976</td>\n",
       "      <td>0.197811</td>\n",
       "      <td>0.220</td>\n",
       "      <td>1.302189</td>\n",
       "    </tr>\n",
       "  </tbody>\n",
       "</table>\n",
       "</div>"
      ],
      "text/plain": [
       "           x         y         z         r     z_new  d_bead  d_button\n",
       "22  0.189109 -0.030261 -0.129244  0.231045  0.462756   0.592  1.037244\n",
       "46 -0.033444 -0.086498  0.318726  0.331944  0.491726   0.173  1.008274\n",
       "54 -0.408892  0.173625  0.225270  0.498081  0.230270   0.005  1.269730\n",
       "58  0.205031 -0.034943  0.379865  0.433077  0.454865   0.075  1.045135\n",
       "64  0.381947  0.255347 -0.022189  0.459976  0.197811   0.220  1.302189"
      ]
     },
     "execution_count": 13,
     "metadata": {},
     "output_type": "execute_result"
    }
   ],
   "source": [
    "#distance travelled in the button\n",
    "button_thickness=3.0\n",
    "df_less_copy.loc[:,'d_button']=button_thickness/2.-df_less_copy.loc[:,'z_new'] #Thickness of button is 3 mm and thickness above 0 is 1.5 mm\n",
    "df_less_copy.head()"
   ]
  },
  {
   "cell_type": "code",
   "execution_count": 14,
   "id": "c69432b9-cdbc-496f-984a-e2e8aff7093a",
   "metadata": {},
   "outputs": [
    {
     "data": {
      "text/html": [
       "<div>\n",
       "<style scoped>\n",
       "    .dataframe tbody tr th:only-of-type {\n",
       "        vertical-align: middle;\n",
       "    }\n",
       "\n",
       "    .dataframe tbody tr th {\n",
       "        vertical-align: top;\n",
       "    }\n",
       "\n",
       "    .dataframe thead th {\n",
       "        text-align: right;\n",
       "    }\n",
       "</style>\n",
       "<table border=\"1\" class=\"dataframe\">\n",
       "  <thead>\n",
       "    <tr style=\"text-align: right;\">\n",
       "      <th></th>\n",
       "      <th>x</th>\n",
       "      <th>y</th>\n",
       "      <th>z</th>\n",
       "      <th>r</th>\n",
       "      <th>z_new</th>\n",
       "      <th>d_bead</th>\n",
       "      <th>d_button</th>\n",
       "    </tr>\n",
       "  </thead>\n",
       "  <tbody>\n",
       "    <tr>\n",
       "      <th>22</th>\n",
       "      <td>0.018911</td>\n",
       "      <td>-0.003026</td>\n",
       "      <td>-0.012924</td>\n",
       "      <td>0.023104</td>\n",
       "      <td>0.046276</td>\n",
       "      <td>0.0592</td>\n",
       "      <td>0.103724</td>\n",
       "    </tr>\n",
       "    <tr>\n",
       "      <th>46</th>\n",
       "      <td>-0.003344</td>\n",
       "      <td>-0.008650</td>\n",
       "      <td>0.031873</td>\n",
       "      <td>0.033194</td>\n",
       "      <td>0.049173</td>\n",
       "      <td>0.0173</td>\n",
       "      <td>0.100827</td>\n",
       "    </tr>\n",
       "    <tr>\n",
       "      <th>54</th>\n",
       "      <td>-0.040889</td>\n",
       "      <td>0.017363</td>\n",
       "      <td>0.022527</td>\n",
       "      <td>0.049808</td>\n",
       "      <td>0.023027</td>\n",
       "      <td>0.0005</td>\n",
       "      <td>0.126973</td>\n",
       "    </tr>\n",
       "    <tr>\n",
       "      <th>58</th>\n",
       "      <td>0.020503</td>\n",
       "      <td>-0.003494</td>\n",
       "      <td>0.037986</td>\n",
       "      <td>0.043308</td>\n",
       "      <td>0.045486</td>\n",
       "      <td>0.0075</td>\n",
       "      <td>0.104514</td>\n",
       "    </tr>\n",
       "    <tr>\n",
       "      <th>64</th>\n",
       "      <td>0.038195</td>\n",
       "      <td>0.025535</td>\n",
       "      <td>-0.002219</td>\n",
       "      <td>0.045998</td>\n",
       "      <td>0.019781</td>\n",
       "      <td>0.0220</td>\n",
       "      <td>0.130219</td>\n",
       "    </tr>\n",
       "  </tbody>\n",
       "</table>\n",
       "</div>"
      ],
      "text/plain": [
       "           x         y         z         r     z_new  d_bead  d_button\n",
       "22  0.018911 -0.003026 -0.012924  0.023104  0.046276  0.0592  0.103724\n",
       "46 -0.003344 -0.008650  0.031873  0.033194  0.049173  0.0173  0.100827\n",
       "54 -0.040889  0.017363  0.022527  0.049808  0.023027  0.0005  0.126973\n",
       "58  0.020503 -0.003494  0.037986  0.043308  0.045486  0.0075  0.104514\n",
       "64  0.038195  0.025535 -0.002219  0.045998  0.019781  0.0220  0.130219"
      ]
     },
     "execution_count": 14,
     "metadata": {},
     "output_type": "execute_result"
    }
   ],
   "source": [
    "#changing mm to cm\n",
    "mm_to_cm=0.1\n",
    "df_less_copy=df_less_copy*mm_to_cm\n",
    "df_less_copy.head()"
   ]
  },
  {
   "cell_type": "markdown",
   "id": "53223297-a21d-4b97-ae6c-686a80f4131f",
   "metadata": {},
   "source": [
    "$ P_{transmission} = e^{-\\frac{x}{\\lambda}} $ <br>\n",
    "\n",
    "x is thickness and $\\lambda$ is attenuation length\n",
    "<br> $\\lambda = \\frac{1}{\\rho \\cdot \\mu} $ <br>\n",
    "$ P_{transmission} = e^{-\\mu \\cdot \\rho \\cdot x} $ <br>\n",
    "\n",
    "$ \\mu $ ($cm^2/g$) <br> $ \\rho $ ($g/cm^3$) <br> $\\lambda (cm)$ <br>\n",
    "$ \\mu$ from https://physics.nist.gov/PhysRefData/Xcom/html/xcom1.html\n",
    "<br>\n",
    "Tranmission factor from: https://www.ezag.com/home/products/isotope_products/isotrak_calibration_sources/reference_sources/gamma_sources/point_sources/#c601"
   ]
  },
  {
   "cell_type": "markdown",
   "id": "2cefd469-e336-4214-b9c2-94e03bfce5e1",
   "metadata": {},
   "source": [
    "# fMaterialsManager->AddMaterial(\"Acrylic\",\"C5-H8-O2\",1.18*g/cm3,\"\")\n",
    "# ceramic: O7410-Na300-Ca60-Mg10-Al600-Si1600-Pb4\n"
   ]
  },
  {
   "cell_type": "markdown",
   "id": "e3102f3f-22b3-4e86-b095-55f69cb95be1",
   "metadata": {},
   "source": [
    "![image](beadcomposition.png)"
   ]
  },
  {
   "cell_type": "code",
   "execution_count": 15,
   "id": "dd79593e-e9ed-4ba1-92a6-641848b2de03",
   "metadata": {},
   "outputs": [],
   "source": [
    "#Probabality of scatering from the button\n",
    "\n",
    "button_density = 1.10         #.18        #g/cm^3 (from simulation data)\n",
    "#button_mu_pb   = 0.1976       #C5H8O2 for 47keV (0.047 MeV) gamma rays\n",
    "bead_mu_pb     = 3.195E-01    #47 keV pb-21O for ceramic=> O7410Na300Ca60Mg10Al600Si1600Pb4\n",
    "bead_mu_am     = 2.314E-01    #60 keV am-241 for ceramic=> O7410Na300Ca60Mg10Al600Si1600Pb4\n",
    "\n",
    "button_mu_pb =    1.797E-01     #C870O98N32\n",
    "button_mu_am =    1.669E-01     #60 keV Am-241\n",
    "\n",
    "\n",
    "\n",
    "#trnasmission factors from manufacturer\n",
    "transmission_pb=0.964   #47 keV pb-210\n",
    "\n",
    "transmission_am=0.958   #60 keV am-241\n",
    "\n",
    "#Am-241 0.958\n",
    "\n",
    "\n",
    "#button_mu_am=0.1815    #60 keV am-241\n",
    "#lambda calculation for acrylic button  (C5H802)\n",
    "#fMaterialsManager->AddMaterial(\"Acrylic\",\"C5-H8-O2\",1.18*g/cm3,\"\");\n",
    "#density is from oldmc\n",
    "\n",
    "\n",
    "\n",
    "\n",
    "def transmission_prob(x,mu,rho):\n",
    "    '''reutrns button transmission probability'''\n",
    "    #return (1-np.exp(-1.0*x*mu*rho))\n",
    "    return (np.exp(-1.0*x*mu*rho))\n",
    "\n",
    "    \n",
    "    \n",
    "    "
   ]
  },
  {
   "cell_type": "code",
   "execution_count": 16,
   "id": "e7378abf-f859-431e-886f-86f0a01353b4",
   "metadata": {},
   "outputs": [
    {
     "data": {
      "text/html": [
       "<div>\n",
       "<style scoped>\n",
       "    .dataframe tbody tr th:only-of-type {\n",
       "        vertical-align: middle;\n",
       "    }\n",
       "\n",
       "    .dataframe tbody tr th {\n",
       "        vertical-align: top;\n",
       "    }\n",
       "\n",
       "    .dataframe thead th {\n",
       "        text-align: right;\n",
       "    }\n",
       "</style>\n",
       "<table border=\"1\" class=\"dataframe\">\n",
       "  <thead>\n",
       "    <tr style=\"text-align: right;\">\n",
       "      <th></th>\n",
       "      <th>x</th>\n",
       "      <th>y</th>\n",
       "      <th>z</th>\n",
       "      <th>r</th>\n",
       "      <th>z_new</th>\n",
       "      <th>d_bead</th>\n",
       "      <th>d_button</th>\n",
       "      <th>button_transmission_prob_pb</th>\n",
       "      <th>button_transmission_prob_am</th>\n",
       "    </tr>\n",
       "  </thead>\n",
       "  <tbody>\n",
       "    <tr>\n",
       "      <th>22</th>\n",
       "      <td>0.018911</td>\n",
       "      <td>-0.003026</td>\n",
       "      <td>-0.012924</td>\n",
       "      <td>0.023104</td>\n",
       "      <td>0.046276</td>\n",
       "      <td>0.0592</td>\n",
       "      <td>0.103724</td>\n",
       "      <td>0.979706</td>\n",
       "      <td>0.981137</td>\n",
       "    </tr>\n",
       "    <tr>\n",
       "      <th>46</th>\n",
       "      <td>-0.003344</td>\n",
       "      <td>-0.008650</td>\n",
       "      <td>0.031873</td>\n",
       "      <td>0.033194</td>\n",
       "      <td>0.049173</td>\n",
       "      <td>0.0173</td>\n",
       "      <td>0.100827</td>\n",
       "      <td>0.980267</td>\n",
       "      <td>0.981659</td>\n",
       "    </tr>\n",
       "    <tr>\n",
       "      <th>54</th>\n",
       "      <td>-0.040889</td>\n",
       "      <td>0.017363</td>\n",
       "      <td>0.022527</td>\n",
       "      <td>0.049808</td>\n",
       "      <td>0.023027</td>\n",
       "      <td>0.0005</td>\n",
       "      <td>0.126973</td>\n",
       "      <td>0.975214</td>\n",
       "      <td>0.976959</td>\n",
       "    </tr>\n",
       "    <tr>\n",
       "      <th>58</th>\n",
       "      <td>0.020503</td>\n",
       "      <td>-0.003494</td>\n",
       "      <td>0.037986</td>\n",
       "      <td>0.043308</td>\n",
       "      <td>0.045486</td>\n",
       "      <td>0.0075</td>\n",
       "      <td>0.104514</td>\n",
       "      <td>0.979553</td>\n",
       "      <td>0.980995</td>\n",
       "    </tr>\n",
       "    <tr>\n",
       "      <th>64</th>\n",
       "      <td>0.038195</td>\n",
       "      <td>0.025535</td>\n",
       "      <td>-0.002219</td>\n",
       "      <td>0.045998</td>\n",
       "      <td>0.019781</td>\n",
       "      <td>0.0220</td>\n",
       "      <td>0.130219</td>\n",
       "      <td>0.974588</td>\n",
       "      <td>0.976377</td>\n",
       "    </tr>\n",
       "  </tbody>\n",
       "</table>\n",
       "</div>"
      ],
      "text/plain": [
       "           x         y         z         r     z_new  d_bead  d_button  \\\n",
       "22  0.018911 -0.003026 -0.012924  0.023104  0.046276  0.0592  0.103724   \n",
       "46 -0.003344 -0.008650  0.031873  0.033194  0.049173  0.0173  0.100827   \n",
       "54 -0.040889  0.017363  0.022527  0.049808  0.023027  0.0005  0.126973   \n",
       "58  0.020503 -0.003494  0.037986  0.043308  0.045486  0.0075  0.104514   \n",
       "64  0.038195  0.025535 -0.002219  0.045998  0.019781  0.0220  0.130219   \n",
       "\n",
       "    button_transmission_prob_pb  button_transmission_prob_am  \n",
       "22                     0.979706                     0.981137  \n",
       "46                     0.980267                     0.981659  \n",
       "54                     0.975214                     0.976959  \n",
       "58                     0.979553                     0.980995  \n",
       "64                     0.974588                     0.976377  "
      ]
     },
     "execution_count": 16,
     "metadata": {},
     "output_type": "execute_result"
    }
   ],
   "source": [
    "#adding the transmississin though button\n",
    "df_less_copy.loc[:,'button_transmission_prob_pb']=df_less_copy.apply(lambda x:transmission_prob(x['d_button'],button_mu_pb,button_density),axis=1)\n",
    "df_less_copy.loc[:,'button_transmission_prob_am']=df_less_copy.apply(lambda x:transmission_prob(x['d_button'],button_mu_am,button_density),axis=1)\n",
    "df_less_copy.head()"
   ]
  },
  {
   "cell_type": "code",
   "execution_count": 17,
   "id": "5eff401b-035b-46c7-b259-b876b2a7be62",
   "metadata": {},
   "outputs": [],
   "source": [
    "#creating the random number bewteen 0 and 1, if the prob_product is greater than random number add 1 else add 0\n",
    "def random_assign(x):\n",
    "    if x>np.random.rand():\n",
    "        return 1\n",
    "    return 0\n",
    "    "
   ]
  },
  {
   "cell_type": "code",
   "execution_count": 18,
   "id": "f5e8e01e-2143-49cb-bc5a-afd93e18c5af",
   "metadata": {},
   "outputs": [
    {
     "data": {
      "text/html": [
       "<div>\n",
       "<style scoped>\n",
       "    .dataframe tbody tr th:only-of-type {\n",
       "        vertical-align: middle;\n",
       "    }\n",
       "\n",
       "    .dataframe tbody tr th {\n",
       "        vertical-align: top;\n",
       "    }\n",
       "\n",
       "    .dataframe thead th {\n",
       "        text-align: right;\n",
       "    }\n",
       "</style>\n",
       "<table border=\"1\" class=\"dataframe\">\n",
       "  <thead>\n",
       "    <tr style=\"text-align: right;\">\n",
       "      <th></th>\n",
       "      <th>x</th>\n",
       "      <th>y</th>\n",
       "      <th>z</th>\n",
       "      <th>r</th>\n",
       "      <th>z_new</th>\n",
       "      <th>d_bead</th>\n",
       "      <th>d_button</th>\n",
       "      <th>button_transmission_prob_pb</th>\n",
       "      <th>button_transmission_prob_am</th>\n",
       "      <th>bead_transmission_prob_pb</th>\n",
       "      <th>bead_transmission_prob_am</th>\n",
       "    </tr>\n",
       "  </thead>\n",
       "  <tbody>\n",
       "    <tr>\n",
       "      <th>22</th>\n",
       "      <td>0.018911</td>\n",
       "      <td>-0.003026</td>\n",
       "      <td>-0.012924</td>\n",
       "      <td>0.023104</td>\n",
       "      <td>0.046276</td>\n",
       "      <td>0.0592</td>\n",
       "      <td>0.103724</td>\n",
       "      <td>0.979706</td>\n",
       "      <td>0.981137</td>\n",
       "      <td>0.952913</td>\n",
       "      <td>0.965671</td>\n",
       "    </tr>\n",
       "    <tr>\n",
       "      <th>46</th>\n",
       "      <td>-0.003344</td>\n",
       "      <td>-0.008650</td>\n",
       "      <td>0.031873</td>\n",
       "      <td>0.033194</td>\n",
       "      <td>0.049173</td>\n",
       "      <td>0.0173</td>\n",
       "      <td>0.100827</td>\n",
       "      <td>0.980267</td>\n",
       "      <td>0.981659</td>\n",
       "      <td>0.986004</td>\n",
       "      <td>0.989844</td>\n",
       "    </tr>\n",
       "    <tr>\n",
       "      <th>54</th>\n",
       "      <td>-0.040889</td>\n",
       "      <td>0.017363</td>\n",
       "      <td>0.022527</td>\n",
       "      <td>0.049808</td>\n",
       "      <td>0.023027</td>\n",
       "      <td>0.0005</td>\n",
       "      <td>0.126973</td>\n",
       "      <td>0.975214</td>\n",
       "      <td>0.976959</td>\n",
       "      <td>0.999593</td>\n",
       "      <td>0.999705</td>\n",
       "    </tr>\n",
       "    <tr>\n",
       "      <th>58</th>\n",
       "      <td>0.020503</td>\n",
       "      <td>-0.003494</td>\n",
       "      <td>0.037986</td>\n",
       "      <td>0.043308</td>\n",
       "      <td>0.045486</td>\n",
       "      <td>0.0075</td>\n",
       "      <td>0.104514</td>\n",
       "      <td>0.979553</td>\n",
       "      <td>0.980995</td>\n",
       "      <td>0.993908</td>\n",
       "      <td>0.995584</td>\n",
       "    </tr>\n",
       "    <tr>\n",
       "      <th>64</th>\n",
       "      <td>0.038195</td>\n",
       "      <td>0.025535</td>\n",
       "      <td>-0.002219</td>\n",
       "      <td>0.045998</td>\n",
       "      <td>0.019781</td>\n",
       "      <td>0.0220</td>\n",
       "      <td>0.130219</td>\n",
       "      <td>0.974588</td>\n",
       "      <td>0.976377</td>\n",
       "      <td>0.982236</td>\n",
       "      <td>0.987102</td>\n",
       "    </tr>\n",
       "  </tbody>\n",
       "</table>\n",
       "</div>"
      ],
      "text/plain": [
       "           x         y         z         r     z_new  d_bead  d_button  \\\n",
       "22  0.018911 -0.003026 -0.012924  0.023104  0.046276  0.0592  0.103724   \n",
       "46 -0.003344 -0.008650  0.031873  0.033194  0.049173  0.0173  0.100827   \n",
       "54 -0.040889  0.017363  0.022527  0.049808  0.023027  0.0005  0.126973   \n",
       "58  0.020503 -0.003494  0.037986  0.043308  0.045486  0.0075  0.104514   \n",
       "64  0.038195  0.025535 -0.002219  0.045998  0.019781  0.0220  0.130219   \n",
       "\n",
       "    button_transmission_prob_pb  button_transmission_prob_am  \\\n",
       "22                     0.979706                     0.981137   \n",
       "46                     0.980267                     0.981659   \n",
       "54                     0.975214                     0.976959   \n",
       "58                     0.979553                     0.980995   \n",
       "64                     0.974588                     0.976377   \n",
       "\n",
       "    bead_transmission_prob_pb  bead_transmission_prob_am  \n",
       "22                   0.952913                   0.965671  \n",
       "46                   0.986004                   0.989844  \n",
       "54                   0.999593                   0.999705  \n",
       "58                   0.993908                   0.995584  \n",
       "64                   0.982236                   0.987102  "
      ]
     },
     "execution_count": 18,
     "metadata": {},
     "output_type": "execute_result"
    }
   ],
   "source": [
    "#adding the transmississin though button\n",
    "bead_density=2.55#g/cm^3  \n",
    "df_less_copy.loc[:,'bead_transmission_prob_pb']=df_less_copy.apply(lambda x:transmission_prob(x['d_bead'],bead_mu_pb,bead_density),axis=1)\n",
    "df_less_copy.loc[:,'bead_transmission_prob_am']=df_less_copy.apply(lambda x:transmission_prob(x['d_bead'],bead_mu_am,bead_density),axis=1)\n",
    "df_less_copy.head()"
   ]
  },
  {
   "cell_type": "code",
   "execution_count": 19,
   "id": "cf2fcad5-a409-4e3c-9738-e308fb6dffe4",
   "metadata": {},
   "outputs": [
    {
     "data": {
      "text/html": [
       "<div>\n",
       "<style scoped>\n",
       "    .dataframe tbody tr th:only-of-type {\n",
       "        vertical-align: middle;\n",
       "    }\n",
       "\n",
       "    .dataframe tbody tr th {\n",
       "        vertical-align: top;\n",
       "    }\n",
       "\n",
       "    .dataframe thead th {\n",
       "        text-align: right;\n",
       "    }\n",
       "</style>\n",
       "<table border=\"1\" class=\"dataframe\">\n",
       "  <thead>\n",
       "    <tr style=\"text-align: right;\">\n",
       "      <th></th>\n",
       "      <th>x</th>\n",
       "      <th>y</th>\n",
       "      <th>z</th>\n",
       "      <th>r</th>\n",
       "      <th>z_new</th>\n",
       "      <th>d_bead</th>\n",
       "      <th>d_button</th>\n",
       "      <th>button_transmission_prob_pb</th>\n",
       "      <th>button_transmission_prob_am</th>\n",
       "      <th>bead_transmission_prob_pb</th>\n",
       "      <th>bead_transmission_prob_am</th>\n",
       "      <th>prob_product_pb</th>\n",
       "      <th>prob_product_am</th>\n",
       "    </tr>\n",
       "  </thead>\n",
       "  <tbody>\n",
       "    <tr>\n",
       "      <th>22</th>\n",
       "      <td>0.018911</td>\n",
       "      <td>-0.003026</td>\n",
       "      <td>-0.012924</td>\n",
       "      <td>0.023104</td>\n",
       "      <td>0.046276</td>\n",
       "      <td>0.0592</td>\n",
       "      <td>0.103724</td>\n",
       "      <td>0.979706</td>\n",
       "      <td>0.981137</td>\n",
       "      <td>0.952913</td>\n",
       "      <td>0.965671</td>\n",
       "      <td>0.933574</td>\n",
       "      <td>0.947456</td>\n",
       "    </tr>\n",
       "    <tr>\n",
       "      <th>46</th>\n",
       "      <td>-0.003344</td>\n",
       "      <td>-0.008650</td>\n",
       "      <td>0.031873</td>\n",
       "      <td>0.033194</td>\n",
       "      <td>0.049173</td>\n",
       "      <td>0.0173</td>\n",
       "      <td>0.100827</td>\n",
       "      <td>0.980267</td>\n",
       "      <td>0.981659</td>\n",
       "      <td>0.986004</td>\n",
       "      <td>0.989844</td>\n",
       "      <td>0.966547</td>\n",
       "      <td>0.971689</td>\n",
       "    </tr>\n",
       "    <tr>\n",
       "      <th>54</th>\n",
       "      <td>-0.040889</td>\n",
       "      <td>0.017363</td>\n",
       "      <td>0.022527</td>\n",
       "      <td>0.049808</td>\n",
       "      <td>0.023027</td>\n",
       "      <td>0.0005</td>\n",
       "      <td>0.126973</td>\n",
       "      <td>0.975214</td>\n",
       "      <td>0.976959</td>\n",
       "      <td>0.999593</td>\n",
       "      <td>0.999705</td>\n",
       "      <td>0.974816</td>\n",
       "      <td>0.976670</td>\n",
       "    </tr>\n",
       "    <tr>\n",
       "      <th>58</th>\n",
       "      <td>0.020503</td>\n",
       "      <td>-0.003494</td>\n",
       "      <td>0.037986</td>\n",
       "      <td>0.043308</td>\n",
       "      <td>0.045486</td>\n",
       "      <td>0.0075</td>\n",
       "      <td>0.104514</td>\n",
       "      <td>0.979553</td>\n",
       "      <td>0.980995</td>\n",
       "      <td>0.993908</td>\n",
       "      <td>0.995584</td>\n",
       "      <td>0.973586</td>\n",
       "      <td>0.976663</td>\n",
       "    </tr>\n",
       "    <tr>\n",
       "      <th>64</th>\n",
       "      <td>0.038195</td>\n",
       "      <td>0.025535</td>\n",
       "      <td>-0.002219</td>\n",
       "      <td>0.045998</td>\n",
       "      <td>0.019781</td>\n",
       "      <td>0.0220</td>\n",
       "      <td>0.130219</td>\n",
       "      <td>0.974588</td>\n",
       "      <td>0.976377</td>\n",
       "      <td>0.982236</td>\n",
       "      <td>0.987102</td>\n",
       "      <td>0.957275</td>\n",
       "      <td>0.963784</td>\n",
       "    </tr>\n",
       "  </tbody>\n",
       "</table>\n",
       "</div>"
      ],
      "text/plain": [
       "           x         y         z         r     z_new  d_bead  d_button  \\\n",
       "22  0.018911 -0.003026 -0.012924  0.023104  0.046276  0.0592  0.103724   \n",
       "46 -0.003344 -0.008650  0.031873  0.033194  0.049173  0.0173  0.100827   \n",
       "54 -0.040889  0.017363  0.022527  0.049808  0.023027  0.0005  0.126973   \n",
       "58  0.020503 -0.003494  0.037986  0.043308  0.045486  0.0075  0.104514   \n",
       "64  0.038195  0.025535 -0.002219  0.045998  0.019781  0.0220  0.130219   \n",
       "\n",
       "    button_transmission_prob_pb  button_transmission_prob_am  \\\n",
       "22                     0.979706                     0.981137   \n",
       "46                     0.980267                     0.981659   \n",
       "54                     0.975214                     0.976959   \n",
       "58                     0.979553                     0.980995   \n",
       "64                     0.974588                     0.976377   \n",
       "\n",
       "    bead_transmission_prob_pb  bead_transmission_prob_am  prob_product_pb  \\\n",
       "22                   0.952913                   0.965671         0.933574   \n",
       "46                   0.986004                   0.989844         0.966547   \n",
       "54                   0.999593                   0.999705         0.974816   \n",
       "58                   0.993908                   0.995584         0.973586   \n",
       "64                   0.982236                   0.987102         0.957275   \n",
       "\n",
       "    prob_product_am  \n",
       "22         0.947456  \n",
       "46         0.971689  \n",
       "54         0.976670  \n",
       "58         0.976663  \n",
       "64         0.963784  "
      ]
     },
     "execution_count": 19,
     "metadata": {},
     "output_type": "execute_result"
    }
   ],
   "source": [
    "N_generated=df_less.shape[0]\n",
    "#df_less['N_emitted']=df_less['button_transmission_prob']*df_less['bead_transmission_prob']*N_generated\n",
    "df_less_copy['prob_product_pb']=df_less_copy['button_transmission_prob_pb']*df_less_copy['bead_transmission_prob_pb']\n",
    "df_less_copy['prob_product_am']=df_less_copy['button_transmission_prob_am']*df_less_copy['bead_transmission_prob_am']\n",
    "df_less_copy.head()"
   ]
  },
  {
   "cell_type": "code",
   "execution_count": 20,
   "id": "afd6845d-d741-4509-934c-d718321d0e1a",
   "metadata": {},
   "outputs": [
    {
     "data": {
      "text/plain": [
       "0.958"
      ]
     },
     "execution_count": 20,
     "metadata": {},
     "output_type": "execute_result"
    }
   ],
   "source": [
    "#avg_of_prob_pb=round(df_less['prob_product_pb'].mean(),3)\n",
    "avg_of_prob_am=round(df_less_copy['prob_product_am'].mean(),3)\n",
    "avg_of_prob_am"
   ]
  },
  {
   "cell_type": "code",
   "execution_count": 21,
   "id": "3fec806f-d699-4744-b637-93a3c266335d",
   "metadata": {},
   "outputs": [
    {
     "data": {
      "text/plain": [
       "0.958"
      ]
     },
     "execution_count": 21,
     "metadata": {},
     "output_type": "execute_result"
    }
   ],
   "source": [
    "avg_random=round(df_less_copy['prob_product_am'].apply(lambda x:random_assign(x)).mean(),3)\n",
    "avg_random"
   ]
  },
  {
   "cell_type": "markdown",
   "id": "c184a543-0fe9-4522-b7a9-201b84cdb641",
   "metadata": {},
   "source": [
    "# IGNORE BELOW THIS"
   ]
  },
  {
   "cell_type": "code",
   "execution_count": 22,
   "id": "dcbf78b9-fc53-4f4a-a73d-61513958e116",
   "metadata": {},
   "outputs": [],
   "source": [
    "def get_prob_am(bead_density):\n",
    "    '''\n",
    "    returns the net prob of transmission for the chosen density of bead for am-241\n",
    "    '''\n",
    "    df_less_copy['bead_transmission_prob_am']=df_less_copy.apply(lambda x:transmission_prob(x['d_bead'],bead_mu_am,bead_density),axis=1)\n",
    "    df_less_copy['prob_product_am']=df_less_copy['button_transmission_prob_am']*df_less_copy['bead_transmission_prob_am']\n",
    "    avg_prob_am=round(df_less_copy['prob_product_am'].mean(),3)\n",
    "    return [bead_density,avg_prob_am]\n",
    "\n",
    "def get_prob_pb(bead_density):\n",
    "    '''\n",
    "    returns the net prob of transmission for the chosen density of bead for pb-210\n",
    "    '''\n",
    "    df_less_copy['bead_transmission_prob_pb']=df_less_copy.apply(lambda x:transmission_prob(x['d_bead'],bead_mu_pb,bead_density),axis=1)\n",
    "    df_less_copy['prob_product_pb']=df_less_copy['button_transmission_prob_pb']*df_less_copy['bead_transmission_prob_pb']\n",
    "    avg_prob_am=round(df_less_copy['prob_product_pb'].mean(),3)\n",
    "    return [bead_density,avg_prob_am]"
   ]
  },
  {
   "cell_type": "code",
   "execution_count": 27,
   "id": "668c493d-40a5-48ff-9add-b2cd251a4f4d",
   "metadata": {},
   "outputs": [
    {
     "name": "stdout",
     "output_type": "stream",
     "text": [
      "Prob of am 0.958\n",
      "\n",
      "test :[0.0, 0.98]\n",
      "test :[0.10204081632653061, 0.979]\n",
      "test :[0.20408163265306123, 0.978]\n",
      "test :[0.30612244897959184, 0.977]\n",
      "test :[0.40816326530612246, 0.976]\n",
      "test :[0.5102040816326531, 0.975]\n",
      "test :[0.6122448979591837, 0.974]\n",
      "test :[0.7142857142857143, 0.974]\n",
      "test :[0.8163265306122449, 0.973]\n",
      "test :[0.9183673469387755, 0.972]\n",
      "test :[1.0204081632653061, 0.971]\n",
      "test :[1.1224489795918369, 0.97]\n",
      "test :[1.2244897959183674, 0.969]\n",
      "test :[1.3265306122448979, 0.968]\n",
      "test :[1.4285714285714286, 0.968]\n",
      "test :[1.5306122448979593, 0.967]\n",
      "test :[1.6326530612244898, 0.966]\n",
      "test :[1.7346938775510203, 0.965]\n",
      "test :[1.836734693877551, 0.964]\n",
      "test :[1.9387755102040818, 0.963]\n",
      "test :[2.0408163265306123, 0.962]\n",
      "test :[2.142857142857143, 0.962]\n",
      "test :[2.2448979591836737, 0.961]\n",
      "test :[2.3469387755102042, 0.96]\n",
      "test :[2.4489795918367347, 0.959]\n",
      "test :[2.5510204081632653, 0.958]\n",
      "test :[2.6530612244897958, 0.957]\n",
      "test :[2.7551020408163267, 0.957]\n",
      "test :[2.857142857142857, 0.956]\n",
      "test :[2.9591836734693877, 0.955]\n",
      "test :[3.0612244897959187, 0.954]\n",
      "test :[3.163265306122449, 0.953]\n",
      "test :[3.2653061224489797, 0.952]\n",
      "test :[3.36734693877551, 0.952]\n",
      "test :[3.4693877551020407, 0.951]\n",
      "test :[3.5714285714285716, 0.95]\n",
      "test :[3.673469387755102, 0.949]\n",
      "test :[3.7755102040816326, 0.948]\n",
      "test :[3.8775510204081636, 0.947]\n",
      "test :[3.979591836734694, 0.947]\n",
      "test :[4.081632653061225, 0.946]\n",
      "test :[4.183673469387755, 0.945]\n",
      "test :[4.285714285714286, 0.944]\n",
      "test :[4.387755102040816, 0.943]\n",
      "test :[4.4897959183673475, 0.942]\n",
      "test :[4.591836734693878, 0.942]\n",
      "test :[4.6938775510204085, 0.941]\n",
      "test :[4.795918367346939, 0.94]\n",
      "test :[4.8979591836734695, 0.939]\n",
      "test :[5.0, 0.938]\n"
     ]
    }
   ],
   "source": [
    "print(f\"Prob of am {transmission_am}\\n\")\n",
    "density_prob_am=[]\n",
    "for i in np.linspace(0,5,50):\n",
    "    test=get_prob_am(i)\n",
    "    density_prob_am.append(test)\n",
    "    print(f\"test :{test}\")\n",
    "#df_less.head()\n",
    "    "
   ]
  },
  {
   "cell_type": "code",
   "execution_count": null,
   "id": "fb55fd34-72fe-45a6-999e-4e06aaf35ae2",
   "metadata": {},
   "outputs": [
    {
     "name": "stdout",
     "output_type": "stream",
     "text": [
      "Prob of pb 0.964\n",
      "\n",
      "test :[0.0, 0.978]\n",
      "test :[0.10204081632653061, 0.977]\n",
      "test :[0.20408163265306123, 0.976]\n",
      "test :[0.30612244897959184, 0.974]\n",
      "test :[0.40816326530612246, 0.973]\n",
      "test :[0.5102040816326531, 0.972]\n",
      "test :[0.6122448979591837, 0.971]\n",
      "test :[0.7142857142857143, 0.97]\n",
      "test :[0.8163265306122449, 0.969]\n",
      "test :[0.9183673469387755, 0.967]\n",
      "test :[1.0204081632653061, 0.966]\n",
      "test :[1.1224489795918369, 0.965]\n",
      "test :[1.2244897959183674, 0.964]\n",
      "test :[1.3265306122448979, 0.963]\n",
      "test :[1.4285714285714286, 0.961]\n",
      "test :[1.5306122448979593, 0.96]\n",
      "test :[1.6326530612244898, 0.959]\n",
      "test :[1.7346938775510203, 0.958]\n",
      "test :[1.836734693877551, 0.957]\n",
      "test :[1.9387755102040818, 0.956]\n",
      "test :[2.0408163265306123, 0.955]\n",
      "test :[2.142857142857143, 0.953]\n"
     ]
    }
   ],
   "source": [
    "print(f\"Prob of pb {transmission_pb}\\n\")\n",
    "density_prob_pb=[]\n",
    "for i in np.linspace(0,5,50):\n",
    "    test=get_prob_pb(i)\n",
    "    density_prob_pb.append(test)\n",
    "    print(f\"test :{test}\")\n",
    "#df_less.head()\n",
    "    "
   ]
  },
  {
   "cell_type": "code",
   "execution_count": 29,
   "id": "b10494be-0e8a-4a71-9b85-c8c8b5411911",
   "metadata": {},
   "outputs": [
    {
     "data": {
      "text/plain": [
       "[[0.0, 0.98],\n",
       " [0.10204081632653061, 0.979],\n",
       " [0.20408163265306123, 0.978],\n",
       " [0.30612244897959184, 0.977],\n",
       " [0.40816326530612246, 0.976],\n",
       " [0.5102040816326531, 0.975],\n",
       " [0.6122448979591837, 0.974],\n",
       " [0.7142857142857143, 0.974],\n",
       " [0.8163265306122449, 0.973],\n",
       " [0.9183673469387755, 0.972],\n",
       " [1.0204081632653061, 0.971],\n",
       " [1.1224489795918369, 0.97],\n",
       " [1.2244897959183674, 0.969],\n",
       " [1.3265306122448979, 0.968],\n",
       " [1.4285714285714286, 0.968],\n",
       " [1.5306122448979593, 0.967],\n",
       " [1.6326530612244898, 0.966],\n",
       " [1.7346938775510203, 0.965],\n",
       " [1.836734693877551, 0.964],\n",
       " [1.9387755102040818, 0.963],\n",
       " [2.0408163265306123, 0.962],\n",
       " [2.142857142857143, 0.962],\n",
       " [2.2448979591836737, 0.961],\n",
       " [2.3469387755102042, 0.96],\n",
       " [2.4489795918367347, 0.959],\n",
       " [2.5510204081632653, 0.958],\n",
       " [2.6530612244897958, 0.957],\n",
       " [2.7551020408163267, 0.957],\n",
       " [2.857142857142857, 0.956],\n",
       " [2.9591836734693877, 0.955],\n",
       " [3.0612244897959187, 0.954],\n",
       " [3.163265306122449, 0.953],\n",
       " [3.2653061224489797, 0.952],\n",
       " [3.36734693877551, 0.952],\n",
       " [3.4693877551020407, 0.951],\n",
       " [3.5714285714285716, 0.95],\n",
       " [3.673469387755102, 0.949],\n",
       " [3.7755102040816326, 0.948],\n",
       " [3.8775510204081636, 0.947],\n",
       " [3.979591836734694, 0.947],\n",
       " [4.081632653061225, 0.946],\n",
       " [4.183673469387755, 0.945],\n",
       " [4.285714285714286, 0.944],\n",
       " [4.387755102040816, 0.943],\n",
       " [4.4897959183673475, 0.942],\n",
       " [4.591836734693878, 0.942],\n",
       " [4.6938775510204085, 0.941],\n",
       " [4.795918367346939, 0.94],\n",
       " [4.8979591836734695, 0.939],\n",
       " [5.0, 0.938]]"
      ]
     },
     "execution_count": 29,
     "metadata": {},
     "output_type": "execute_result"
    }
   ],
   "source": [
    "density_prob_am"
   ]
  },
  {
   "cell_type": "code",
   "execution_count": 31,
   "id": "82b38492-f03e-44b8-9ffa-1501ebdfd3e8",
   "metadata": {},
   "outputs": [
    {
     "data": {
      "text/plain": [
       "[[0.0, 0.978],\n",
       " [0.20408163265306123, 0.976],\n",
       " [0.40816326530612246, 0.973],\n",
       " [0.6122448979591837, 0.971],\n",
       " [0.8163265306122449, 0.969],\n",
       " [1.0204081632653061, 0.966],\n",
       " [1.2244897959183674, 0.964],\n",
       " [1.4285714285714286, 0.961],\n",
       " [1.6326530612244898, 0.959],\n",
       " [1.836734693877551, 0.957],\n",
       " [2.0408163265306123, 0.955],\n",
       " [2.2448979591836737, 0.952],\n",
       " [2.4489795918367347, 0.95],\n",
       " [2.6530612244897958, 0.948],\n",
       " [2.857142857142857, 0.945],\n",
       " [3.0612244897959187, 0.943],\n",
       " [3.2653061224489797, 0.941],\n",
       " [3.4693877551020407, 0.939],\n",
       " [3.673469387755102, 0.936],\n",
       " [3.8775510204081636, 0.934],\n",
       " [4.081632653061225, 0.932],\n",
       " [4.285714285714286, 0.93],\n",
       " [4.4897959183673475, 0.927],\n",
       " [4.6938775510204085, 0.925],\n",
       " [4.8979591836734695, 0.923],\n",
       " [5.1020408163265305, 0.921],\n",
       " [5.3061224489795915, 0.919],\n",
       " [5.510204081632653, 0.916],\n",
       " [5.714285714285714, 0.914],\n",
       " [5.918367346938775, 0.912],\n",
       " [6.122448979591837, 0.91],\n",
       " [6.326530612244898, 0.908],\n",
       " [6.530612244897959, 0.906],\n",
       " [6.73469387755102, 0.903],\n",
       " [6.938775510204081, 0.901],\n",
       " [7.142857142857143, 0.899],\n",
       " [7.346938775510204, 0.897],\n",
       " [7.551020408163265, 0.895],\n",
       " [7.755102040816327, 0.893],\n",
       " [7.959183673469388, 0.891],\n",
       " [8.16326530612245, 0.889],\n",
       " [8.36734693877551, 0.887],\n",
       " [8.571428571428571, 0.885],\n",
       " [8.775510204081632, 0.882],\n",
       " [8.979591836734695, 0.88],\n",
       " [9.183673469387756, 0.878],\n",
       " [9.387755102040817, 0.876],\n",
       " [9.591836734693878, 0.874],\n",
       " [9.795918367346939, 0.872],\n",
       " [10.0, 0.87]]"
      ]
     },
     "execution_count": 31,
     "metadata": {},
     "output_type": "execute_result"
    }
   ],
   "source": [
    "density_prob_pb"
   ]
  },
  {
   "cell_type": "code",
   "execution_count": null,
   "id": "4cc12fc2-b499-4818-a3e2-1cef7354f605",
   "metadata": {},
   "outputs": [],
   "source": [
    "for i in np.linspace(0,1,0.1):\n",
    "    test=get_prob(i)\n",
    "    print(f\"test :{test}\")"
   ]
  },
  {
   "cell_type": "code",
   "execution_count": null,
   "id": "491bef8c-1c7f-4e76-a958-5409d06da051",
   "metadata": {},
   "outputs": [],
   "source": [
    "get_prob(0.3)"
   ]
  },
  {
   "cell_type": "code",
   "execution_count": null,
   "id": "ada8ea73-460b-4f9a-bbdd-04c55ea795da",
   "metadata": {},
   "outputs": [],
   "source": [
    "avg_prob=round(df_less['prob_product'].mean(),3)\n",
    "avg_prob"
   ]
  },
  {
   "cell_type": "code",
   "execution_count": null,
   "id": "4f034c55-8b32-4af4-bc7d-a12f3715a882",
   "metadata": {},
   "outputs": [],
   "source": [
    "prob=get_prob(0.1)"
   ]
  },
  {
   "cell_type": "code",
   "execution_count": null,
   "id": "667999ab-9a0b-48b2-86bb-492121d6798d",
   "metadata": {},
   "outputs": [],
   "source": [
    "prob"
   ]
  },
  {
   "cell_type": "code",
   "execution_count": null,
   "id": "ea1913a8-9031-4df1-b2f6-ddee5ccb9215",
   "metadata": {},
   "outputs": [],
   "source": [
    "for i in range(0.1,10.0,0.1):\n",
    "    prob=get_prob(i)\n",
    "    print(f\"prob: {prob}\")"
   ]
  },
  {
   "cell_type": "code",
   "execution_count": null,
   "id": "f45a3269-ee99-4549-87f0-7982be59f717",
   "metadata": {},
   "outputs": [],
   "source": []
  }
 ],
 "metadata": {
  "kernelspec": {
   "display_name": "Python 3 (ipykernel)",
   "language": "python",
   "name": "python3"
  },
  "language_info": {
   "codemirror_mode": {
    "name": "ipython",
    "version": 3
   },
   "file_extension": ".py",
   "mimetype": "text/x-python",
   "name": "python",
   "nbconvert_exporter": "python",
   "pygments_lexer": "ipython3",
   "version": "3.10.6"
  }
 },
 "nbformat": 4,
 "nbformat_minor": 5
}
